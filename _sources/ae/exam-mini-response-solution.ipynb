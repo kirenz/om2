{
 "cells": [
  {
   "attachments": {},
   "cell_type": "markdown",
   "metadata": {},
   "source": [
    "**Wichtige Hinweise**\n",
    "\n",
    "- Aktivieren Sie die Conda-Umgebung bevor Sie beginnen.\n",
    "\n",
    "- Geben Sie als `NAME` ihr HdM-Kürzel an.\n",
    "\n",
    "- Ändern Sie **nicht** den Namen der Datei und löschen Sie keine Zellen.\n",
    "\n",
    "- Bearbeiten Sie alle Zellen mit dem Hinweis <font color='green'> \\# YOUR CODE HERE </font> \n",
    "\n",
    "- Die Funktion **NotImplementedError()** soll die Abgabe von leeren Zellen verhindern. Löschen Sie die Funktion, sobald Sie in einer dieser Zellen arbeiten. \n",
    "\n",
    "- Stellen Sie sicher, dass alles wie erwartet läuft, bevor Sie die Prüfung abgeben: Starten Sie den Kernel neu und führen Sie alle Zellen aus: wählen Sie \"Restart\" und dann \"Run All\" \n",
    "\n",
    "\n",
    "Ich wünsche Ihnen viel Erfolg!"
   ]
  },
  {
   "cell_type": "code",
   "execution_count": 4,
   "metadata": {},
   "outputs": [],
   "source": [
    "NAME = \"jk123\""
   ]
  },
  {
   "cell_type": "code",
   "execution_count": 5,
   "metadata": {},
   "outputs": [],
   "source": [
    "import IPython\n",
    "assert IPython.version_info[0] >= 3, \"Your version of IPython is too old, please update it.\""
   ]
  },
  {
   "attachments": {},
   "cell_type": "markdown",
   "metadata": {},
   "source": [
    "---"
   ]
  },
  {
   "attachments": {},
   "cell_type": "markdown",
   "metadata": {
    "deletable": false,
    "editable": false,
    "nbgrader": {
     "cell_type": "markdown",
     "checksum": "fbab0da87cf91911f2608bed4d1073f3",
     "grade": false,
     "grade_id": "cell-9b2465372a022f8f",
     "locked": true,
     "schema_version": 3,
     "solution": false,
     "task": false
    },
    "slideshow": {
     "slide_type": "slide"
    }
   },
   "source": [
    "# E-Exam Notebook\n"
   ]
  },
  {
   "attachments": {},
   "cell_type": "markdown",
   "metadata": {
    "deletable": false,
    "editable": false,
    "nbgrader": {
     "cell_type": "markdown",
     "checksum": "3771708020acc0c7b4cd99afc42582c4",
     "grade": false,
     "grade_id": "cell-066cada65e959f44",
     "locked": true,
     "schema_version": 3,
     "solution": false,
     "task": false
    },
    "slideshow": {
     "slide_type": "fragment"
    }
   },
   "source": [
    "## Setup\n",
    "\n",
    "Importieren Sie die Bibliotheken (Sie werden nicht alle benötigen):"
   ]
  },
  {
   "cell_type": "code",
   "execution_count": 6,
   "metadata": {
    "deletable": false,
    "editable": false,
    "nbgrader": {
     "cell_type": "code",
     "checksum": "cec6ead69c4e658a0f83cc62ecb01c90",
     "grade": false,
     "grade_id": "setup",
     "locked": true,
     "schema_version": 3,
     "solution": false,
     "task": false
    },
    "slideshow": {
     "slide_type": "fragment"
    }
   },
   "outputs": [],
   "source": [
    "# Nehmen Sie keine Änderungen an dieser Zelle vor\n",
    "\n",
    "import pandas as pd\n",
    "import altair as alt\n",
    "alt.renderers.enable('mimetype')\n",
    "\n",
    "# Scikit-learn Bibliotheken\n",
    "\n",
    "from sklearn.tree import DecisionTreeClassifier\n",
    "from sklearn.tree import DecisionTreeRegressor\n",
    "\n",
    "from sklearn.ensemble import RandomForestClassifier\n",
    "from sklearn.ensemble import RandomForestRegressor\n",
    "\n",
    "from sklearn.ensemble import GradientBoostingClassifier\n",
    "from sklearn.ensemble import GradientBoostingRegressor\n",
    "\n",
    "from sklearn.model_selection import train_test_split\n",
    "from sklearn.metrics import accuracy_score, confusion_matrix, classification_report\n",
    "from sklearn.metrics import ConfusionMatrixDisplay\n",
    "from sklearn.metrics import classification_report\n",
    "from sklearn.metrics import RocCurveDisplay\n",
    "from sklearn.metrics import mean_squared_error\n",
    "from sklearn.metrics import mean_absolute_error\n",
    "\n",
    "# Weitere Hilfsbibliotheken\n",
    "import io\n",
    "import warnings\n",
    "warnings.simplefilter(action='ignore', category=FutureWarning)"
   ]
  },
  {
   "attachments": {},
   "cell_type": "markdown",
   "metadata": {
    "deletable": false,
    "editable": false,
    "nbgrader": {
     "cell_type": "markdown",
     "checksum": "dbb0a94bd6d6e1a16c341f571a47b6f4",
     "grade": false,
     "grade_id": "cell-d60c55ea62648a7a",
     "locked": true,
     "schema_version": 3,
     "solution": false,
     "task": false
    }
   },
   "source": [
    "## 1) Daten"
   ]
  },
  {
   "attachments": {},
   "cell_type": "markdown",
   "metadata": {
    "deletable": false,
    "editable": false,
    "nbgrader": {
     "cell_type": "markdown",
     "checksum": "d786fd96e20256f91fac40cb1e9e6fda",
     "grade": false,
     "grade_id": "cell-196f313fa1485b69",
     "locked": true,
     "schema_version": 3,
     "solution": false,
     "task": false
    }
   },
   "source": [
    "### Daten importieren"
   ]
  },
  {
   "attachments": {},
   "cell_type": "markdown",
   "metadata": {
    "deletable": false,
    "editable": false,
    "nbgrader": {
     "cell_type": "markdown",
     "checksum": "6a99c7204f565a393e75d8a011bfbe14",
     "grade": false,
     "grade_id": "cell-9a5d6dc92beaa2c1",
     "locked": true,
     "schema_version": 3,
     "solution": false,
     "task": false
    }
   },
   "source": [
    "- Importieren Sie die Daten:"
   ]
  },
  {
   "cell_type": "code",
   "execution_count": 7,
   "metadata": {},
   "outputs": [],
   "source": [
    "LINK = \"https://raw.githubusercontent.com/kirenz/datasets/master/mini_response.csv\""
   ]
  },
  {
   "cell_type": "code",
   "execution_count": 8,
   "metadata": {},
   "outputs": [],
   "source": [
    "df = pd.read_csv(LINK)"
   ]
  },
  {
   "attachments": {},
   "cell_type": "markdown",
   "metadata": {
    "deletable": false,
    "editable": false,
    "nbgrader": {
     "cell_type": "markdown",
     "checksum": "65ea5b0bcd7e176c813656f669663b96",
     "grade": false,
     "grade_id": "cell-26d88dcc3d6db559",
     "locked": true,
     "schema_version": 3,
     "solution": false,
     "task": false
    },
    "slideshow": {
     "slide_type": "subslide"
    }
   },
   "source": [
    "Verschaffen Sie sich eine Übersicht über die Daten: "
   ]
  },
  {
   "cell_type": "code",
   "execution_count": 9,
   "metadata": {
    "deletable": false,
    "editable": false,
    "nbgrader": {
     "cell_type": "code",
     "checksum": "c757ea374bdc9ff82d51c0bd30c14752",
     "grade": false,
     "grade_id": "cell-0e5c9e3346799411",
     "locked": true,
     "schema_version": 3,
     "solution": false,
     "task": false
    },
    "slideshow": {
     "slide_type": "subslide"
    }
   },
   "outputs": [
    {
     "data": {
      "text/html": [
       "<div>\n",
       "<style scoped>\n",
       "    .dataframe tbody tr th:only-of-type {\n",
       "        vertical-align: middle;\n",
       "    }\n",
       "\n",
       "    .dataframe tbody tr th {\n",
       "        vertical-align: top;\n",
       "    }\n",
       "\n",
       "    .dataframe thead th {\n",
       "        text-align: right;\n",
       "    }\n",
       "</style>\n",
       "<table border=\"1\" class=\"dataframe\">\n",
       "  <thead>\n",
       "    <tr style=\"text-align: right;\">\n",
       "      <th></th>\n",
       "      <th>Unnamed: 0</th>\n",
       "      <th>User ID</th>\n",
       "      <th>Gender</th>\n",
       "      <th>Age</th>\n",
       "      <th>salary</th>\n",
       "      <th>response</th>\n",
       "    </tr>\n",
       "  </thead>\n",
       "  <tbody>\n",
       "    <tr>\n",
       "      <th>0</th>\n",
       "      <td>1</td>\n",
       "      <td>15624510</td>\n",
       "      <td>Male</td>\n",
       "      <td>19</td>\n",
       "      <td>19000</td>\n",
       "      <td>0</td>\n",
       "    </tr>\n",
       "    <tr>\n",
       "      <th>1</th>\n",
       "      <td>2</td>\n",
       "      <td>15810944</td>\n",
       "      <td>Male</td>\n",
       "      <td>35</td>\n",
       "      <td>20000</td>\n",
       "      <td>0</td>\n",
       "    </tr>\n",
       "    <tr>\n",
       "      <th>2</th>\n",
       "      <td>3</td>\n",
       "      <td>15668575</td>\n",
       "      <td>Female</td>\n",
       "      <td>26</td>\n",
       "      <td>43000</td>\n",
       "      <td>0</td>\n",
       "    </tr>\n",
       "    <tr>\n",
       "      <th>3</th>\n",
       "      <td>4</td>\n",
       "      <td>15603246</td>\n",
       "      <td>Female</td>\n",
       "      <td>27</td>\n",
       "      <td>57000</td>\n",
       "      <td>0</td>\n",
       "    </tr>\n",
       "    <tr>\n",
       "      <th>4</th>\n",
       "      <td>5</td>\n",
       "      <td>15804002</td>\n",
       "      <td>Male</td>\n",
       "      <td>19</td>\n",
       "      <td>76000</td>\n",
       "      <td>0</td>\n",
       "    </tr>\n",
       "  </tbody>\n",
       "</table>\n",
       "</div>"
      ],
      "text/plain": [
       "   Unnamed: 0   User ID  Gender  Age  salary  response\n",
       "0           1  15624510    Male   19   19000         0\n",
       "1           2  15810944    Male   35   20000         0\n",
       "2           3  15668575  Female   26   43000         0\n",
       "3           4  15603246  Female   27   57000         0\n",
       "4           5  15804002    Male   19   76000         0"
      ]
     },
     "execution_count": 9,
     "metadata": {},
     "output_type": "execute_result"
    }
   ],
   "source": [
    "df.head()"
   ]
  },
  {
   "cell_type": "code",
   "execution_count": 10,
   "metadata": {
    "deletable": false,
    "editable": false,
    "nbgrader": {
     "cell_type": "code",
     "checksum": "1b07c19b2ba8192a4be0dfe3c5f145a1",
     "grade": false,
     "grade_id": "cell-19d1a463a1d8044c",
     "locked": true,
     "schema_version": 3,
     "solution": false,
     "task": false
    }
   },
   "outputs": [
    {
     "name": "stdout",
     "output_type": "stream",
     "text": [
      "<class 'pandas.core.frame.DataFrame'>\n",
      "RangeIndex: 400 entries, 0 to 399\n",
      "Data columns (total 6 columns):\n",
      " #   Column      Non-Null Count  Dtype \n",
      "---  ------      --------------  ----- \n",
      " 0   Unnamed: 0  400 non-null    int64 \n",
      " 1   User ID     400 non-null    int64 \n",
      " 2   Gender      400 non-null    object\n",
      " 3   Age         400 non-null    int64 \n",
      " 4   salary      400 non-null    int64 \n",
      " 5   response    400 non-null    int64 \n",
      "dtypes: int64(5), object(1)\n",
      "memory usage: 18.9+ KB\n"
     ]
    }
   ],
   "source": [
    "df.info()"
   ]
  },
  {
   "attachments": {},
   "cell_type": "markdown",
   "metadata": {
    "deletable": false,
    "editable": false,
    "nbgrader": {
     "cell_type": "markdown",
     "checksum": "286ba1b3971dfc3ce4fa75515ddcff8a",
     "grade": false,
     "grade_id": "cell-1f92cf9060ab1dff",
     "locked": true,
     "schema_version": 3,
     "solution": false,
     "task": false
    }
   },
   "source": [
    "### Daten transformieren"
   ]
  },
  {
   "attachments": {},
   "cell_type": "markdown",
   "metadata": {
    "deletable": false,
    "editable": false,
    "nbgrader": {
     "cell_type": "markdown",
     "checksum": "b85c39d2c612201d63f2b1f3ef7a36ea",
     "grade": false,
     "grade_id": "cell-d1b831606928a32d",
     "locked": true,
     "schema_version": 3,
     "solution": false,
     "task": false
    }
   },
   "source": [
    "- 1a) kategoriale Variablen:\n",
    "  - Erstellen Sie eine Liste, in der alle kategorialen Variablen aufgeführt werden \n",
    "  - Nennen Sie die Liste `list_cat`"
   ]
  },
  {
   "cell_type": "code",
   "execution_count": 11,
   "metadata": {
    "deletable": false,
    "nbgrader": {
     "cell_type": "code",
     "checksum": "2058dbc61296d005826083c5972632e2",
     "grade": false,
     "grade_id": "1a",
     "locked": false,
     "schema_version": 3,
     "solution": true,
     "task": false
    }
   },
   "outputs": [
    {
     "data": {
      "text/plain": [
       "['User ID', 'Gender', 'response', 'Unnamed: 0']"
      ]
     },
     "execution_count": 11,
     "metadata": {},
     "output_type": "execute_result"
    }
   ],
   "source": [
    "list_cat = ['User ID', 'Gender', 'response', 'Unnamed: 0']\n",
    "list_cat"
   ]
  },
  {
   "attachments": {},
   "cell_type": "markdown",
   "metadata": {
    "deletable": false,
    "editable": false,
    "nbgrader": {
     "cell_type": "markdown",
     "checksum": "e860db56acc64d9dc5623162733614fb",
     "grade": false,
     "grade_id": "cell-c44d18f0a8e0af48",
     "locked": true,
     "schema_version": 3,
     "solution": false,
     "task": false
    }
   },
   "source": [
    "- 1b) Führen Sie mit Hilfe von Pandas die Datentransformation für die kategoriale Variablen durch (Umwandeln in \"category\")"
   ]
  },
  {
   "cell_type": "code",
   "execution_count": 12,
   "metadata": {
    "deletable": false,
    "nbgrader": {
     "cell_type": "code",
     "checksum": "14b9deef20a33a2c2f2fbdfc51baefc5",
     "grade": false,
     "grade_id": "1b",
     "locked": false,
     "schema_version": 3,
     "solution": true,
     "task": false
    }
   },
   "outputs": [],
   "source": [
    "for i in list_cat:\n",
    "    df[i] = df[i].astype('category')"
   ]
  },
  {
   "cell_type": "code",
   "execution_count": 13,
   "metadata": {},
   "outputs": [
    {
     "name": "stdout",
     "output_type": "stream",
     "text": [
      "<class 'pandas.core.frame.DataFrame'>\n",
      "RangeIndex: 400 entries, 0 to 399\n",
      "Data columns (total 6 columns):\n",
      " #   Column      Non-Null Count  Dtype   \n",
      "---  ------      --------------  -----   \n",
      " 0   Unnamed: 0  400 non-null    category\n",
      " 1   User ID     400 non-null    category\n",
      " 2   Gender      400 non-null    category\n",
      " 3   Age         400 non-null    int64   \n",
      " 4   salary      400 non-null    int64   \n",
      " 5   response    400 non-null    category\n",
      "dtypes: category(4), int64(2)\n",
      "memory usage: 47.5 KB\n"
     ]
    }
   ],
   "source": [
    "df.info()"
   ]
  },
  {
   "cell_type": "code",
   "execution_count": 14,
   "metadata": {
    "deletable": false,
    "editable": false,
    "nbgrader": {
     "cell_type": "code",
     "checksum": "d9c07b7bedefe75a7d70338fd8c72067",
     "grade": true,
     "grade_id": "1a_c1",
     "locked": true,
     "points": 1,
     "schema_version": 3,
     "solution": false,
     "task": false
    }
   },
   "outputs": [],
   "source": [
    "# Nehmen Sie keine Änderungen an dieser Zelle vor"
   ]
  },
  {
   "cell_type": "code",
   "execution_count": 15,
   "metadata": {
    "deletable": false,
    "editable": false,
    "nbgrader": {
     "cell_type": "code",
     "checksum": "32b9d5621b2a8097880647d735fff7a7",
     "grade": true,
     "grade_id": "1a_c2",
     "locked": true,
     "points": 1,
     "schema_version": 3,
     "solution": false,
     "task": false
    }
   },
   "outputs": [],
   "source": [
    "# Nehmen Sie keine Änderungen an dieser Zelle vor"
   ]
  },
  {
   "cell_type": "code",
   "execution_count": 16,
   "metadata": {
    "deletable": false,
    "editable": false,
    "nbgrader": {
     "cell_type": "code",
     "checksum": "45fcf5e9f19383f7d50237e6e4928c88",
     "grade": true,
     "grade_id": "1a_c3",
     "locked": true,
     "points": 1,
     "schema_version": 3,
     "solution": false,
     "task": false
    }
   },
   "outputs": [],
   "source": [
    "# Nehmen Sie keine Änderungen an dieser Zelle vor"
   ]
  },
  {
   "cell_type": "code",
   "execution_count": 17,
   "metadata": {
    "deletable": false,
    "editable": false,
    "nbgrader": {
     "cell_type": "code",
     "checksum": "a52b673a1d97d293008deb037d8586fc",
     "grade": true,
     "grade_id": "1b_c",
     "locked": true,
     "points": 2,
     "schema_version": 3,
     "solution": false,
     "task": false
    }
   },
   "outputs": [],
   "source": [
    "# Nehmen Sie keine Änderungen an dieser Zelle vor"
   ]
  },
  {
   "attachments": {},
   "cell_type": "markdown",
   "metadata": {
    "deletable": false,
    "editable": false,
    "nbgrader": {
     "cell_type": "markdown",
     "checksum": "aa560894185b890be7716c663f8aef5c",
     "grade": false,
     "grade_id": "cell-c5f3f3d7183de825",
     "locked": true,
     "schema_version": 3,
     "solution": false,
     "task": false
    }
   },
   "source": [
    "### Variablen für Modellierung vorbereiten"
   ]
  },
  {
   "attachments": {},
   "cell_type": "markdown",
   "metadata": {
    "deletable": false,
    "editable": false,
    "nbgrader": {
     "cell_type": "markdown",
     "checksum": "2c72cb1d342277ba189bbcabc6faf39c",
     "grade": false,
     "grade_id": "cell-59a994445e751c75",
     "locked": true,
     "schema_version": 3,
     "solution": false,
     "task": false
    },
    "slideshow": {
     "slide_type": "slide"
    }
   },
   "source": [
    "Sie sollen ein Modell erstellen, mit dessen Hilfe vorhergesagt wird, ob eine Person auf einen Call-to-Action reagiert (Variable `response`).\n"
   ]
  },
  {
   "cell_type": "code",
   "execution_count": 18,
   "metadata": {
    "deletable": false,
    "editable": false,
    "nbgrader": {
     "cell_type": "code",
     "checksum": "386965745daa6903b79e633f6c92274f",
     "grade": false,
     "grade_id": "var",
     "locked": true,
     "schema_version": 3,
     "solution": false,
     "task": false
    },
    "slideshow": {
     "slide_type": "fragment"
    }
   },
   "outputs": [],
   "source": [
    "# Wir erzeugen das y_label\n",
    "y_label = \"response\"\n",
    "\n",
    "# Wir nutzen alle geeigneten unabhängigen Variablen in dem Modell (und entfernen die abhängige Variable)\n",
    "X = df[['Age', 'salary']]\n",
    "\n",
    "# Wir erzeugen die abhängige Variable\n",
    "y = df[y_label]"
   ]
  },
  {
   "attachments": {},
   "cell_type": "markdown",
   "metadata": {
    "deletable": false,
    "editable": false,
    "nbgrader": {
     "cell_type": "markdown",
     "checksum": "b55b51ecd52edb93003c9725b0689425",
     "grade": false,
     "grade_id": "cell-7f0af80386af3a7a",
     "locked": true,
     "schema_version": 3,
     "solution": false,
     "task": false
    }
   },
   "source": [
    "## 2) Analyse"
   ]
  },
  {
   "attachments": {},
   "cell_type": "markdown",
   "metadata": {
    "deletable": false,
    "editable": false,
    "nbgrader": {
     "cell_type": "markdown",
     "checksum": "8987ceb1d5d56f6f7358bf94d55504ca",
     "grade": false,
     "grade_id": "cell-3b9a65c46f50a50c",
     "locked": true,
     "schema_version": 3,
     "solution": false,
     "task": false
    }
   },
   "source": [
    "### Deskriptive Analyse"
   ]
  },
  {
   "attachments": {},
   "cell_type": "markdown",
   "metadata": {
    "deletable": false,
    "editable": false,
    "nbgrader": {
     "cell_type": "markdown",
     "checksum": "c8347157b66dbe3b2d486acaf6b97c40",
     "grade": false,
     "grade_id": "cell-1e2d5f78961d1643",
     "locked": true,
     "schema_version": 3,
     "solution": false,
     "task": false
    }
   },
   "source": [
    "- 2a) Statistische Kennzahlen\n",
    "  - Erstellen Sie mit Pandas eine Tabelle mit statistischen Kennzahlen für die numerischen Variablen  \n",
    "  - Speichern Sie das Ergebnis als `df_stats`"
   ]
  },
  {
   "cell_type": "code",
   "execution_count": 19,
   "metadata": {
    "deletable": false,
    "nbgrader": {
     "cell_type": "code",
     "checksum": "993d36cc155397bbe43169ba1abd34be",
     "grade": false,
     "grade_id": "2a",
     "locked": false,
     "schema_version": 3,
     "solution": true,
     "task": false
    }
   },
   "outputs": [],
   "source": [
    "df_stats = df.describe()"
   ]
  },
  {
   "attachments": {},
   "cell_type": "markdown",
   "metadata": {
    "deletable": false,
    "editable": false,
    "nbgrader": {
     "cell_type": "markdown",
     "checksum": "c97aa5a8a686bdf03a91a6782b579093",
     "grade": false,
     "grade_id": "cell-1fbedb0b32a460b8",
     "locked": true,
     "schema_version": 3,
     "solution": false,
     "task": false
    }
   },
   "source": [
    "Lassen Sie die Tabelle anzeigen:"
   ]
  },
  {
   "cell_type": "code",
   "execution_count": 20,
   "metadata": {
    "deletable": false,
    "editable": false,
    "nbgrader": {
     "cell_type": "code",
     "checksum": "9d98327c4707f00005b48f7eecfd5210",
     "grade": false,
     "grade_id": "cell-a2529183da9832ab",
     "locked": true,
     "schema_version": 3,
     "solution": false,
     "task": false
    }
   },
   "outputs": [
    {
     "data": {
      "text/html": [
       "<div>\n",
       "<style scoped>\n",
       "    .dataframe tbody tr th:only-of-type {\n",
       "        vertical-align: middle;\n",
       "    }\n",
       "\n",
       "    .dataframe tbody tr th {\n",
       "        vertical-align: top;\n",
       "    }\n",
       "\n",
       "    .dataframe thead th {\n",
       "        text-align: right;\n",
       "    }\n",
       "</style>\n",
       "<table border=\"1\" class=\"dataframe\">\n",
       "  <thead>\n",
       "    <tr style=\"text-align: right;\">\n",
       "      <th></th>\n",
       "      <th>Age</th>\n",
       "      <th>salary</th>\n",
       "    </tr>\n",
       "  </thead>\n",
       "  <tbody>\n",
       "    <tr>\n",
       "      <th>count</th>\n",
       "      <td>400.000000</td>\n",
       "      <td>400.000000</td>\n",
       "    </tr>\n",
       "    <tr>\n",
       "      <th>mean</th>\n",
       "      <td>37.655000</td>\n",
       "      <td>69742.500000</td>\n",
       "    </tr>\n",
       "    <tr>\n",
       "      <th>std</th>\n",
       "      <td>10.482877</td>\n",
       "      <td>34096.960282</td>\n",
       "    </tr>\n",
       "    <tr>\n",
       "      <th>min</th>\n",
       "      <td>18.000000</td>\n",
       "      <td>15000.000000</td>\n",
       "    </tr>\n",
       "    <tr>\n",
       "      <th>25%</th>\n",
       "      <td>29.750000</td>\n",
       "      <td>43000.000000</td>\n",
       "    </tr>\n",
       "    <tr>\n",
       "      <th>50%</th>\n",
       "      <td>37.000000</td>\n",
       "      <td>70000.000000</td>\n",
       "    </tr>\n",
       "    <tr>\n",
       "      <th>75%</th>\n",
       "      <td>46.000000</td>\n",
       "      <td>88000.000000</td>\n",
       "    </tr>\n",
       "    <tr>\n",
       "      <th>max</th>\n",
       "      <td>60.000000</td>\n",
       "      <td>150000.000000</td>\n",
       "    </tr>\n",
       "  </tbody>\n",
       "</table>\n",
       "</div>"
      ],
      "text/plain": [
       "              Age         salary\n",
       "count  400.000000     400.000000\n",
       "mean    37.655000   69742.500000\n",
       "std     10.482877   34096.960282\n",
       "min     18.000000   15000.000000\n",
       "25%     29.750000   43000.000000\n",
       "50%     37.000000   70000.000000\n",
       "75%     46.000000   88000.000000\n",
       "max     60.000000  150000.000000"
      ]
     },
     "execution_count": 20,
     "metadata": {},
     "output_type": "execute_result"
    }
   ],
   "source": [
    "# Nehmen Sie keine Änderungen an dieser Zelle vor\n",
    "\n",
    "df_stats"
   ]
  },
  {
   "cell_type": "code",
   "execution_count": 21,
   "metadata": {
    "deletable": false,
    "editable": false,
    "nbgrader": {
     "cell_type": "code",
     "checksum": "8fbcbf5f581592d0c3dd4c876a4603c1",
     "grade": true,
     "grade_id": "2a_c",
     "locked": true,
     "points": 1,
     "schema_version": 3,
     "solution": false,
     "task": false
    }
   },
   "outputs": [],
   "source": [
    "# Nehmen Sie keine Änderungen an dieser Zelle vor\n"
   ]
  },
  {
   "attachments": {},
   "cell_type": "markdown",
   "metadata": {
    "deletable": false,
    "editable": false,
    "nbgrader": {
     "cell_type": "markdown",
     "checksum": "c25e577abc0d027965dd5a299945c0a3",
     "grade": false,
     "grade_id": "cell-72852d457cf819ea",
     "locked": true,
     "schema_version": 3,
     "solution": false,
     "task": false
    }
   },
   "source": [
    "### 3) Explorative Analyse"
   ]
  },
  {
   "attachments": {},
   "cell_type": "markdown",
   "metadata": {
    "deletable": false,
    "editable": false,
    "nbgrader": {
     "cell_type": "markdown",
     "checksum": "08c79d456b796f160417aa9459d72c06",
     "grade": false,
     "grade_id": "cell-2fa6ea48aeb3c005",
     "locked": true,
     "schema_version": 3,
     "solution": false,
     "task": false
    }
   },
   "source": [
    "- 3a) Erzeugen Sie eine Abbildung, in welcher Sie den Zusammenhang zwischen einer beliebigen unabhängigen und der abhängigen Variable untersuchen. Wählen Sie eine geeignete Darstellungsform, zeigen Sie das Plot und interpretieren Sie das Ergebnis. "
   ]
  },
  {
   "cell_type": "code",
   "execution_count": 22,
   "metadata": {
    "deletable": false,
    "nbgrader": {
     "cell_type": "code",
     "checksum": "ff806b57798b129e9c952cd63e8ae471",
     "grade": false,
     "grade_id": "3a",
     "locked": false,
     "schema_version": 3,
     "solution": true,
     "task": false
    }
   },
   "outputs": [
    {
     "data": {
      "application/vnd.vegalite.v4+json": {
       "$schema": "https://vega.github.io/schema/vega-lite/v4.17.0.json",
       "config": {
        "view": {
         "continuousHeight": 300,
         "continuousWidth": 400
        }
       },
       "data": {
        "name": "data-7b9391470e28fb037ef95486cc022f9d"
       },
       "datasets": {
        "data-7b9391470e28fb037ef95486cc022f9d": [
         {
          "Age": 19,
          "Gender": "Male",
          "Unnamed: 0": 1,
          "User ID": 15624510,
          "response": 0,
          "salary": 19000
         },
         {
          "Age": 35,
          "Gender": "Male",
          "Unnamed: 0": 2,
          "User ID": 15810944,
          "response": 0,
          "salary": 20000
         },
         {
          "Age": 26,
          "Gender": "Female",
          "Unnamed: 0": 3,
          "User ID": 15668575,
          "response": 0,
          "salary": 43000
         },
         {
          "Age": 27,
          "Gender": "Female",
          "Unnamed: 0": 4,
          "User ID": 15603246,
          "response": 0,
          "salary": 57000
         },
         {
          "Age": 19,
          "Gender": "Male",
          "Unnamed: 0": 5,
          "User ID": 15804002,
          "response": 0,
          "salary": 76000
         },
         {
          "Age": 27,
          "Gender": "Male",
          "Unnamed: 0": 6,
          "User ID": 15728773,
          "response": 0,
          "salary": 58000
         },
         {
          "Age": 27,
          "Gender": "Female",
          "Unnamed: 0": 7,
          "User ID": 15598044,
          "response": 0,
          "salary": 84000
         },
         {
          "Age": 32,
          "Gender": "Female",
          "Unnamed: 0": 8,
          "User ID": 15694829,
          "response": 1,
          "salary": 150000
         },
         {
          "Age": 25,
          "Gender": "Male",
          "Unnamed: 0": 9,
          "User ID": 15600575,
          "response": 0,
          "salary": 33000
         },
         {
          "Age": 35,
          "Gender": "Female",
          "Unnamed: 0": 10,
          "User ID": 15727311,
          "response": 0,
          "salary": 65000
         },
         {
          "Age": 26,
          "Gender": "Female",
          "Unnamed: 0": 11,
          "User ID": 15570769,
          "response": 0,
          "salary": 80000
         },
         {
          "Age": 26,
          "Gender": "Female",
          "Unnamed: 0": 12,
          "User ID": 15606274,
          "response": 0,
          "salary": 52000
         },
         {
          "Age": 20,
          "Gender": "Male",
          "Unnamed: 0": 13,
          "User ID": 15746139,
          "response": 0,
          "salary": 86000
         },
         {
          "Age": 32,
          "Gender": "Male",
          "Unnamed: 0": 14,
          "User ID": 15704987,
          "response": 0,
          "salary": 18000
         },
         {
          "Age": 18,
          "Gender": "Male",
          "Unnamed: 0": 15,
          "User ID": 15628972,
          "response": 0,
          "salary": 82000
         },
         {
          "Age": 29,
          "Gender": "Male",
          "Unnamed: 0": 16,
          "User ID": 15697686,
          "response": 0,
          "salary": 80000
         },
         {
          "Age": 47,
          "Gender": "Male",
          "Unnamed: 0": 17,
          "User ID": 15733883,
          "response": 1,
          "salary": 25000
         },
         {
          "Age": 45,
          "Gender": "Male",
          "Unnamed: 0": 18,
          "User ID": 15617482,
          "response": 1,
          "salary": 26000
         },
         {
          "Age": 46,
          "Gender": "Male",
          "Unnamed: 0": 19,
          "User ID": 15704583,
          "response": 1,
          "salary": 28000
         },
         {
          "Age": 48,
          "Gender": "Female",
          "Unnamed: 0": 20,
          "User ID": 15621083,
          "response": 1,
          "salary": 29000
         },
         {
          "Age": 45,
          "Gender": "Male",
          "Unnamed: 0": 21,
          "User ID": 15649487,
          "response": 1,
          "salary": 22000
         },
         {
          "Age": 47,
          "Gender": "Female",
          "Unnamed: 0": 22,
          "User ID": 15736760,
          "response": 1,
          "salary": 49000
         },
         {
          "Age": 48,
          "Gender": "Male",
          "Unnamed: 0": 23,
          "User ID": 15714658,
          "response": 1,
          "salary": 41000
         },
         {
          "Age": 45,
          "Gender": "Female",
          "Unnamed: 0": 24,
          "User ID": 15599081,
          "response": 1,
          "salary": 22000
         },
         {
          "Age": 46,
          "Gender": "Male",
          "Unnamed: 0": 25,
          "User ID": 15705113,
          "response": 1,
          "salary": 23000
         },
         {
          "Age": 47,
          "Gender": "Male",
          "Unnamed: 0": 26,
          "User ID": 15631159,
          "response": 1,
          "salary": 20000
         },
         {
          "Age": 49,
          "Gender": "Male",
          "Unnamed: 0": 27,
          "User ID": 15792818,
          "response": 1,
          "salary": 28000
         },
         {
          "Age": 47,
          "Gender": "Female",
          "Unnamed: 0": 28,
          "User ID": 15633531,
          "response": 1,
          "salary": 30000
         },
         {
          "Age": 29,
          "Gender": "Male",
          "Unnamed: 0": 29,
          "User ID": 15744529,
          "response": 0,
          "salary": 43000
         },
         {
          "Age": 31,
          "Gender": "Male",
          "Unnamed: 0": 30,
          "User ID": 15669656,
          "response": 0,
          "salary": 18000
         },
         {
          "Age": 31,
          "Gender": "Male",
          "Unnamed: 0": 31,
          "User ID": 15581198,
          "response": 0,
          "salary": 74000
         },
         {
          "Age": 27,
          "Gender": "Female",
          "Unnamed: 0": 32,
          "User ID": 15729054,
          "response": 1,
          "salary": 137000
         },
         {
          "Age": 21,
          "Gender": "Female",
          "Unnamed: 0": 33,
          "User ID": 15573452,
          "response": 0,
          "salary": 16000
         },
         {
          "Age": 28,
          "Gender": "Female",
          "Unnamed: 0": 34,
          "User ID": 15776733,
          "response": 0,
          "salary": 44000
         },
         {
          "Age": 27,
          "Gender": "Male",
          "Unnamed: 0": 35,
          "User ID": 15724858,
          "response": 0,
          "salary": 90000
         },
         {
          "Age": 35,
          "Gender": "Male",
          "Unnamed: 0": 36,
          "User ID": 15713144,
          "response": 0,
          "salary": 27000
         },
         {
          "Age": 33,
          "Gender": "Female",
          "Unnamed: 0": 37,
          "User ID": 15690188,
          "response": 0,
          "salary": 28000
         },
         {
          "Age": 30,
          "Gender": "Male",
          "Unnamed: 0": 38,
          "User ID": 15689425,
          "response": 0,
          "salary": 49000
         },
         {
          "Age": 26,
          "Gender": "Female",
          "Unnamed: 0": 39,
          "User ID": 15671766,
          "response": 0,
          "salary": 72000
         },
         {
          "Age": 27,
          "Gender": "Female",
          "Unnamed: 0": 40,
          "User ID": 15782806,
          "response": 0,
          "salary": 31000
         },
         {
          "Age": 27,
          "Gender": "Female",
          "Unnamed: 0": 41,
          "User ID": 15764419,
          "response": 0,
          "salary": 17000
         },
         {
          "Age": 33,
          "Gender": "Female",
          "Unnamed: 0": 42,
          "User ID": 15591915,
          "response": 0,
          "salary": 51000
         },
         {
          "Age": 35,
          "Gender": "Male",
          "Unnamed: 0": 43,
          "User ID": 15772798,
          "response": 0,
          "salary": 108000
         },
         {
          "Age": 30,
          "Gender": "Male",
          "Unnamed: 0": 44,
          "User ID": 15792008,
          "response": 0,
          "salary": 15000
         },
         {
          "Age": 28,
          "Gender": "Female",
          "Unnamed: 0": 45,
          "User ID": 15715541,
          "response": 0,
          "salary": 84000
         },
         {
          "Age": 23,
          "Gender": "Male",
          "Unnamed: 0": 46,
          "User ID": 15639277,
          "response": 0,
          "salary": 20000
         },
         {
          "Age": 25,
          "Gender": "Male",
          "Unnamed: 0": 47,
          "User ID": 15798850,
          "response": 0,
          "salary": 79000
         },
         {
          "Age": 27,
          "Gender": "Female",
          "Unnamed: 0": 48,
          "User ID": 15776348,
          "response": 0,
          "salary": 54000
         },
         {
          "Age": 30,
          "Gender": "Male",
          "Unnamed: 0": 49,
          "User ID": 15727696,
          "response": 1,
          "salary": 135000
         },
         {
          "Age": 31,
          "Gender": "Female",
          "Unnamed: 0": 50,
          "User ID": 15793813,
          "response": 0,
          "salary": 89000
         },
         {
          "Age": 24,
          "Gender": "Female",
          "Unnamed: 0": 51,
          "User ID": 15694395,
          "response": 0,
          "salary": 32000
         },
         {
          "Age": 18,
          "Gender": "Female",
          "Unnamed: 0": 52,
          "User ID": 15764195,
          "response": 0,
          "salary": 44000
         },
         {
          "Age": 29,
          "Gender": "Female",
          "Unnamed: 0": 53,
          "User ID": 15744919,
          "response": 0,
          "salary": 83000
         },
         {
          "Age": 35,
          "Gender": "Female",
          "Unnamed: 0": 54,
          "User ID": 15671655,
          "response": 0,
          "salary": 23000
         },
         {
          "Age": 27,
          "Gender": "Female",
          "Unnamed: 0": 55,
          "User ID": 15654901,
          "response": 0,
          "salary": 58000
         },
         {
          "Age": 24,
          "Gender": "Female",
          "Unnamed: 0": 56,
          "User ID": 15649136,
          "response": 0,
          "salary": 55000
         },
         {
          "Age": 23,
          "Gender": "Female",
          "Unnamed: 0": 57,
          "User ID": 15775562,
          "response": 0,
          "salary": 48000
         },
         {
          "Age": 28,
          "Gender": "Male",
          "Unnamed: 0": 58,
          "User ID": 15807481,
          "response": 0,
          "salary": 79000
         },
         {
          "Age": 22,
          "Gender": "Male",
          "Unnamed: 0": 59,
          "User ID": 15642885,
          "response": 0,
          "salary": 18000
         },
         {
          "Age": 32,
          "Gender": "Female",
          "Unnamed: 0": 60,
          "User ID": 15789109,
          "response": 0,
          "salary": 117000
         },
         {
          "Age": 27,
          "Gender": "Male",
          "Unnamed: 0": 61,
          "User ID": 15814004,
          "response": 0,
          "salary": 20000
         },
         {
          "Age": 25,
          "Gender": "Male",
          "Unnamed: 0": 62,
          "User ID": 15673619,
          "response": 0,
          "salary": 87000
         },
         {
          "Age": 23,
          "Gender": "Female",
          "Unnamed: 0": 63,
          "User ID": 15595135,
          "response": 0,
          "salary": 66000
         },
         {
          "Age": 32,
          "Gender": "Male",
          "Unnamed: 0": 64,
          "User ID": 15583681,
          "response": 1,
          "salary": 120000
         },
         {
          "Age": 59,
          "Gender": "Female",
          "Unnamed: 0": 65,
          "User ID": 15605000,
          "response": 0,
          "salary": 83000
         },
         {
          "Age": 24,
          "Gender": "Male",
          "Unnamed: 0": 66,
          "User ID": 15718071,
          "response": 0,
          "salary": 58000
         },
         {
          "Age": 24,
          "Gender": "Male",
          "Unnamed: 0": 67,
          "User ID": 15679760,
          "response": 0,
          "salary": 19000
         },
         {
          "Age": 23,
          "Gender": "Female",
          "Unnamed: 0": 68,
          "User ID": 15654574,
          "response": 0,
          "salary": 82000
         },
         {
          "Age": 22,
          "Gender": "Female",
          "Unnamed: 0": 69,
          "User ID": 15577178,
          "response": 0,
          "salary": 63000
         },
         {
          "Age": 31,
          "Gender": "Female",
          "Unnamed: 0": 70,
          "User ID": 15595324,
          "response": 0,
          "salary": 68000
         },
         {
          "Age": 25,
          "Gender": "Male",
          "Unnamed: 0": 71,
          "User ID": 15756932,
          "response": 0,
          "salary": 80000
         },
         {
          "Age": 24,
          "Gender": "Female",
          "Unnamed: 0": 72,
          "User ID": 15726358,
          "response": 0,
          "salary": 27000
         },
         {
          "Age": 20,
          "Gender": "Female",
          "Unnamed: 0": 73,
          "User ID": 15595228,
          "response": 0,
          "salary": 23000
         },
         {
          "Age": 33,
          "Gender": "Female",
          "Unnamed: 0": 74,
          "User ID": 15782530,
          "response": 0,
          "salary": 113000
         },
         {
          "Age": 32,
          "Gender": "Male",
          "Unnamed: 0": 75,
          "User ID": 15592877,
          "response": 0,
          "salary": 18000
         },
         {
          "Age": 34,
          "Gender": "Male",
          "Unnamed: 0": 76,
          "User ID": 15651983,
          "response": 1,
          "salary": 112000
         },
         {
          "Age": 18,
          "Gender": "Male",
          "Unnamed: 0": 77,
          "User ID": 15746737,
          "response": 0,
          "salary": 52000
         },
         {
          "Age": 22,
          "Gender": "Female",
          "Unnamed: 0": 78,
          "User ID": 15774179,
          "response": 0,
          "salary": 27000
         },
         {
          "Age": 28,
          "Gender": "Female",
          "Unnamed: 0": 79,
          "User ID": 15667265,
          "response": 0,
          "salary": 87000
         },
         {
          "Age": 26,
          "Gender": "Female",
          "Unnamed: 0": 80,
          "User ID": 15655123,
          "response": 0,
          "salary": 17000
         },
         {
          "Age": 30,
          "Gender": "Male",
          "Unnamed: 0": 81,
          "User ID": 15595917,
          "response": 0,
          "salary": 80000
         },
         {
          "Age": 39,
          "Gender": "Male",
          "Unnamed: 0": 82,
          "User ID": 15668385,
          "response": 0,
          "salary": 42000
         },
         {
          "Age": 20,
          "Gender": "Male",
          "Unnamed: 0": 83,
          "User ID": 15709476,
          "response": 0,
          "salary": 49000
         },
         {
          "Age": 35,
          "Gender": "Male",
          "Unnamed: 0": 84,
          "User ID": 15711218,
          "response": 0,
          "salary": 88000
         },
         {
          "Age": 30,
          "Gender": "Female",
          "Unnamed: 0": 85,
          "User ID": 15798659,
          "response": 0,
          "salary": 62000
         },
         {
          "Age": 31,
          "Gender": "Female",
          "Unnamed: 0": 86,
          "User ID": 15663939,
          "response": 1,
          "salary": 118000
         },
         {
          "Age": 24,
          "Gender": "Male",
          "Unnamed: 0": 87,
          "User ID": 15694946,
          "response": 0,
          "salary": 55000
         },
         {
          "Age": 28,
          "Gender": "Female",
          "Unnamed: 0": 88,
          "User ID": 15631912,
          "response": 0,
          "salary": 85000
         },
         {
          "Age": 26,
          "Gender": "Male",
          "Unnamed: 0": 89,
          "User ID": 15768816,
          "response": 0,
          "salary": 81000
         },
         {
          "Age": 35,
          "Gender": "Male",
          "Unnamed: 0": 90,
          "User ID": 15682268,
          "response": 0,
          "salary": 50000
         },
         {
          "Age": 22,
          "Gender": "Male",
          "Unnamed: 0": 91,
          "User ID": 15684801,
          "response": 0,
          "salary": 81000
         },
         {
          "Age": 30,
          "Gender": "Female",
          "Unnamed: 0": 92,
          "User ID": 15636428,
          "response": 0,
          "salary": 116000
         },
         {
          "Age": 26,
          "Gender": "Male",
          "Unnamed: 0": 93,
          "User ID": 15809823,
          "response": 0,
          "salary": 15000
         },
         {
          "Age": 29,
          "Gender": "Female",
          "Unnamed: 0": 94,
          "User ID": 15699284,
          "response": 0,
          "salary": 28000
         },
         {
          "Age": 29,
          "Gender": "Female",
          "Unnamed: 0": 95,
          "User ID": 15786993,
          "response": 0,
          "salary": 83000
         },
         {
          "Age": 35,
          "Gender": "Female",
          "Unnamed: 0": 96,
          "User ID": 15709441,
          "response": 0,
          "salary": 44000
         },
         {
          "Age": 35,
          "Gender": "Female",
          "Unnamed: 0": 97,
          "User ID": 15710257,
          "response": 0,
          "salary": 25000
         },
         {
          "Age": 28,
          "Gender": "Male",
          "Unnamed: 0": 98,
          "User ID": 15582492,
          "response": 1,
          "salary": 123000
         },
         {
          "Age": 35,
          "Gender": "Male",
          "Unnamed: 0": 99,
          "User ID": 15575694,
          "response": 0,
          "salary": 73000
         },
         {
          "Age": 28,
          "Gender": "Female",
          "Unnamed: 0": 100,
          "User ID": 15756820,
          "response": 0,
          "salary": 37000
         },
         {
          "Age": 27,
          "Gender": "Male",
          "Unnamed: 0": 101,
          "User ID": 15766289,
          "response": 0,
          "salary": 88000
         },
         {
          "Age": 28,
          "Gender": "Male",
          "Unnamed: 0": 102,
          "User ID": 15593014,
          "response": 0,
          "salary": 59000
         },
         {
          "Age": 32,
          "Gender": "Female",
          "Unnamed: 0": 103,
          "User ID": 15584545,
          "response": 0,
          "salary": 86000
         },
         {
          "Age": 33,
          "Gender": "Female",
          "Unnamed: 0": 104,
          "User ID": 15675949,
          "response": 1,
          "salary": 149000
         },
         {
          "Age": 19,
          "Gender": "Female",
          "Unnamed: 0": 105,
          "User ID": 15672091,
          "response": 0,
          "salary": 21000
         },
         {
          "Age": 21,
          "Gender": "Male",
          "Unnamed: 0": 106,
          "User ID": 15801658,
          "response": 0,
          "salary": 72000
         },
         {
          "Age": 26,
          "Gender": "Female",
          "Unnamed: 0": 107,
          "User ID": 15706185,
          "response": 0,
          "salary": 35000
         },
         {
          "Age": 27,
          "Gender": "Male",
          "Unnamed: 0": 108,
          "User ID": 15789863,
          "response": 0,
          "salary": 89000
         },
         {
          "Age": 26,
          "Gender": "Male",
          "Unnamed: 0": 109,
          "User ID": 15720943,
          "response": 0,
          "salary": 86000
         },
         {
          "Age": 38,
          "Gender": "Female",
          "Unnamed: 0": 110,
          "User ID": 15697997,
          "response": 0,
          "salary": 80000
         },
         {
          "Age": 39,
          "Gender": "Female",
          "Unnamed: 0": 111,
          "User ID": 15665416,
          "response": 0,
          "salary": 71000
         },
         {
          "Age": 37,
          "Gender": "Female",
          "Unnamed: 0": 112,
          "User ID": 15660200,
          "response": 0,
          "salary": 71000
         },
         {
          "Age": 38,
          "Gender": "Male",
          "Unnamed: 0": 113,
          "User ID": 15619653,
          "response": 0,
          "salary": 61000
         },
         {
          "Age": 37,
          "Gender": "Male",
          "Unnamed: 0": 114,
          "User ID": 15773447,
          "response": 0,
          "salary": 55000
         },
         {
          "Age": 42,
          "Gender": "Male",
          "Unnamed: 0": 115,
          "User ID": 15739160,
          "response": 0,
          "salary": 80000
         },
         {
          "Age": 40,
          "Gender": "Male",
          "Unnamed: 0": 116,
          "User ID": 15689237,
          "response": 0,
          "salary": 57000
         },
         {
          "Age": 35,
          "Gender": "Male",
          "Unnamed: 0": 117,
          "User ID": 15679297,
          "response": 0,
          "salary": 75000
         },
         {
          "Age": 36,
          "Gender": "Male",
          "Unnamed: 0": 118,
          "User ID": 15591433,
          "response": 0,
          "salary": 52000
         },
         {
          "Age": 40,
          "Gender": "Male",
          "Unnamed: 0": 119,
          "User ID": 15642725,
          "response": 0,
          "salary": 59000
         },
         {
          "Age": 41,
          "Gender": "Male",
          "Unnamed: 0": 120,
          "User ID": 15701962,
          "response": 0,
          "salary": 59000
         },
         {
          "Age": 36,
          "Gender": "Female",
          "Unnamed: 0": 121,
          "User ID": 15811613,
          "response": 0,
          "salary": 75000
         },
         {
          "Age": 37,
          "Gender": "Male",
          "Unnamed: 0": 122,
          "User ID": 15741049,
          "response": 0,
          "salary": 72000
         },
         {
          "Age": 40,
          "Gender": "Female",
          "Unnamed: 0": 123,
          "User ID": 15724423,
          "response": 0,
          "salary": 75000
         },
         {
          "Age": 35,
          "Gender": "Male",
          "Unnamed: 0": 124,
          "User ID": 15574305,
          "response": 0,
          "salary": 53000
         },
         {
          "Age": 41,
          "Gender": "Female",
          "Unnamed: 0": 125,
          "User ID": 15678168,
          "response": 0,
          "salary": 51000
         },
         {
          "Age": 39,
          "Gender": "Female",
          "Unnamed: 0": 126,
          "User ID": 15697020,
          "response": 0,
          "salary": 61000
         },
         {
          "Age": 42,
          "Gender": "Male",
          "Unnamed: 0": 127,
          "User ID": 15610801,
          "response": 0,
          "salary": 65000
         },
         {
          "Age": 26,
          "Gender": "Male",
          "Unnamed: 0": 128,
          "User ID": 15745232,
          "response": 0,
          "salary": 32000
         },
         {
          "Age": 30,
          "Gender": "Male",
          "Unnamed: 0": 129,
          "User ID": 15722758,
          "response": 0,
          "salary": 17000
         },
         {
          "Age": 26,
          "Gender": "Female",
          "Unnamed: 0": 130,
          "User ID": 15792102,
          "response": 0,
          "salary": 84000
         },
         {
          "Age": 31,
          "Gender": "Male",
          "Unnamed: 0": 131,
          "User ID": 15675185,
          "response": 0,
          "salary": 58000
         },
         {
          "Age": 33,
          "Gender": "Male",
          "Unnamed: 0": 132,
          "User ID": 15801247,
          "response": 0,
          "salary": 31000
         },
         {
          "Age": 30,
          "Gender": "Male",
          "Unnamed: 0": 133,
          "User ID": 15725660,
          "response": 0,
          "salary": 87000
         },
         {
          "Age": 21,
          "Gender": "Female",
          "Unnamed: 0": 134,
          "User ID": 15638963,
          "response": 0,
          "salary": 68000
         },
         {
          "Age": 28,
          "Gender": "Female",
          "Unnamed: 0": 135,
          "User ID": 15800061,
          "response": 0,
          "salary": 55000
         },
         {
          "Age": 23,
          "Gender": "Male",
          "Unnamed: 0": 136,
          "User ID": 15578006,
          "response": 0,
          "salary": 63000
         },
         {
          "Age": 20,
          "Gender": "Female",
          "Unnamed: 0": 137,
          "User ID": 15668504,
          "response": 0,
          "salary": 82000
         },
         {
          "Age": 30,
          "Gender": "Male",
          "Unnamed: 0": 138,
          "User ID": 15687491,
          "response": 1,
          "salary": 107000
         },
         {
          "Age": 28,
          "Gender": "Female",
          "Unnamed: 0": 139,
          "User ID": 15610403,
          "response": 0,
          "salary": 59000
         },
         {
          "Age": 19,
          "Gender": "Male",
          "Unnamed: 0": 140,
          "User ID": 15741094,
          "response": 0,
          "salary": 25000
         },
         {
          "Age": 19,
          "Gender": "Male",
          "Unnamed: 0": 141,
          "User ID": 15807909,
          "response": 0,
          "salary": 85000
         },
         {
          "Age": 18,
          "Gender": "Female",
          "Unnamed: 0": 142,
          "User ID": 15666141,
          "response": 0,
          "salary": 68000
         },
         {
          "Age": 35,
          "Gender": "Male",
          "Unnamed: 0": 143,
          "User ID": 15617134,
          "response": 0,
          "salary": 59000
         },
         {
          "Age": 30,
          "Gender": "Male",
          "Unnamed: 0": 144,
          "User ID": 15783029,
          "response": 0,
          "salary": 89000
         },
         {
          "Age": 34,
          "Gender": "Female",
          "Unnamed: 0": 145,
          "User ID": 15622833,
          "response": 0,
          "salary": 25000
         },
         {
          "Age": 24,
          "Gender": "Female",
          "Unnamed: 0": 146,
          "User ID": 15746422,
          "response": 0,
          "salary": 89000
         },
         {
          "Age": 27,
          "Gender": "Female",
          "Unnamed: 0": 147,
          "User ID": 15750839,
          "response": 1,
          "salary": 96000
         },
         {
          "Age": 41,
          "Gender": "Female",
          "Unnamed: 0": 148,
          "User ID": 15749130,
          "response": 0,
          "salary": 30000
         },
         {
          "Age": 29,
          "Gender": "Male",
          "Unnamed: 0": 149,
          "User ID": 15779862,
          "response": 0,
          "salary": 61000
         },
         {
          "Age": 20,
          "Gender": "Male",
          "Unnamed: 0": 150,
          "User ID": 15767871,
          "response": 0,
          "salary": 74000
         },
         {
          "Age": 26,
          "Gender": "Female",
          "Unnamed: 0": 151,
          "User ID": 15679651,
          "response": 0,
          "salary": 15000
         },
         {
          "Age": 41,
          "Gender": "Male",
          "Unnamed: 0": 152,
          "User ID": 15576219,
          "response": 0,
          "salary": 45000
         },
         {
          "Age": 31,
          "Gender": "Male",
          "Unnamed: 0": 153,
          "User ID": 15699247,
          "response": 0,
          "salary": 76000
         },
         {
          "Age": 36,
          "Gender": "Female",
          "Unnamed: 0": 154,
          "User ID": 15619087,
          "response": 0,
          "salary": 50000
         },
         {
          "Age": 40,
          "Gender": "Male",
          "Unnamed: 0": 155,
          "User ID": 15605327,
          "response": 0,
          "salary": 47000
         },
         {
          "Age": 31,
          "Gender": "Female",
          "Unnamed: 0": 156,
          "User ID": 15610140,
          "response": 0,
          "salary": 15000
         },
         {
          "Age": 46,
          "Gender": "Male",
          "Unnamed: 0": 157,
          "User ID": 15791174,
          "response": 0,
          "salary": 59000
         },
         {
          "Age": 29,
          "Gender": "Male",
          "Unnamed: 0": 158,
          "User ID": 15602373,
          "response": 0,
          "salary": 75000
         },
         {
          "Age": 26,
          "Gender": "Male",
          "Unnamed: 0": 159,
          "User ID": 15762605,
          "response": 0,
          "salary": 30000
         },
         {
          "Age": 32,
          "Gender": "Female",
          "Unnamed: 0": 160,
          "User ID": 15598840,
          "response": 1,
          "salary": 135000
         },
         {
          "Age": 32,
          "Gender": "Male",
          "Unnamed: 0": 161,
          "User ID": 15744279,
          "response": 1,
          "salary": 100000
         },
         {
          "Age": 25,
          "Gender": "Male",
          "Unnamed: 0": 162,
          "User ID": 15670619,
          "response": 0,
          "salary": 90000
         },
         {
          "Age": 37,
          "Gender": "Female",
          "Unnamed: 0": 163,
          "User ID": 15599533,
          "response": 0,
          "salary": 33000
         },
         {
          "Age": 35,
          "Gender": "Male",
          "Unnamed: 0": 164,
          "User ID": 15757837,
          "response": 0,
          "salary": 38000
         },
         {
          "Age": 33,
          "Gender": "Female",
          "Unnamed: 0": 165,
          "User ID": 15697574,
          "response": 0,
          "salary": 69000
         },
         {
          "Age": 18,
          "Gender": "Female",
          "Unnamed: 0": 166,
          "User ID": 15578738,
          "response": 0,
          "salary": 86000
         },
         {
          "Age": 22,
          "Gender": "Female",
          "Unnamed: 0": 167,
          "User ID": 15762228,
          "response": 0,
          "salary": 55000
         },
         {
          "Age": 35,
          "Gender": "Female",
          "Unnamed: 0": 168,
          "User ID": 15614827,
          "response": 0,
          "salary": 71000
         },
         {
          "Age": 29,
          "Gender": "Male",
          "Unnamed: 0": 169,
          "User ID": 15789815,
          "response": 1,
          "salary": 148000
         },
         {
          "Age": 29,
          "Gender": "Female",
          "Unnamed: 0": 170,
          "User ID": 15579781,
          "response": 0,
          "salary": 47000
         },
         {
          "Age": 21,
          "Gender": "Male",
          "Unnamed: 0": 171,
          "User ID": 15587013,
          "response": 0,
          "salary": 88000
         },
         {
          "Age": 34,
          "Gender": "Male",
          "Unnamed: 0": 172,
          "User ID": 15570932,
          "response": 0,
          "salary": 115000
         },
         {
          "Age": 26,
          "Gender": "Female",
          "Unnamed: 0": 173,
          "User ID": 15794661,
          "response": 0,
          "salary": 118000
         },
         {
          "Age": 34,
          "Gender": "Female",
          "Unnamed: 0": 174,
          "User ID": 15581654,
          "response": 0,
          "salary": 43000
         },
         {
          "Age": 34,
          "Gender": "Female",
          "Unnamed: 0": 175,
          "User ID": 15644296,
          "response": 0,
          "salary": 72000
         },
         {
          "Age": 23,
          "Gender": "Female",
          "Unnamed: 0": 176,
          "User ID": 15614420,
          "response": 0,
          "salary": 28000
         },
         {
          "Age": 35,
          "Gender": "Female",
          "Unnamed: 0": 177,
          "User ID": 15609653,
          "response": 0,
          "salary": 47000
         },
         {
          "Age": 25,
          "Gender": "Male",
          "Unnamed: 0": 178,
          "User ID": 15594577,
          "response": 0,
          "salary": 22000
         },
         {
          "Age": 24,
          "Gender": "Male",
          "Unnamed: 0": 179,
          "User ID": 15584114,
          "response": 0,
          "salary": 23000
         },
         {
          "Age": 31,
          "Gender": "Female",
          "Unnamed: 0": 180,
          "User ID": 15673367,
          "response": 0,
          "salary": 34000
         },
         {
          "Age": 26,
          "Gender": "Male",
          "Unnamed: 0": 181,
          "User ID": 15685576,
          "response": 0,
          "salary": 16000
         },
         {
          "Age": 31,
          "Gender": "Female",
          "Unnamed: 0": 182,
          "User ID": 15774727,
          "response": 0,
          "salary": 71000
         },
         {
          "Age": 32,
          "Gender": "Female",
          "Unnamed: 0": 183,
          "User ID": 15694288,
          "response": 1,
          "salary": 117000
         },
         {
          "Age": 33,
          "Gender": "Male",
          "Unnamed: 0": 184,
          "User ID": 15603319,
          "response": 0,
          "salary": 43000
         },
         {
          "Age": 33,
          "Gender": "Female",
          "Unnamed: 0": 185,
          "User ID": 15759066,
          "response": 0,
          "salary": 60000
         },
         {
          "Age": 31,
          "Gender": "Male",
          "Unnamed: 0": 186,
          "User ID": 15814816,
          "response": 0,
          "salary": 66000
         },
         {
          "Age": 20,
          "Gender": "Female",
          "Unnamed: 0": 187,
          "User ID": 15724402,
          "response": 0,
          "salary": 82000
         },
         {
          "Age": 33,
          "Gender": "Female",
          "Unnamed: 0": 188,
          "User ID": 15571059,
          "response": 0,
          "salary": 41000
         },
         {
          "Age": 35,
          "Gender": "Male",
          "Unnamed: 0": 189,
          "User ID": 15674206,
          "response": 0,
          "salary": 72000
         },
         {
          "Age": 28,
          "Gender": "Male",
          "Unnamed: 0": 190,
          "User ID": 15715160,
          "response": 0,
          "salary": 32000
         },
         {
          "Age": 24,
          "Gender": "Male",
          "Unnamed: 0": 191,
          "User ID": 15730448,
          "response": 0,
          "salary": 84000
         },
         {
          "Age": 19,
          "Gender": "Female",
          "Unnamed: 0": 192,
          "User ID": 15662067,
          "response": 0,
          "salary": 26000
         },
         {
          "Age": 29,
          "Gender": "Male",
          "Unnamed: 0": 193,
          "User ID": 15779581,
          "response": 0,
          "salary": 43000
         },
         {
          "Age": 19,
          "Gender": "Male",
          "Unnamed: 0": 194,
          "User ID": 15662901,
          "response": 0,
          "salary": 70000
         },
         {
          "Age": 28,
          "Gender": "Male",
          "Unnamed: 0": 195,
          "User ID": 15689751,
          "response": 0,
          "salary": 89000
         },
         {
          "Age": 34,
          "Gender": "Male",
          "Unnamed: 0": 196,
          "User ID": 15667742,
          "response": 0,
          "salary": 43000
         },
         {
          "Age": 30,
          "Gender": "Female",
          "Unnamed: 0": 197,
          "User ID": 15738448,
          "response": 0,
          "salary": 79000
         },
         {
          "Age": 20,
          "Gender": "Female",
          "Unnamed: 0": 198,
          "User ID": 15680243,
          "response": 0,
          "salary": 36000
         },
         {
          "Age": 26,
          "Gender": "Male",
          "Unnamed: 0": 199,
          "User ID": 15745083,
          "response": 0,
          "salary": 80000
         },
         {
          "Age": 35,
          "Gender": "Male",
          "Unnamed: 0": 200,
          "User ID": 15708228,
          "response": 0,
          "salary": 22000
         },
         {
          "Age": 35,
          "Gender": "Male",
          "Unnamed: 0": 201,
          "User ID": 15628523,
          "response": 0,
          "salary": 39000
         },
         {
          "Age": 49,
          "Gender": "Male",
          "Unnamed: 0": 202,
          "User ID": 15708196,
          "response": 0,
          "salary": 74000
         },
         {
          "Age": 39,
          "Gender": "Female",
          "Unnamed: 0": 203,
          "User ID": 15735549,
          "response": 1,
          "salary": 134000
         },
         {
          "Age": 41,
          "Gender": "Female",
          "Unnamed: 0": 204,
          "User ID": 15809347,
          "response": 0,
          "salary": 71000
         },
         {
          "Age": 58,
          "Gender": "Female",
          "Unnamed: 0": 205,
          "User ID": 15660866,
          "response": 1,
          "salary": 101000
         },
         {
          "Age": 47,
          "Gender": "Female",
          "Unnamed: 0": 206,
          "User ID": 15766609,
          "response": 0,
          "salary": 47000
         },
         {
          "Age": 55,
          "Gender": "Female",
          "Unnamed: 0": 207,
          "User ID": 15654230,
          "response": 1,
          "salary": 130000
         },
         {
          "Age": 52,
          "Gender": "Female",
          "Unnamed: 0": 208,
          "User ID": 15794566,
          "response": 0,
          "salary": 114000
         },
         {
          "Age": 40,
          "Gender": "Female",
          "Unnamed: 0": 209,
          "User ID": 15800890,
          "response": 1,
          "salary": 142000
         },
         {
          "Age": 46,
          "Gender": "Female",
          "Unnamed: 0": 210,
          "User ID": 15697424,
          "response": 0,
          "salary": 22000
         },
         {
          "Age": 48,
          "Gender": "Female",
          "Unnamed: 0": 211,
          "User ID": 15724536,
          "response": 1,
          "salary": 96000
         },
         {
          "Age": 52,
          "Gender": "Male",
          "Unnamed: 0": 212,
          "User ID": 15735878,
          "response": 1,
          "salary": 150000
         },
         {
          "Age": 59,
          "Gender": "Female",
          "Unnamed: 0": 213,
          "User ID": 15707596,
          "response": 0,
          "salary": 42000
         },
         {
          "Age": 35,
          "Gender": "Male",
          "Unnamed: 0": 214,
          "User ID": 15657163,
          "response": 0,
          "salary": 58000
         },
         {
          "Age": 47,
          "Gender": "Male",
          "Unnamed: 0": 215,
          "User ID": 15622478,
          "response": 0,
          "salary": 43000
         },
         {
          "Age": 60,
          "Gender": "Female",
          "Unnamed: 0": 216,
          "User ID": 15779529,
          "response": 1,
          "salary": 108000
         },
         {
          "Age": 49,
          "Gender": "Male",
          "Unnamed: 0": 217,
          "User ID": 15636023,
          "response": 0,
          "salary": 65000
         },
         {
          "Age": 40,
          "Gender": "Male",
          "Unnamed: 0": 218,
          "User ID": 15582066,
          "response": 0,
          "salary": 78000
         },
         {
          "Age": 46,
          "Gender": "Female",
          "Unnamed: 0": 219,
          "User ID": 15666675,
          "response": 0,
          "salary": 96000
         },
         {
          "Age": 59,
          "Gender": "Male",
          "Unnamed: 0": 220,
          "User ID": 15732987,
          "response": 1,
          "salary": 143000
         },
         {
          "Age": 41,
          "Gender": "Female",
          "Unnamed: 0": 221,
          "User ID": 15789432,
          "response": 0,
          "salary": 80000
         },
         {
          "Age": 35,
          "Gender": "Male",
          "Unnamed: 0": 222,
          "User ID": 15663161,
          "response": 1,
          "salary": 91000
         },
         {
          "Age": 37,
          "Gender": "Male",
          "Unnamed: 0": 223,
          "User ID": 15694879,
          "response": 1,
          "salary": 144000
         },
         {
          "Age": 60,
          "Gender": "Male",
          "Unnamed: 0": 224,
          "User ID": 15593715,
          "response": 1,
          "salary": 102000
         },
         {
          "Age": 35,
          "Gender": "Female",
          "Unnamed: 0": 225,
          "User ID": 15575002,
          "response": 0,
          "salary": 60000
         },
         {
          "Age": 37,
          "Gender": "Male",
          "Unnamed: 0": 226,
          "User ID": 15622171,
          "response": 0,
          "salary": 53000
         },
         {
          "Age": 36,
          "Gender": "Female",
          "Unnamed: 0": 227,
          "User ID": 15795224,
          "response": 1,
          "salary": 126000
         },
         {
          "Age": 56,
          "Gender": "Male",
          "Unnamed: 0": 228,
          "User ID": 15685346,
          "response": 1,
          "salary": 133000
         },
         {
          "Age": 40,
          "Gender": "Female",
          "Unnamed: 0": 229,
          "User ID": 15691808,
          "response": 0,
          "salary": 72000
         },
         {
          "Age": 42,
          "Gender": "Female",
          "Unnamed: 0": 230,
          "User ID": 15721007,
          "response": 1,
          "salary": 80000
         },
         {
          "Age": 35,
          "Gender": "Female",
          "Unnamed: 0": 231,
          "User ID": 15794253,
          "response": 1,
          "salary": 147000
         },
         {
          "Age": 39,
          "Gender": "Male",
          "Unnamed: 0": 232,
          "User ID": 15694453,
          "response": 0,
          "salary": 42000
         },
         {
          "Age": 40,
          "Gender": "Male",
          "Unnamed: 0": 233,
          "User ID": 15813113,
          "response": 1,
          "salary": 107000
         },
         {
          "Age": 49,
          "Gender": "Male",
          "Unnamed: 0": 234,
          "User ID": 15614187,
          "response": 1,
          "salary": 86000
         },
         {
          "Age": 38,
          "Gender": "Female",
          "Unnamed: 0": 235,
          "User ID": 15619407,
          "response": 0,
          "salary": 112000
         },
         {
          "Age": 46,
          "Gender": "Male",
          "Unnamed: 0": 236,
          "User ID": 15646227,
          "response": 1,
          "salary": 79000
         },
         {
          "Age": 40,
          "Gender": "Male",
          "Unnamed: 0": 237,
          "User ID": 15660541,
          "response": 0,
          "salary": 57000
         },
         {
          "Age": 37,
          "Gender": "Female",
          "Unnamed: 0": 238,
          "User ID": 15753874,
          "response": 0,
          "salary": 80000
         },
         {
          "Age": 46,
          "Gender": "Female",
          "Unnamed: 0": 239,
          "User ID": 15617877,
          "response": 0,
          "salary": 82000
         },
         {
          "Age": 53,
          "Gender": "Female",
          "Unnamed: 0": 240,
          "User ID": 15772073,
          "response": 1,
          "salary": 143000
         },
         {
          "Age": 42,
          "Gender": "Male",
          "Unnamed: 0": 241,
          "User ID": 15701537,
          "response": 1,
          "salary": 149000
         },
         {
          "Age": 38,
          "Gender": "Male",
          "Unnamed: 0": 242,
          "User ID": 15736228,
          "response": 0,
          "salary": 59000
         },
         {
          "Age": 50,
          "Gender": "Female",
          "Unnamed: 0": 243,
          "User ID": 15780572,
          "response": 1,
          "salary": 88000
         },
         {
          "Age": 56,
          "Gender": "Female",
          "Unnamed: 0": 244,
          "User ID": 15769596,
          "response": 1,
          "salary": 104000
         },
         {
          "Age": 41,
          "Gender": "Female",
          "Unnamed: 0": 245,
          "User ID": 15586996,
          "response": 0,
          "salary": 72000
         },
         {
          "Age": 51,
          "Gender": "Female",
          "Unnamed: 0": 246,
          "User ID": 15722061,
          "response": 1,
          "salary": 146000
         },
         {
          "Age": 35,
          "Gender": "Female",
          "Unnamed: 0": 247,
          "User ID": 15638003,
          "response": 0,
          "salary": 50000
         },
         {
          "Age": 57,
          "Gender": "Female",
          "Unnamed: 0": 248,
          "User ID": 15775590,
          "response": 1,
          "salary": 122000
         },
         {
          "Age": 41,
          "Gender": "Male",
          "Unnamed: 0": 249,
          "User ID": 15730688,
          "response": 0,
          "salary": 52000
         },
         {
          "Age": 35,
          "Gender": "Female",
          "Unnamed: 0": 250,
          "User ID": 15753102,
          "response": 1,
          "salary": 97000
         },
         {
          "Age": 44,
          "Gender": "Female",
          "Unnamed: 0": 251,
          "User ID": 15810075,
          "response": 0,
          "salary": 39000
         },
         {
          "Age": 37,
          "Gender": "Male",
          "Unnamed: 0": 252,
          "User ID": 15723373,
          "response": 0,
          "salary": 52000
         },
         {
          "Age": 48,
          "Gender": "Female",
          "Unnamed: 0": 253,
          "User ID": 15795298,
          "response": 1,
          "salary": 134000
         },
         {
          "Age": 37,
          "Gender": "Female",
          "Unnamed: 0": 254,
          "User ID": 15584320,
          "response": 1,
          "salary": 146000
         },
         {
          "Age": 50,
          "Gender": "Female",
          "Unnamed: 0": 255,
          "User ID": 15724161,
          "response": 0,
          "salary": 44000
         },
         {
          "Age": 52,
          "Gender": "Female",
          "Unnamed: 0": 256,
          "User ID": 15750056,
          "response": 1,
          "salary": 90000
         },
         {
          "Age": 41,
          "Gender": "Female",
          "Unnamed: 0": 257,
          "User ID": 15609637,
          "response": 0,
          "salary": 72000
         },
         {
          "Age": 40,
          "Gender": "Male",
          "Unnamed: 0": 258,
          "User ID": 15794493,
          "response": 0,
          "salary": 57000
         },
         {
          "Age": 58,
          "Gender": "Female",
          "Unnamed: 0": 259,
          "User ID": 15569641,
          "response": 1,
          "salary": 95000
         },
         {
          "Age": 45,
          "Gender": "Female",
          "Unnamed: 0": 260,
          "User ID": 15815236,
          "response": 1,
          "salary": 131000
         },
         {
          "Age": 35,
          "Gender": "Female",
          "Unnamed: 0": 261,
          "User ID": 15811177,
          "response": 0,
          "salary": 77000
         },
         {
          "Age": 36,
          "Gender": "Male",
          "Unnamed: 0": 262,
          "User ID": 15680587,
          "response": 1,
          "salary": 144000
         },
         {
          "Age": 55,
          "Gender": "Female",
          "Unnamed: 0": 263,
          "User ID": 15672821,
          "response": 1,
          "salary": 125000
         },
         {
          "Age": 35,
          "Gender": "Female",
          "Unnamed: 0": 264,
          "User ID": 15767681,
          "response": 0,
          "salary": 72000
         },
         {
          "Age": 48,
          "Gender": "Male",
          "Unnamed: 0": 265,
          "User ID": 15600379,
          "response": 1,
          "salary": 90000
         },
         {
          "Age": 42,
          "Gender": "Female",
          "Unnamed: 0": 266,
          "User ID": 15801336,
          "response": 1,
          "salary": 108000
         },
         {
          "Age": 40,
          "Gender": "Male",
          "Unnamed: 0": 267,
          "User ID": 15721592,
          "response": 0,
          "salary": 75000
         },
         {
          "Age": 37,
          "Gender": "Male",
          "Unnamed: 0": 268,
          "User ID": 15581282,
          "response": 0,
          "salary": 74000
         },
         {
          "Age": 47,
          "Gender": "Female",
          "Unnamed: 0": 269,
          "User ID": 15746203,
          "response": 1,
          "salary": 144000
         },
         {
          "Age": 40,
          "Gender": "Male",
          "Unnamed: 0": 270,
          "User ID": 15583137,
          "response": 0,
          "salary": 61000
         },
         {
          "Age": 43,
          "Gender": "Female",
          "Unnamed: 0": 271,
          "User ID": 15680752,
          "response": 0,
          "salary": 133000
         },
         {
          "Age": 59,
          "Gender": "Female",
          "Unnamed: 0": 272,
          "User ID": 15688172,
          "response": 1,
          "salary": 76000
         },
         {
          "Age": 60,
          "Gender": "Male",
          "Unnamed: 0": 273,
          "User ID": 15791373,
          "response": 1,
          "salary": 42000
         },
         {
          "Age": 39,
          "Gender": "Male",
          "Unnamed: 0": 274,
          "User ID": 15589449,
          "response": 1,
          "salary": 106000
         },
         {
          "Age": 57,
          "Gender": "Female",
          "Unnamed: 0": 275,
          "User ID": 15692819,
          "response": 1,
          "salary": 26000
         },
         {
          "Age": 57,
          "Gender": "Male",
          "Unnamed: 0": 276,
          "User ID": 15727467,
          "response": 1,
          "salary": 74000
         },
         {
          "Age": 38,
          "Gender": "Male",
          "Unnamed: 0": 277,
          "User ID": 15734312,
          "response": 0,
          "salary": 71000
         },
         {
          "Age": 49,
          "Gender": "Male",
          "Unnamed: 0": 278,
          "User ID": 15764604,
          "response": 1,
          "salary": 88000
         },
         {
          "Age": 52,
          "Gender": "Female",
          "Unnamed: 0": 279,
          "User ID": 15613014,
          "response": 1,
          "salary": 38000
         },
         {
          "Age": 50,
          "Gender": "Female",
          "Unnamed: 0": 280,
          "User ID": 15759684,
          "response": 1,
          "salary": 36000
         },
         {
          "Age": 59,
          "Gender": "Female",
          "Unnamed: 0": 281,
          "User ID": 15609669,
          "response": 1,
          "salary": 88000
         },
         {
          "Age": 35,
          "Gender": "Male",
          "Unnamed: 0": 282,
          "User ID": 15685536,
          "response": 0,
          "salary": 61000
         },
         {
          "Age": 37,
          "Gender": "Male",
          "Unnamed: 0": 283,
          "User ID": 15750447,
          "response": 1,
          "salary": 70000
         },
         {
          "Age": 52,
          "Gender": "Female",
          "Unnamed: 0": 284,
          "User ID": 15663249,
          "response": 1,
          "salary": 21000
         },
         {
          "Age": 48,
          "Gender": "Male",
          "Unnamed: 0": 285,
          "User ID": 15638646,
          "response": 0,
          "salary": 141000
         },
         {
          "Age": 37,
          "Gender": "Female",
          "Unnamed: 0": 286,
          "User ID": 15734161,
          "response": 1,
          "salary": 93000
         },
         {
          "Age": 37,
          "Gender": "Female",
          "Unnamed: 0": 287,
          "User ID": 15631070,
          "response": 0,
          "salary": 62000
         },
         {
          "Age": 48,
          "Gender": "Female",
          "Unnamed: 0": 288,
          "User ID": 15761950,
          "response": 1,
          "salary": 138000
         },
         {
          "Age": 41,
          "Gender": "Male",
          "Unnamed: 0": 289,
          "User ID": 15649668,
          "response": 0,
          "salary": 79000
         },
         {
          "Age": 37,
          "Gender": "Female",
          "Unnamed: 0": 290,
          "User ID": 15713912,
          "response": 1,
          "salary": 78000
         },
         {
          "Age": 39,
          "Gender": "Male",
          "Unnamed: 0": 291,
          "User ID": 15586757,
          "response": 1,
          "salary": 134000
         },
         {
          "Age": 49,
          "Gender": "Male",
          "Unnamed: 0": 292,
          "User ID": 15596522,
          "response": 1,
          "salary": 89000
         },
         {
          "Age": 55,
          "Gender": "Male",
          "Unnamed: 0": 293,
          "User ID": 15625395,
          "response": 1,
          "salary": 39000
         },
         {
          "Age": 37,
          "Gender": "Male",
          "Unnamed: 0": 294,
          "User ID": 15760570,
          "response": 0,
          "salary": 77000
         },
         {
          "Age": 35,
          "Gender": "Female",
          "Unnamed: 0": 295,
          "User ID": 15566689,
          "response": 0,
          "salary": 57000
         },
         {
          "Age": 36,
          "Gender": "Female",
          "Unnamed: 0": 296,
          "User ID": 15725794,
          "response": 0,
          "salary": 63000
         },
         {
          "Age": 42,
          "Gender": "Male",
          "Unnamed: 0": 297,
          "User ID": 15673539,
          "response": 1,
          "salary": 73000
         },
         {
          "Age": 43,
          "Gender": "Female",
          "Unnamed: 0": 298,
          "User ID": 15705298,
          "response": 1,
          "salary": 112000
         },
         {
          "Age": 45,
          "Gender": "Male",
          "Unnamed: 0": 299,
          "User ID": 15675791,
          "response": 0,
          "salary": 79000
         },
         {
          "Age": 46,
          "Gender": "Male",
          "Unnamed: 0": 300,
          "User ID": 15747043,
          "response": 1,
          "salary": 117000
         },
         {
          "Age": 58,
          "Gender": "Female",
          "Unnamed: 0": 301,
          "User ID": 15736397,
          "response": 1,
          "salary": 38000
         },
         {
          "Age": 48,
          "Gender": "Male",
          "Unnamed: 0": 302,
          "User ID": 15678201,
          "response": 1,
          "salary": 74000
         },
         {
          "Age": 37,
          "Gender": "Female",
          "Unnamed: 0": 303,
          "User ID": 15720745,
          "response": 1,
          "salary": 137000
         },
         {
          "Age": 37,
          "Gender": "Male",
          "Unnamed: 0": 304,
          "User ID": 15637593,
          "response": 1,
          "salary": 79000
         },
         {
          "Age": 40,
          "Gender": "Female",
          "Unnamed: 0": 305,
          "User ID": 15598070,
          "response": 0,
          "salary": 60000
         },
         {
          "Age": 42,
          "Gender": "Male",
          "Unnamed: 0": 306,
          "User ID": 15787550,
          "response": 0,
          "salary": 54000
         },
         {
          "Age": 51,
          "Gender": "Female",
          "Unnamed: 0": 307,
          "User ID": 15603942,
          "response": 0,
          "salary": 134000
         },
         {
          "Age": 47,
          "Gender": "Female",
          "Unnamed: 0": 308,
          "User ID": 15733973,
          "response": 1,
          "salary": 113000
         },
         {
          "Age": 36,
          "Gender": "Male",
          "Unnamed: 0": 309,
          "User ID": 15596761,
          "response": 1,
          "salary": 125000
         },
         {
          "Age": 38,
          "Gender": "Female",
          "Unnamed: 0": 310,
          "User ID": 15652400,
          "response": 0,
          "salary": 50000
         },
         {
          "Age": 42,
          "Gender": "Female",
          "Unnamed: 0": 311,
          "User ID": 15717893,
          "response": 0,
          "salary": 70000
         },
         {
          "Age": 39,
          "Gender": "Male",
          "Unnamed: 0": 312,
          "User ID": 15622585,
          "response": 1,
          "salary": 96000
         },
         {
          "Age": 38,
          "Gender": "Female",
          "Unnamed: 0": 313,
          "User ID": 15733964,
          "response": 0,
          "salary": 50000
         },
         {
          "Age": 49,
          "Gender": "Female",
          "Unnamed: 0": 314,
          "User ID": 15753861,
          "response": 1,
          "salary": 141000
         },
         {
          "Age": 39,
          "Gender": "Female",
          "Unnamed: 0": 315,
          "User ID": 15747097,
          "response": 0,
          "salary": 79000
         },
         {
          "Age": 39,
          "Gender": "Female",
          "Unnamed: 0": 316,
          "User ID": 15594762,
          "response": 1,
          "salary": 75000
         },
         {
          "Age": 54,
          "Gender": "Female",
          "Unnamed: 0": 317,
          "User ID": 15667417,
          "response": 1,
          "salary": 104000
         },
         {
          "Age": 35,
          "Gender": "Male",
          "Unnamed: 0": 318,
          "User ID": 15684861,
          "response": 0,
          "salary": 55000
         },
         {
          "Age": 45,
          "Gender": "Male",
          "Unnamed: 0": 319,
          "User ID": 15742204,
          "response": 1,
          "salary": 32000
         },
         {
          "Age": 36,
          "Gender": "Male",
          "Unnamed: 0": 320,
          "User ID": 15623502,
          "response": 0,
          "salary": 60000
         },
         {
          "Age": 52,
          "Gender": "Female",
          "Unnamed: 0": 321,
          "User ID": 15774872,
          "response": 1,
          "salary": 138000
         },
         {
          "Age": 53,
          "Gender": "Female",
          "Unnamed: 0": 322,
          "User ID": 15611191,
          "response": 1,
          "salary": 82000
         },
         {
          "Age": 41,
          "Gender": "Male",
          "Unnamed: 0": 323,
          "User ID": 15674331,
          "response": 0,
          "salary": 52000
         },
         {
          "Age": 48,
          "Gender": "Female",
          "Unnamed: 0": 324,
          "User ID": 15619465,
          "response": 1,
          "salary": 30000
         },
         {
          "Age": 48,
          "Gender": "Female",
          "Unnamed: 0": 325,
          "User ID": 15575247,
          "response": 1,
          "salary": 131000
         },
         {
          "Age": 41,
          "Gender": "Female",
          "Unnamed: 0": 326,
          "User ID": 15695679,
          "response": 0,
          "salary": 60000
         },
         {
          "Age": 41,
          "Gender": "Male",
          "Unnamed: 0": 327,
          "User ID": 15713463,
          "response": 0,
          "salary": 72000
         },
         {
          "Age": 42,
          "Gender": "Female",
          "Unnamed: 0": 328,
          "User ID": 15785170,
          "response": 0,
          "salary": 75000
         },
         {
          "Age": 36,
          "Gender": "Male",
          "Unnamed: 0": 329,
          "User ID": 15796351,
          "response": 1,
          "salary": 118000
         },
         {
          "Age": 47,
          "Gender": "Female",
          "Unnamed: 0": 330,
          "User ID": 15639576,
          "response": 1,
          "salary": 107000
         },
         {
          "Age": 38,
          "Gender": "Male",
          "Unnamed: 0": 331,
          "User ID": 15693264,
          "response": 0,
          "salary": 51000
         },
         {
          "Age": 48,
          "Gender": "Female",
          "Unnamed: 0": 332,
          "User ID": 15589715,
          "response": 1,
          "salary": 119000
         },
         {
          "Age": 42,
          "Gender": "Male",
          "Unnamed: 0": 333,
          "User ID": 15769902,
          "response": 0,
          "salary": 65000
         },
         {
          "Age": 40,
          "Gender": "Male",
          "Unnamed: 0": 334,
          "User ID": 15587177,
          "response": 0,
          "salary": 65000
         },
         {
          "Age": 57,
          "Gender": "Male",
          "Unnamed: 0": 335,
          "User ID": 15814553,
          "response": 1,
          "salary": 60000
         },
         {
          "Age": 36,
          "Gender": "Female",
          "Unnamed: 0": 336,
          "User ID": 15601550,
          "response": 0,
          "salary": 54000
         },
         {
          "Age": 58,
          "Gender": "Male",
          "Unnamed: 0": 337,
          "User ID": 15664907,
          "response": 1,
          "salary": 144000
         },
         {
          "Age": 35,
          "Gender": "Male",
          "Unnamed: 0": 338,
          "User ID": 15612465,
          "response": 0,
          "salary": 79000
         },
         {
          "Age": 38,
          "Gender": "Female",
          "Unnamed: 0": 339,
          "User ID": 15810800,
          "response": 0,
          "salary": 55000
         },
         {
          "Age": 39,
          "Gender": "Male",
          "Unnamed: 0": 340,
          "User ID": 15665760,
          "response": 1,
          "salary": 122000
         },
         {
          "Age": 53,
          "Gender": "Female",
          "Unnamed: 0": 341,
          "User ID": 15588080,
          "response": 1,
          "salary": 104000
         },
         {
          "Age": 35,
          "Gender": "Male",
          "Unnamed: 0": 342,
          "User ID": 15776844,
          "response": 0,
          "salary": 75000
         },
         {
          "Age": 38,
          "Gender": "Female",
          "Unnamed: 0": 343,
          "User ID": 15717560,
          "response": 0,
          "salary": 65000
         },
         {
          "Age": 47,
          "Gender": "Female",
          "Unnamed: 0": 344,
          "User ID": 15629739,
          "response": 1,
          "salary": 51000
         },
         {
          "Age": 47,
          "Gender": "Male",
          "Unnamed: 0": 345,
          "User ID": 15729908,
          "response": 1,
          "salary": 105000
         },
         {
          "Age": 41,
          "Gender": "Female",
          "Unnamed: 0": 346,
          "User ID": 15716781,
          "response": 0,
          "salary": 63000
         },
         {
          "Age": 53,
          "Gender": "Male",
          "Unnamed: 0": 347,
          "User ID": 15646936,
          "response": 1,
          "salary": 72000
         },
         {
          "Age": 54,
          "Gender": "Female",
          "Unnamed: 0": 348,
          "User ID": 15768151,
          "response": 1,
          "salary": 108000
         },
         {
          "Age": 39,
          "Gender": "Male",
          "Unnamed: 0": 349,
          "User ID": 15579212,
          "response": 0,
          "salary": 77000
         },
         {
          "Age": 38,
          "Gender": "Male",
          "Unnamed: 0": 350,
          "User ID": 15721835,
          "response": 0,
          "salary": 61000
         },
         {
          "Age": 38,
          "Gender": "Female",
          "Unnamed: 0": 351,
          "User ID": 15800515,
          "response": 1,
          "salary": 113000
         },
         {
          "Age": 37,
          "Gender": "Male",
          "Unnamed: 0": 352,
          "User ID": 15591279,
          "response": 0,
          "salary": 75000
         },
         {
          "Age": 42,
          "Gender": "Female",
          "Unnamed: 0": 353,
          "User ID": 15587419,
          "response": 1,
          "salary": 90000
         },
         {
          "Age": 37,
          "Gender": "Female",
          "Unnamed: 0": 354,
          "User ID": 15750335,
          "response": 0,
          "salary": 57000
         },
         {
          "Age": 36,
          "Gender": "Male",
          "Unnamed: 0": 355,
          "User ID": 15699619,
          "response": 1,
          "salary": 99000
         },
         {
          "Age": 60,
          "Gender": "Male",
          "Unnamed: 0": 356,
          "User ID": 15606472,
          "response": 1,
          "salary": 34000
         },
         {
          "Age": 54,
          "Gender": "Male",
          "Unnamed: 0": 357,
          "User ID": 15778368,
          "response": 1,
          "salary": 70000
         },
         {
          "Age": 41,
          "Gender": "Female",
          "Unnamed: 0": 358,
          "User ID": 15671387,
          "response": 0,
          "salary": 72000
         },
         {
          "Age": 40,
          "Gender": "Male",
          "Unnamed: 0": 359,
          "User ID": 15573926,
          "response": 1,
          "salary": 71000
         },
         {
          "Age": 42,
          "Gender": "Male",
          "Unnamed: 0": 360,
          "User ID": 15709183,
          "response": 0,
          "salary": 54000
         },
         {
          "Age": 43,
          "Gender": "Male",
          "Unnamed: 0": 361,
          "User ID": 15577514,
          "response": 1,
          "salary": 129000
         },
         {
          "Age": 53,
          "Gender": "Female",
          "Unnamed: 0": 362,
          "User ID": 15778830,
          "response": 1,
          "salary": 34000
         },
         {
          "Age": 47,
          "Gender": "Female",
          "Unnamed: 0": 363,
          "User ID": 15768072,
          "response": 1,
          "salary": 50000
         },
         {
          "Age": 42,
          "Gender": "Female",
          "Unnamed: 0": 364,
          "User ID": 15768293,
          "response": 0,
          "salary": 79000
         },
         {
          "Age": 42,
          "Gender": "Male",
          "Unnamed: 0": 365,
          "User ID": 15654456,
          "response": 1,
          "salary": 104000
         },
         {
          "Age": 59,
          "Gender": "Female",
          "Unnamed: 0": 366,
          "User ID": 15807525,
          "response": 1,
          "salary": 29000
         },
         {
          "Age": 58,
          "Gender": "Female",
          "Unnamed: 0": 367,
          "User ID": 15574372,
          "response": 1,
          "salary": 47000
         },
         {
          "Age": 46,
          "Gender": "Male",
          "Unnamed: 0": 368,
          "User ID": 15671249,
          "response": 1,
          "salary": 88000
         },
         {
          "Age": 38,
          "Gender": "Male",
          "Unnamed: 0": 369,
          "User ID": 15779744,
          "response": 0,
          "salary": 71000
         },
         {
          "Age": 54,
          "Gender": "Female",
          "Unnamed: 0": 370,
          "User ID": 15624755,
          "response": 1,
          "salary": 26000
         },
         {
          "Age": 60,
          "Gender": "Female",
          "Unnamed: 0": 371,
          "User ID": 15611430,
          "response": 1,
          "salary": 46000
         },
         {
          "Age": 60,
          "Gender": "Male",
          "Unnamed: 0": 372,
          "User ID": 15774744,
          "response": 1,
          "salary": 83000
         },
         {
          "Age": 39,
          "Gender": "Female",
          "Unnamed: 0": 373,
          "User ID": 15629885,
          "response": 0,
          "salary": 73000
         },
         {
          "Age": 59,
          "Gender": "Male",
          "Unnamed: 0": 374,
          "User ID": 15708791,
          "response": 1,
          "salary": 130000
         },
         {
          "Age": 37,
          "Gender": "Female",
          "Unnamed: 0": 375,
          "User ID": 15793890,
          "response": 0,
          "salary": 80000
         },
         {
          "Age": 46,
          "Gender": "Female",
          "Unnamed: 0": 376,
          "User ID": 15646091,
          "response": 1,
          "salary": 32000
         },
         {
          "Age": 46,
          "Gender": "Female",
          "Unnamed: 0": 377,
          "User ID": 15596984,
          "response": 0,
          "salary": 74000
         },
         {
          "Age": 42,
          "Gender": "Female",
          "Unnamed: 0": 378,
          "User ID": 15800215,
          "response": 0,
          "salary": 53000
         },
         {
          "Age": 41,
          "Gender": "Male",
          "Unnamed: 0": 379,
          "User ID": 15577806,
          "response": 1,
          "salary": 87000
         },
         {
          "Age": 58,
          "Gender": "Female",
          "Unnamed: 0": 380,
          "User ID": 15749381,
          "response": 1,
          "salary": 23000
         },
         {
          "Age": 42,
          "Gender": "Male",
          "Unnamed: 0": 381,
          "User ID": 15683758,
          "response": 0,
          "salary": 64000
         },
         {
          "Age": 48,
          "Gender": "Male",
          "Unnamed: 0": 382,
          "User ID": 15670615,
          "response": 1,
          "salary": 33000
         },
         {
          "Age": 44,
          "Gender": "Female",
          "Unnamed: 0": 383,
          "User ID": 15715622,
          "response": 1,
          "salary": 139000
         },
         {
          "Age": 49,
          "Gender": "Male",
          "Unnamed: 0": 384,
          "User ID": 15707634,
          "response": 1,
          "salary": 28000
         },
         {
          "Age": 57,
          "Gender": "Female",
          "Unnamed: 0": 385,
          "User ID": 15806901,
          "response": 1,
          "salary": 33000
         },
         {
          "Age": 56,
          "Gender": "Male",
          "Unnamed: 0": 386,
          "User ID": 15775335,
          "response": 1,
          "salary": 60000
         },
         {
          "Age": 49,
          "Gender": "Female",
          "Unnamed: 0": 387,
          "User ID": 15724150,
          "response": 1,
          "salary": 39000
         },
         {
          "Age": 39,
          "Gender": "Male",
          "Unnamed: 0": 388,
          "User ID": 15627220,
          "response": 0,
          "salary": 71000
         },
         {
          "Age": 47,
          "Gender": "Male",
          "Unnamed: 0": 389,
          "User ID": 15672330,
          "response": 1,
          "salary": 34000
         },
         {
          "Age": 48,
          "Gender": "Female",
          "Unnamed: 0": 390,
          "User ID": 15668521,
          "response": 1,
          "salary": 35000
         },
         {
          "Age": 48,
          "Gender": "Male",
          "Unnamed: 0": 391,
          "User ID": 15807837,
          "response": 1,
          "salary": 33000
         },
         {
          "Age": 47,
          "Gender": "Male",
          "Unnamed: 0": 392,
          "User ID": 15592570,
          "response": 1,
          "salary": 23000
         },
         {
          "Age": 45,
          "Gender": "Female",
          "Unnamed: 0": 393,
          "User ID": 15748589,
          "response": 1,
          "salary": 45000
         },
         {
          "Age": 60,
          "Gender": "Male",
          "Unnamed: 0": 394,
          "User ID": 15635893,
          "response": 1,
          "salary": 42000
         },
         {
          "Age": 39,
          "Gender": "Female",
          "Unnamed: 0": 395,
          "User ID": 15757632,
          "response": 0,
          "salary": 59000
         },
         {
          "Age": 46,
          "Gender": "Female",
          "Unnamed: 0": 396,
          "User ID": 15691863,
          "response": 1,
          "salary": 41000
         },
         {
          "Age": 51,
          "Gender": "Male",
          "Unnamed: 0": 397,
          "User ID": 15706071,
          "response": 1,
          "salary": 23000
         },
         {
          "Age": 50,
          "Gender": "Female",
          "Unnamed: 0": 398,
          "User ID": 15654296,
          "response": 1,
          "salary": 20000
         },
         {
          "Age": 36,
          "Gender": "Male",
          "Unnamed: 0": 399,
          "User ID": 15755018,
          "response": 0,
          "salary": 33000
         },
         {
          "Age": 49,
          "Gender": "Female",
          "Unnamed: 0": 400,
          "User ID": 15594041,
          "response": 1,
          "salary": 36000
         }
        ]
       },
       "encoding": {
        "x": {
         "field": "Age",
         "type": "quantitative"
        },
        "y": {
         "field": "response",
         "type": "nominal"
        }
       },
       "mark": "boxplot"
      },
      "text/plain": [
       "<VegaLite 4 object>\n",
       "\n",
       "If you see this message, it means the renderer has not been properly enabled\n",
       "for the frontend that you are using. For more information, see\n",
       "https://altair-viz.github.io/user_guide/troubleshooting.html\n"
      ]
     },
     "execution_count": 22,
     "metadata": {},
     "output_type": "execute_result"
    }
   ],
   "source": [
    "# ACME\n",
    "\n",
    "alt.Chart(df).mark_boxplot().encode(\n",
    "    x = 'Age',\n",
    "    y = 'response'\n",
    ")"
   ]
  },
  {
   "attachments": {},
   "cell_type": "markdown",
   "metadata": {
    "deletable": false,
    "editable": false,
    "nbgrader": {
     "cell_type": "markdown",
     "checksum": "1f74013179b2a7fc055f8050b5f87aa7",
     "grade": false,
     "grade_id": "cell-55237ecd4c5c8144",
     "locked": true,
     "schema_version": 3,
     "solution": false,
     "task": false
    }
   },
   "source": [
    "Plot interpretieren (nutzen Sie die nächste Zelle):"
   ]
  },
  {
   "attachments": {},
   "cell_type": "markdown",
   "metadata": {
    "deletable": false,
    "editable": false,
    "nbgrader": {
     "cell_type": "code",
     "checksum": "ee8fff0cf30c53373e77c232a3cfcb95",
     "grade": false,
     "grade_id": "cell-65e2dd7fc4d1ada6",
     "locked": true,
     "schema_version": 3,
     "solution": false,
     "task": false
    }
   },
   "source": []
  },
  {
   "cell_type": "code",
   "execution_count": 23,
   "metadata": {
    "deletable": false,
    "editable": false,
    "nbgrader": {
     "cell_type": "code",
     "checksum": "f740fa149db2143e1f2e4708d808e04c",
     "grade": true,
     "grade_id": "3a_c1",
     "locked": true,
     "points": 1,
     "schema_version": 3,
     "solution": false,
     "task": false
    }
   },
   "outputs": [],
   "source": [
    "# Nehmen Sie keine Änderungen an dieser Zelle vor\n"
   ]
  },
  {
   "cell_type": "code",
   "execution_count": 24,
   "metadata": {
    "deletable": false,
    "editable": false,
    "nbgrader": {
     "cell_type": "code",
     "checksum": "28f2f26a687b062d45a0c713dca9b7aa",
     "grade": true,
     "grade_id": "3a_c2",
     "locked": true,
     "points": 1,
     "schema_version": 3,
     "solution": false,
     "task": false
    }
   },
   "outputs": [],
   "source": [
    "# Nehmen Sie keine Änderungen an dieser Zelle vor\n"
   ]
  },
  {
   "cell_type": "code",
   "execution_count": 25,
   "metadata": {
    "deletable": false,
    "editable": false,
    "nbgrader": {
     "cell_type": "code",
     "checksum": "502d8d4ad1359e7072c10e2d6b41135c",
     "grade": true,
     "grade_id": "3a_c3",
     "locked": true,
     "points": 1,
     "schema_version": 3,
     "solution": false,
     "task": false
    }
   },
   "outputs": [],
   "source": [
    "# Nehmen Sie keine Änderungen an dieser Zelle vor\n"
   ]
  },
  {
   "cell_type": "code",
   "execution_count": 26,
   "metadata": {
    "deletable": false,
    "editable": false,
    "nbgrader": {
     "cell_type": "code",
     "checksum": "34d2c5a592e212a2b754350512b24d78",
     "grade": true,
     "grade_id": "3a_c4",
     "locked": true,
     "points": 1,
     "schema_version": 3,
     "solution": false,
     "task": false
    }
   },
   "outputs": [],
   "source": [
    "# Nehmen Sie keine Änderungen an dieser Zelle vor\n"
   ]
  },
  {
   "attachments": {},
   "cell_type": "markdown",
   "metadata": {
    "deletable": false,
    "editable": false,
    "nbgrader": {
     "cell_type": "markdown",
     "checksum": "d3e0c84e90e79d645083c7e1d19a451e",
     "grade": false,
     "grade_id": "cell-10567812df4604e7",
     "locked": true,
     "schema_version": 3,
     "solution": false,
     "task": false
    }
   },
   "source": [
    "### Daten splitten"
   ]
  },
  {
   "attachments": {},
   "cell_type": "markdown",
   "metadata": {
    "deletable": false,
    "editable": false,
    "nbgrader": {
     "cell_type": "markdown",
     "checksum": "1b43b4ec5b11c870e38d6d822c4df23f",
     "grade": false,
     "grade_id": "cell-38893407fa1547da",
     "locked": true,
     "schema_version": 3,
     "solution": false,
     "task": false
    }
   },
   "source": [
    "Wir führen den Datensplit für die spätere Modellierung durch (keine Änderungen an dem Code vornehmem).\n"
   ]
  },
  {
   "cell_type": "code",
   "execution_count": 27,
   "metadata": {
    "deletable": false,
    "editable": false,
    "nbgrader": {
     "cell_type": "code",
     "checksum": "3c5ce2eb8804b665a75e7afd236933c1",
     "grade": false,
     "grade_id": "cell-375750721236d55f",
     "locked": true,
     "schema_version": 3,
     "solution": false,
     "task": false
    }
   },
   "outputs": [],
   "source": [
    "# Nehmen Sie keine Änderungen an dieser Zelle vor\n",
    "\n",
    "X_train, X_test, y_train, y_test = train_test_split(X, y, test_size=0.3, random_state = 1)"
   ]
  },
  {
   "attachments": {},
   "cell_type": "markdown",
   "metadata": {
    "deletable": false,
    "editable": false,
    "nbgrader": {
     "cell_type": "markdown",
     "checksum": "0419700eb145bf47da35a899c1ff34c0",
     "grade": false,
     "grade_id": "cell-c9a2d838bb713784",
     "locked": true,
     "schema_version": 3,
     "solution": false,
     "task": false
    },
    "slideshow": {
     "slide_type": "slide"
    }
   },
   "source": [
    "## 4) Model"
   ]
  },
  {
   "attachments": {},
   "cell_type": "markdown",
   "metadata": {
    "deletable": false,
    "editable": false,
    "nbgrader": {
     "cell_type": "markdown",
     "checksum": "94a16f34954ea6638a49297b022b1b97",
     "grade": false,
     "grade_id": "cell-623180475652349c",
     "locked": true,
     "schema_version": 3,
     "solution": false,
     "task": false
    },
    "slideshow": {
     "slide_type": "fragment"
    }
   },
   "source": [
    "### Modell auswählen"
   ]
  },
  {
   "attachments": {},
   "cell_type": "markdown",
   "metadata": {
    "deletable": false,
    "editable": false,
    "nbgrader": {
     "cell_type": "markdown",
     "checksum": "22ef4d96063856543f84cfb422632ebd",
     "grade": false,
     "grade_id": "cell-7f5d931dd91ba677",
     "locked": true,
     "schema_version": 3,
     "solution": false,
     "task": false
    }
   },
   "source": [
    "- 4a) Modell auswählen\n",
    "  - Wählen Sie ein für Ihre Problemstellung geeignetes Modell aus (Sie wurden angewiesen, einen Random Forest zu verwenden) \n",
    "  - Speichern Sie das Modell unter der Bezeichnung `model`"
   ]
  },
  {
   "cell_type": "code",
   "execution_count": 28,
   "metadata": {
    "deletable": false,
    "nbgrader": {
     "cell_type": "code",
     "checksum": "a8a95ce4e5061541d34ad353dfc12d5b",
     "grade": false,
     "grade_id": "4a",
     "locked": false,
     "schema_version": 3,
     "solution": true,
     "task": false
    },
    "slideshow": {
     "slide_type": "fragment"
    }
   },
   "outputs": [],
   "source": [
    "model = RandomForestClassifier()"
   ]
  },
  {
   "cell_type": "code",
   "execution_count": 29,
   "metadata": {
    "deletable": false,
    "editable": false,
    "nbgrader": {
     "cell_type": "code",
     "checksum": "06e5c3fd0fe293634158521659f3a3aa",
     "grade": true,
     "grade_id": "4a_c",
     "locked": true,
     "points": 1,
     "schema_version": 3,
     "solution": false,
     "task": false
    }
   },
   "outputs": [],
   "source": [
    "# Nehmen Sie keine Änderungen an dieser Zelle vor\n"
   ]
  },
  {
   "attachments": {},
   "cell_type": "markdown",
   "metadata": {
    "deletable": false,
    "editable": false,
    "nbgrader": {
     "cell_type": "markdown",
     "checksum": "3e23431a87af9f28b05c83acc546b244",
     "grade": false,
     "grade_id": "cell-c6440e5c91ad281b",
     "locked": true,
     "schema_version": 3,
     "solution": false,
     "task": false
    },
    "slideshow": {
     "slide_type": "fragment"
    }
   },
   "source": [
    "### Training"
   ]
  },
  {
   "attachments": {},
   "cell_type": "markdown",
   "metadata": {
    "deletable": false,
    "editable": false,
    "nbgrader": {
     "cell_type": "markdown",
     "checksum": "aa49c581b3f3bf76d1669c7d7584a9ee",
     "grade": false,
     "grade_id": "cell-b7e2014c7a5e9ab8",
     "locked": true,
     "schema_version": 3,
     "solution": false,
     "task": false
    }
   },
   "source": [
    "- 4b) Führen Sie das Modell-Training durch"
   ]
  },
  {
   "cell_type": "code",
   "execution_count": 30,
   "metadata": {
    "deletable": false,
    "nbgrader": {
     "cell_type": "code",
     "checksum": "025ae8fae0d44acfabb8bc8b8fdabd1b",
     "grade": false,
     "grade_id": "4b",
     "locked": false,
     "schema_version": 3,
     "solution": true,
     "task": false
    }
   },
   "outputs": [
    {
     "data": {
      "text/html": [
       "<style>#sk-container-id-1 {color: black;background-color: white;}#sk-container-id-1 pre{padding: 0;}#sk-container-id-1 div.sk-toggleable {background-color: white;}#sk-container-id-1 label.sk-toggleable__label {cursor: pointer;display: block;width: 100%;margin-bottom: 0;padding: 0.3em;box-sizing: border-box;text-align: center;}#sk-container-id-1 label.sk-toggleable__label-arrow:before {content: \"▸\";float: left;margin-right: 0.25em;color: #696969;}#sk-container-id-1 label.sk-toggleable__label-arrow:hover:before {color: black;}#sk-container-id-1 div.sk-estimator:hover label.sk-toggleable__label-arrow:before {color: black;}#sk-container-id-1 div.sk-toggleable__content {max-height: 0;max-width: 0;overflow: hidden;text-align: left;background-color: #f0f8ff;}#sk-container-id-1 div.sk-toggleable__content pre {margin: 0.2em;color: black;border-radius: 0.25em;background-color: #f0f8ff;}#sk-container-id-1 input.sk-toggleable__control:checked~div.sk-toggleable__content {max-height: 200px;max-width: 100%;overflow: auto;}#sk-container-id-1 input.sk-toggleable__control:checked~label.sk-toggleable__label-arrow:before {content: \"▾\";}#sk-container-id-1 div.sk-estimator input.sk-toggleable__control:checked~label.sk-toggleable__label {background-color: #d4ebff;}#sk-container-id-1 div.sk-label input.sk-toggleable__control:checked~label.sk-toggleable__label {background-color: #d4ebff;}#sk-container-id-1 input.sk-hidden--visually {border: 0;clip: rect(1px 1px 1px 1px);clip: rect(1px, 1px, 1px, 1px);height: 1px;margin: -1px;overflow: hidden;padding: 0;position: absolute;width: 1px;}#sk-container-id-1 div.sk-estimator {font-family: monospace;background-color: #f0f8ff;border: 1px dotted black;border-radius: 0.25em;box-sizing: border-box;margin-bottom: 0.5em;}#sk-container-id-1 div.sk-estimator:hover {background-color: #d4ebff;}#sk-container-id-1 div.sk-parallel-item::after {content: \"\";width: 100%;border-bottom: 1px solid gray;flex-grow: 1;}#sk-container-id-1 div.sk-label:hover label.sk-toggleable__label {background-color: #d4ebff;}#sk-container-id-1 div.sk-serial::before {content: \"\";position: absolute;border-left: 1px solid gray;box-sizing: border-box;top: 0;bottom: 0;left: 50%;z-index: 0;}#sk-container-id-1 div.sk-serial {display: flex;flex-direction: column;align-items: center;background-color: white;padding-right: 0.2em;padding-left: 0.2em;position: relative;}#sk-container-id-1 div.sk-item {position: relative;z-index: 1;}#sk-container-id-1 div.sk-parallel {display: flex;align-items: stretch;justify-content: center;background-color: white;position: relative;}#sk-container-id-1 div.sk-item::before, #sk-container-id-1 div.sk-parallel-item::before {content: \"\";position: absolute;border-left: 1px solid gray;box-sizing: border-box;top: 0;bottom: 0;left: 50%;z-index: -1;}#sk-container-id-1 div.sk-parallel-item {display: flex;flex-direction: column;z-index: 1;position: relative;background-color: white;}#sk-container-id-1 div.sk-parallel-item:first-child::after {align-self: flex-end;width: 50%;}#sk-container-id-1 div.sk-parallel-item:last-child::after {align-self: flex-start;width: 50%;}#sk-container-id-1 div.sk-parallel-item:only-child::after {width: 0;}#sk-container-id-1 div.sk-dashed-wrapped {border: 1px dashed gray;margin: 0 0.4em 0.5em 0.4em;box-sizing: border-box;padding-bottom: 0.4em;background-color: white;}#sk-container-id-1 div.sk-label label {font-family: monospace;font-weight: bold;display: inline-block;line-height: 1.2em;}#sk-container-id-1 div.sk-label-container {text-align: center;}#sk-container-id-1 div.sk-container {/* jupyter's `normalize.less` sets `[hidden] { display: none; }` but bootstrap.min.css set `[hidden] { display: none !important; }` so we also need the `!important` here to be able to override the default hidden behavior on the sphinx rendered scikit-learn.org. See: https://github.com/scikit-learn/scikit-learn/issues/21755 */display: inline-block !important;position: relative;}#sk-container-id-1 div.sk-text-repr-fallback {display: none;}</style><div id=\"sk-container-id-1\" class=\"sk-top-container\"><div class=\"sk-text-repr-fallback\"><pre>RandomForestClassifier()</pre><b>In a Jupyter environment, please rerun this cell to show the HTML representation or trust the notebook. <br />On GitHub, the HTML representation is unable to render, please try loading this page with nbviewer.org.</b></div><div class=\"sk-container\" hidden><div class=\"sk-item\"><div class=\"sk-estimator sk-toggleable\"><input class=\"sk-toggleable__control sk-hidden--visually\" id=\"sk-estimator-id-1\" type=\"checkbox\" checked><label for=\"sk-estimator-id-1\" class=\"sk-toggleable__label sk-toggleable__label-arrow\">RandomForestClassifier</label><div class=\"sk-toggleable__content\"><pre>RandomForestClassifier()</pre></div></div></div></div></div>"
      ],
      "text/plain": [
       "RandomForestClassifier()"
      ]
     },
     "execution_count": 30,
     "metadata": {},
     "output_type": "execute_result"
    }
   ],
   "source": [
    "model.fit(X_train, y_train)"
   ]
  },
  {
   "cell_type": "code",
   "execution_count": 31,
   "metadata": {
    "deletable": false,
    "editable": false,
    "nbgrader": {
     "cell_type": "code",
     "checksum": "ec3bd25d92f360ecd060b25b9fe5a9c9",
     "grade": true,
     "grade_id": "4b_c",
     "locked": true,
     "points": 1,
     "schema_version": 3,
     "solution": false,
     "task": false
    }
   },
   "outputs": [],
   "source": [
    "# Nehmen Sie keine Änderungen an dieser Zelle vor\n"
   ]
  },
  {
   "attachments": {},
   "cell_type": "markdown",
   "metadata": {
    "deletable": false,
    "editable": false,
    "nbgrader": {
     "cell_type": "markdown",
     "checksum": "add66378e54096e6567a8a014eed8cc1",
     "grade": false,
     "grade_id": "cell-284d0e177274dc65",
     "locked": true,
     "schema_version": 3,
     "solution": false,
     "task": false
    },
    "slideshow": {
     "slide_type": "slide"
    }
   },
   "source": [
    "### Evaluation des Modells"
   ]
  },
  {
   "attachments": {},
   "cell_type": "markdown",
   "metadata": {
    "deletable": false,
    "editable": false,
    "nbgrader": {
     "cell_type": "markdown",
     "checksum": "32948b95527fb7c2d8c0ae7e94d48882",
     "grade": false,
     "grade_id": "cell-d9722d563461edc8",
     "locked": true,
     "schema_version": 3,
     "solution": false,
     "task": false
    }
   },
   "source": [
    "- 4e) Führen Sie die Modellvorhersage durch und speichern Sie das Ergebnis mit der Bezeichnung `y_pred`"
   ]
  },
  {
   "cell_type": "code",
   "execution_count": 32,
   "metadata": {
    "deletable": false,
    "nbgrader": {
     "cell_type": "code",
     "checksum": "04f4fcc3473c2a6fcd0de57a5f8f6d0a",
     "grade": false,
     "grade_id": "4e",
     "locked": false,
     "schema_version": 3,
     "solution": true,
     "task": false
    },
    "slideshow": {
     "slide_type": "fragment"
    }
   },
   "outputs": [],
   "source": [
    "# YOUR CODE HERE\n",
    "y_pred = model.predict(X_test)"
   ]
  },
  {
   "attachments": {},
   "cell_type": "markdown",
   "metadata": {
    "deletable": false,
    "editable": false,
    "nbgrader": {
     "cell_type": "markdown",
     "checksum": "16af239d076ac5871489749b3ebca747",
     "grade": false,
     "grade_id": "cell-04b19b150d45f974",
     "locked": true,
     "schema_version": 3,
     "solution": false,
     "task": false
    }
   },
   "source": [
    "Ausgabe von `y_pred`"
   ]
  },
  {
   "cell_type": "code",
   "execution_count": 33,
   "metadata": {
    "deletable": false,
    "editable": false,
    "nbgrader": {
     "cell_type": "code",
     "checksum": "54a570024ac3ce8d205498b1deab6d40",
     "grade": false,
     "grade_id": "cell-006ab667dd90d3fd",
     "locked": true,
     "schema_version": 3,
     "solution": false,
     "task": false
    }
   },
   "outputs": [
    {
     "data": {
      "text/plain": [
       "array([0, 0, 1, 1, 1, 0, 0, 1, 0, 1, 0, 0, 0, 1, 1, 1, 1, 0, 0, 1, 0, 1,\n",
       "       1, 0, 1, 0, 1, 1, 1, 1, 0, 0, 0, 1, 0, 0, 0, 0, 1, 0, 1, 1, 1, 0,\n",
       "       1, 1, 1, 1, 0, 1, 0, 0, 0, 1, 0, 0, 1, 0, 1, 1, 0, 0, 1, 0, 1, 1,\n",
       "       0, 0, 1, 0, 1, 0, 1, 0, 0, 1, 0, 0, 0, 0, 0, 1, 1, 0, 0, 0, 1, 0,\n",
       "       1, 0, 1, 1, 1, 0, 0, 1, 1, 0, 0, 0, 0, 1, 0, 1, 0, 1, 1, 1, 1, 1,\n",
       "       0, 0, 0, 0, 1, 1, 0, 0, 0, 1])"
      ]
     },
     "execution_count": 33,
     "metadata": {},
     "output_type": "execute_result"
    }
   ],
   "source": [
    "# Nehmen Sie keine Änderungen an dieser Zelle vor\n",
    "\n",
    "y_pred"
   ]
  },
  {
   "cell_type": "code",
   "execution_count": 34,
   "metadata": {
    "deletable": false,
    "editable": false,
    "nbgrader": {
     "cell_type": "code",
     "checksum": "35a24948f8c7d83df95beedde1d969ba",
     "grade": true,
     "grade_id": "4e_c1",
     "locked": true,
     "points": 1,
     "schema_version": 3,
     "solution": false,
     "task": false
    }
   },
   "outputs": [],
   "source": [
    "# Nehmen Sie keine Änderungen an dieser Zelle vor\n"
   ]
  },
  {
   "cell_type": "code",
   "execution_count": 35,
   "metadata": {
    "deletable": false,
    "editable": false,
    "nbgrader": {
     "cell_type": "code",
     "checksum": "7ed3fe5db844b50cbad40554fe707060",
     "grade": true,
     "grade_id": "4e_c2",
     "locked": true,
     "points": 1,
     "schema_version": 3,
     "solution": false,
     "task": false
    }
   },
   "outputs": [],
   "source": [
    "# Nehmen Sie keine Änderungen an dieser Zelle vor\n"
   ]
  },
  {
   "attachments": {},
   "cell_type": "markdown",
   "metadata": {
    "deletable": false,
    "editable": false,
    "nbgrader": {
     "cell_type": "markdown",
     "checksum": "a3c31ac5fbe505208187123d1d6888e6",
     "grade": false,
     "grade_id": "cell-42b05391b7882753",
     "locked": true,
     "schema_version": 3,
     "solution": false,
     "task": false
    }
   },
   "source": [
    "- 4f) Führen Sie eine ausführliche Evaluierung des Modells durch und interpretieren Sie die Ergebnisse"
   ]
  },
  {
   "cell_type": "code",
   "execution_count": 38,
   "metadata": {
    "deletable": false,
    "nbgrader": {
     "cell_type": "code",
     "checksum": "6f3db91f13f285474a80b16398949441",
     "grade": false,
     "grade_id": "4f",
     "locked": false,
     "schema_version": 3,
     "solution": true,
     "task": false
    }
   },
   "outputs": [
    {
     "data": {
      "text/plain": [
       "array([[60, 12],\n",
       "       [ 3, 45]])"
      ]
     },
     "execution_count": 38,
     "metadata": {},
     "output_type": "execute_result"
    }
   ],
   "source": [
    "# Confusion matrix\n",
    "\n",
    "confusion_matrix(y_true=y_test, y_pred=y_pred)"
   ]
  },
  {
   "cell_type": "code",
   "execution_count": null,
   "metadata": {},
   "outputs": [],
   "source": [
    "# Classification report\n",
    "\n",
    "classification_report(y_test, y_pred)"
   ]
  },
  {
   "attachments": {},
   "cell_type": "markdown",
   "metadata": {
    "deletable": false,
    "editable": false,
    "nbgrader": {
     "cell_type": "markdown",
     "checksum": "2b4c2e8e3a96a8be361720be69cd5ad7",
     "grade": false,
     "grade_id": "cell-91a0251365291b2b",
     "locked": true,
     "schema_version": 3,
     "solution": false,
     "task": false
    }
   },
   "source": [
    "Interpretation:"
   ]
  },
  {
   "attachments": {},
   "cell_type": "markdown",
   "metadata": {
    "deletable": false,
    "editable": false,
    "nbgrader": {
     "cell_type": "code",
     "checksum": "055677198f7ecf96bbd3041a5e9acfbf",
     "grade": false,
     "grade_id": "cell-864149f5c58c59c0",
     "locked": true,
     "schema_version": 3,
     "solution": false,
     "task": false
    }
   },
   "source": [
    "Describe the task here!"
   ]
  },
  {
   "cell_type": "code",
   "execution_count": 37,
   "metadata": {
    "deletable": false,
    "editable": false,
    "nbgrader": {
     "cell_type": "code",
     "checksum": "22e7c4ae4eeabe15ed81acbe2e9305ff",
     "grade": true,
     "grade_id": "4f_c",
     "locked": true,
     "points": 1,
     "schema_version": 3,
     "solution": false,
     "task": false
    }
   },
   "outputs": [],
   "source": [
    "# Nehmen Sie keine Änderungen an dieser Zelle vor\n"
   ]
  },
  {
   "attachments": {},
   "cell_type": "markdown",
   "metadata": {
    "deletable": false,
    "editable": false,
    "nbgrader": {
     "cell_type": "markdown",
     "checksum": "5af7d697c71813cd3da743f7a9b0f2ec",
     "grade": false,
     "grade_id": "cell-b2a80438f23087e6",
     "locked": true,
     "schema_version": 3,
     "solution": false,
     "task": false
    }
   },
   "source": [
    "Glückwunsch! Dies war die letzte Aufgabe in dem Notebook. "
   ]
  }
 ],
 "metadata": {
  "kernelspec": {
   "display_name": "mr",
   "language": "python",
   "name": "python3"
  },
  "language_info": {
   "codemirror_mode": {
    "name": "ipython",
    "version": 3
   },
   "file_extension": ".py",
   "mimetype": "text/x-python",
   "name": "python",
   "nbconvert_exporter": "python",
   "pygments_lexer": "ipython3",
   "version": "3.9.16"
  },
  "vscode": {
   "interpreter": {
    "hash": "f67a6e0a9398ad1027ae219b06127e0fb4d07effe0ce32feaf43ec972fa20a12"
   }
  }
 },
 "nbformat": 4,
 "nbformat_minor": 2
}
