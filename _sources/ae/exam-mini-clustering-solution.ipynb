{
 "cells": [
  {
   "attachments": {},
   "cell_type": "markdown",
   "metadata": {},
   "source": [
    "**Wichtige Hinweise**\n",
    "\n",
    "- Aktivieren Sie die Conda-Umgebung bevor Sie beginnen.\n",
    "\n",
    "- Geben Sie als `NAME` ihr HdM-Kürzel an.\n",
    "\n",
    "- Ändern Sie **nicht** den Namen der Datei und löschen Sie keine Zellen.\n",
    "\n",
    "- Bearbeiten Sie alle Zellen mit dem Hinweis <font color='green'> \\# YOUR CODE HERE </font> \n",
    "\n",
    "- Die Funktion **NotImplementedError()** soll die Abgabe von leeren Zellen verhindern. Löschen Sie die Funktion, sobald Sie in einer dieser Zellen arbeiten. \n",
    "\n",
    "- Stellen Sie sicher, dass alles wie erwartet läuft, bevor Sie die Prüfung abgeben: Starten Sie den Kernel neu und führen Sie alle Zellen aus: wählen Sie \"Restart\" und dann \"Run All\" \n",
    "\n",
    "\n",
    "Ich wünsche Ihnen viel Erfolg!"
   ]
  },
  {
   "cell_type": "code",
   "execution_count": null,
   "metadata": {},
   "outputs": [],
   "source": [
    "NAME = \"\""
   ]
  },
  {
   "cell_type": "code",
   "execution_count": null,
   "metadata": {},
   "outputs": [],
   "source": [
    "import IPython\n",
    "assert IPython.version_info[0] >= 3, \"Your version of IPython is too old, please update it.\""
   ]
  },
  {
   "attachments": {},
   "cell_type": "markdown",
   "metadata": {},
   "source": [
    "---"
   ]
  },
  {
   "attachments": {},
   "cell_type": "markdown",
   "metadata": {
    "deletable": false,
    "editable": false,
    "nbgrader": {
     "cell_type": "markdown",
     "checksum": "fbab0da87cf91911f2608bed4d1073f3",
     "grade": false,
     "grade_id": "cell-9b2465372a022f8f",
     "locked": true,
     "schema_version": 3,
     "solution": false,
     "task": false
    },
    "slideshow": {
     "slide_type": "slide"
    }
   },
   "source": [
    "# E-Exam Notebook\n"
   ]
  },
  {
   "attachments": {},
   "cell_type": "markdown",
   "metadata": {
    "deletable": false,
    "editable": false,
    "nbgrader": {
     "cell_type": "markdown",
     "checksum": "3771708020acc0c7b4cd99afc42582c4",
     "grade": false,
     "grade_id": "cell-066cada65e959f44",
     "locked": true,
     "schema_version": 3,
     "solution": false,
     "task": false
    },
    "slideshow": {
     "slide_type": "fragment"
    }
   },
   "source": [
    "## Setup\n",
    "\n",
    "Importieren Sie die Bibliotheken (Sie werden nicht alle benötigen):"
   ]
  },
  {
   "cell_type": "code",
   "execution_count": 1,
   "metadata": {
    "deletable": false,
    "editable": false,
    "nbgrader": {
     "cell_type": "code",
     "checksum": "cec6ead69c4e658a0f83cc62ecb01c90",
     "grade": false,
     "grade_id": "setup",
     "locked": true,
     "schema_version": 3,
     "solution": false,
     "task": false
    },
    "slideshow": {
     "slide_type": "fragment"
    }
   },
   "outputs": [],
   "source": [
    "# Nehmen Sie keine Änderungen an dieser Zelle vor\n",
    "\n",
    "import pandas as pd\n",
    "import altair as alt\n",
    "alt.renderers.enable('mimetype')\n",
    "\n",
    "# Scikit-learn Bibliotheken\n",
    "\n",
    "from sklearn.preprocessing import StandardScaler\n",
    "from sklearn.cluster import KMeans\n",
    "from sklearn.datasets import make_moons\n",
    "from sklearn.datasets import make_blobs\n",
    "from sklearn.cluster import AgglomerativeClustering\n",
    "\n",
    "\n",
    "# Weitere Hilfsbibliotheken\n",
    "import io\n",
    "import warnings\n",
    "warnings.simplefilter(action='ignore', category=FutureWarning)"
   ]
  },
  {
   "attachments": {},
   "cell_type": "markdown",
   "metadata": {
    "deletable": false,
    "editable": false,
    "nbgrader": {
     "cell_type": "markdown",
     "checksum": "dbb0a94bd6d6e1a16c341f571a47b6f4",
     "grade": false,
     "grade_id": "cell-d60c55ea62648a7a",
     "locked": true,
     "schema_version": 3,
     "solution": false,
     "task": false
    }
   },
   "source": [
    "## 1) Daten"
   ]
  },
  {
   "attachments": {},
   "cell_type": "markdown",
   "metadata": {
    "deletable": false,
    "editable": false,
    "nbgrader": {
     "cell_type": "markdown",
     "checksum": "d786fd96e20256f91fac40cb1e9e6fda",
     "grade": false,
     "grade_id": "cell-196f313fa1485b69",
     "locked": true,
     "schema_version": 3,
     "solution": false,
     "task": false
    }
   },
   "source": [
    "### Daten importieren"
   ]
  },
  {
   "attachments": {},
   "cell_type": "markdown",
   "metadata": {
    "deletable": false,
    "editable": false,
    "nbgrader": {
     "cell_type": "markdown",
     "checksum": "6a99c7204f565a393e75d8a011bfbe14",
     "grade": false,
     "grade_id": "cell-9a5d6dc92beaa2c1",
     "locked": true,
     "schema_version": 3,
     "solution": false,
     "task": false
    }
   },
   "source": [
    "- Importieren Sie die Daten:"
   ]
  },
  {
   "cell_type": "code",
   "execution_count": 4,
   "metadata": {},
   "outputs": [],
   "source": [
    "LINK = \"https://raw.githubusercontent.com/kirenz/datasets/master/mini_test_drives.csv\"\n",
    "\n",
    "df = pd.read_csv(LINK)"
   ]
  },
  {
   "attachments": {},
   "cell_type": "markdown",
   "metadata": {
    "deletable": false,
    "editable": false,
    "nbgrader": {
     "cell_type": "markdown",
     "checksum": "65ea5b0bcd7e176c813656f669663b96",
     "grade": false,
     "grade_id": "cell-26d88dcc3d6db559",
     "locked": true,
     "schema_version": 3,
     "solution": false,
     "task": false
    },
    "slideshow": {
     "slide_type": "subslide"
    }
   },
   "source": [
    "Verschaffen Sie sich eine Übersicht über die Daten: "
   ]
  },
  {
   "cell_type": "code",
   "execution_count": 5,
   "metadata": {
    "deletable": false,
    "editable": false,
    "nbgrader": {
     "cell_type": "code",
     "checksum": "c757ea374bdc9ff82d51c0bd30c14752",
     "grade": false,
     "grade_id": "cell-0e5c9e3346799411",
     "locked": true,
     "schema_version": 3,
     "solution": false,
     "task": false
    },
    "slideshow": {
     "slide_type": "subslide"
    }
   },
   "outputs": [
    {
     "data": {
      "text/html": [
       "<div>\n",
       "<style scoped>\n",
       "    .dataframe tbody tr th:only-of-type {\n",
       "        vertical-align: middle;\n",
       "    }\n",
       "\n",
       "    .dataframe tbody tr th {\n",
       "        vertical-align: top;\n",
       "    }\n",
       "\n",
       "    .dataframe thead th {\n",
       "        text-align: right;\n",
       "    }\n",
       "</style>\n",
       "<table border=\"1\" class=\"dataframe\">\n",
       "  <thead>\n",
       "    <tr style=\"text-align: right;\">\n",
       "      <th></th>\n",
       "      <th>campaign</th>\n",
       "      <th>spendings</th>\n",
       "      <th>test_drives</th>\n",
       "      <th>exposure</th>\n",
       "      <th>rating</th>\n",
       "    </tr>\n",
       "  </thead>\n",
       "  <tbody>\n",
       "    <tr>\n",
       "      <th>0</th>\n",
       "      <td>1</td>\n",
       "      <td>10.256</td>\n",
       "      <td>330</td>\n",
       "      <td>43</td>\n",
       "      <td>10</td>\n",
       "    </tr>\n",
       "    <tr>\n",
       "      <th>1</th>\n",
       "      <td>2</td>\n",
       "      <td>985.685</td>\n",
       "      <td>120</td>\n",
       "      <td>28</td>\n",
       "      <td>7</td>\n",
       "    </tr>\n",
       "    <tr>\n",
       "      <th>2</th>\n",
       "      <td>3</td>\n",
       "      <td>1445.563</td>\n",
       "      <td>360</td>\n",
       "      <td>35</td>\n",
       "      <td>7</td>\n",
       "    </tr>\n",
       "    <tr>\n",
       "      <th>3</th>\n",
       "      <td>4</td>\n",
       "      <td>1188.193</td>\n",
       "      <td>270</td>\n",
       "      <td>33</td>\n",
       "      <td>7</td>\n",
       "    </tr>\n",
       "    <tr>\n",
       "      <th>4</th>\n",
       "      <td>5</td>\n",
       "      <td>574.513</td>\n",
       "      <td>220</td>\n",
       "      <td>44</td>\n",
       "      <td>5</td>\n",
       "    </tr>\n",
       "  </tbody>\n",
       "</table>\n",
       "</div>"
      ],
      "text/plain": [
       "   campaign  spendings  test_drives  exposure  rating\n",
       "0         1     10.256          330        43      10\n",
       "1         2    985.685          120        28       7\n",
       "2         3   1445.563          360        35       7\n",
       "3         4   1188.193          270        33       7\n",
       "4         5    574.513          220        44       5"
      ]
     },
     "execution_count": 5,
     "metadata": {},
     "output_type": "execute_result"
    }
   ],
   "source": [
    "df.head()"
   ]
  },
  {
   "cell_type": "code",
   "execution_count": 6,
   "metadata": {
    "deletable": false,
    "editable": false,
    "nbgrader": {
     "cell_type": "code",
     "checksum": "1b07c19b2ba8192a4be0dfe3c5f145a1",
     "grade": false,
     "grade_id": "cell-19d1a463a1d8044c",
     "locked": true,
     "schema_version": 3,
     "solution": false,
     "task": false
    }
   },
   "outputs": [
    {
     "name": "stdout",
     "output_type": "stream",
     "text": [
      "<class 'pandas.core.frame.DataFrame'>\n",
      "RangeIndex: 200 entries, 0 to 199\n",
      "Data columns (total 5 columns):\n",
      " #   Column       Non-Null Count  Dtype  \n",
      "---  ------       --------------  -----  \n",
      " 0   campaign     200 non-null    int64  \n",
      " 1   spendings    200 non-null    float64\n",
      " 2   test_drives  200 non-null    int64  \n",
      " 3   exposure     200 non-null    int64  \n",
      " 4   rating       200 non-null    int64  \n",
      "dtypes: float64(1), int64(4)\n",
      "memory usage: 7.9 KB\n"
     ]
    }
   ],
   "source": [
    "df.info()"
   ]
  },
  {
   "attachments": {},
   "cell_type": "markdown",
   "metadata": {
    "deletable": false,
    "editable": false,
    "nbgrader": {
     "cell_type": "markdown",
     "checksum": "aa560894185b890be7716c663f8aef5c",
     "grade": false,
     "grade_id": "cell-c5f3f3d7183de825",
     "locked": true,
     "schema_version": 3,
     "solution": false,
     "task": false
    }
   },
   "source": [
    "## Daten für Clustering vorbereiten"
   ]
  },
  {
   "attachments": {},
   "cell_type": "markdown",
   "metadata": {
    "deletable": false,
    "editable": false,
    "nbgrader": {
     "cell_type": "markdown",
     "checksum": "2c72cb1d342277ba189bbcabc6faf39c",
     "grade": false,
     "grade_id": "cell-59a994445e751c75",
     "locked": true,
     "schema_version": 3,
     "solution": false,
     "task": false
    },
    "slideshow": {
     "slide_type": "slide"
    }
   },
   "source": [
    "Führen Sie eine K-Means-Cluster-Analyse durch. Verwenden Sie dafür die Variablen \"exposure\" und \"rating\"."
   ]
  },
  {
   "cell_type": "code",
   "execution_count": null,
   "metadata": {},
   "outputs": [],
   "source": [
    "# Daten vorbereiten"
   ]
  },
  {
   "cell_type": "code",
   "execution_count": 7,
   "metadata": {
    "deletable": false,
    "editable": false,
    "nbgrader": {
     "cell_type": "code",
     "checksum": "386965745daa6903b79e633f6c92274f",
     "grade": false,
     "grade_id": "var",
     "locked": true,
     "schema_version": 3,
     "solution": false,
     "task": false
    },
    "slideshow": {
     "slide_type": "fragment"
    }
   },
   "outputs": [],
   "source": [
    "scaler = StandardScaler()"
   ]
  },
  {
   "cell_type": "code",
   "execution_count": 9,
   "metadata": {},
   "outputs": [],
   "source": [
    "X = df[['exposure', 'rating']]"
   ]
  },
  {
   "cell_type": "code",
   "execution_count": 17,
   "metadata": {},
   "outputs": [
    {
     "data": {
      "text/plain": [
       "array([[ 1.26645653,  2.32074007],\n",
       "       [ 0.04085344,  0.16525394],\n",
       "       [ 0.61280155,  0.16525394],\n",
       "       [ 0.4493878 ,  0.16525394],\n",
       "       [ 1.3481634 , -1.27173682],\n",
       "       [-0.69450842, -1.27173682],\n",
       "       [-0.61280155, -4.14571834],\n",
       "       [-0.4493878 ,  1.6022447 ],\n",
       "       [-0.53109467,  0.16525394],\n",
       "       [ 1.02133591,  0.16525394],\n",
       "       [ 0.36768093,  0.16525394],\n",
       "       [-0.61280155, -3.42722296],\n",
       "       [-0.28597406,  0.88374932],\n",
       "       [ 0.85792217, -0.55324144],\n",
       "       [-0.28597406,  0.16525394],\n",
       "       [-0.20426718, -1.27173682],\n",
       "       [ 0.61280155, -1.27173682],\n",
       "       [ 0.69450842,  0.88374932],\n",
       "       [-0.04085344,  0.88374932],\n",
       "       [ 0.4493878 ,  0.88374932],\n",
       "       [ 0.4493878 ,  0.16525394],\n",
       "       [ 0.04085344, -0.55324144],\n",
       "       [ 0.20426718,  1.6022447 ],\n",
       "       [ 0.53109467,  0.16525394],\n",
       "       [ 1.75669777,  0.16525394],\n",
       "       [ 1.02133591,  0.88374932],\n",
       "       [-0.61280155, -1.9902322 ],\n",
       "       [ 1.18474966,  0.16525394],\n",
       "       [ 0.61280155,  0.88374932],\n",
       "       [-1.59328402, -0.55324144],\n",
       "       [ 1.75669777,  0.16525394],\n",
       "       [-0.69450842,  0.88374932],\n",
       "       [ 1.18474966, -0.55324144],\n",
       "       [-1.75669777,  0.16525394],\n",
       "       [ 0.69450842, -0.55324144],\n",
       "       [ 0.36768093,  0.16525394],\n",
       "       [ 0.04085344, -0.55324144],\n",
       "       [-0.20426718,  0.88374932],\n",
       "       [ 0.53109467,  0.88374932],\n",
       "       [-0.53109467, -0.55324144],\n",
       "       [ 0.53109467,  0.16525394],\n",
       "       [ 2.90059399,  0.16525394],\n",
       "       [ 0.28597406,  0.16525394],\n",
       "       [-0.20426718,  0.16525394],\n",
       "       [ 1.18474966,  0.16525394],\n",
       "       [ 0.77621529,  0.16525394],\n",
       "       [-0.20426718,  0.88374932],\n",
       "       [-0.12256031,  0.16525394],\n",
       "       [ 0.93962904,  0.16525394],\n",
       "       [ 1.51157715,  0.16525394],\n",
       "       [ 0.69450842, -0.55324144],\n",
       "       [-1.26645653, -1.9902322 ],\n",
       "       [-2.08352526,  0.88374932],\n",
       "       [ 0.12256031,  0.88374932],\n",
       "       [ 0.4493878 ,  0.88374932],\n",
       "       [ 0.04085344,  0.16525394],\n",
       "       [-1.42987028, -0.55324144],\n",
       "       [ 0.85792217,  0.16525394],\n",
       "       [-0.69450842, -1.9902322 ],\n",
       "       [-1.18474966, -0.55324144],\n",
       "       [ 0.20426718,  0.16525394],\n",
       "       [ 0.85792217,  0.88374932],\n",
       "       [-0.4493878 ,  0.88374932],\n",
       "       [-0.36768093, -0.55324144],\n",
       "       [-0.4493878 ,  1.6022447 ],\n",
       "       [-0.61280155,  0.16525394],\n",
       "       [-0.77621529, -0.55324144],\n",
       "       [ 0.77621529,  0.16525394],\n",
       "       [-0.93962904,  0.88374932],\n",
       "       [ 0.36768093,  0.88374932],\n",
       "       [-0.12256031, -1.27173682],\n",
       "       [ 2.08352526,  1.6022447 ],\n",
       "       [ 0.04085344,  0.16525394],\n",
       "       [ 0.36768093,  0.16525394],\n",
       "       [-0.28597406,  0.16525394],\n",
       "       [ 0.77621529, -0.55324144],\n",
       "       [ 0.20426718,  0.88374932],\n",
       "       [-0.69450842,  0.16525394],\n",
       "       [ 1.59328402, -0.55324144],\n",
       "       [-0.4493878 , -1.27173682],\n",
       "       [-1.42987028,  0.88374932],\n",
       "       [-2.16523213, -1.9902322 ],\n",
       "       [-2.16523213, -0.55324144],\n",
       "       [ 0.93962904, -0.55324144],\n",
       "       [-1.59328402, -1.27173682],\n",
       "       [ 0.85792217,  0.16525394],\n",
       "       [ 0.61280155, -1.27173682],\n",
       "       [ 1.02133591, -1.27173682],\n",
       "       [-0.4493878 ,  0.16525394],\n",
       "       [-0.04085344,  0.88374932],\n",
       "       [ 0.28597406, -0.55324144],\n",
       "       [-0.69450842,  0.16525394],\n",
       "       [-0.28597406,  1.6022447 ],\n",
       "       [-2.16523213,  0.16525394],\n",
       "       [ 0.85792217,  0.88374932],\n",
       "       [-0.12256031, -0.55324144],\n",
       "       [-1.3481634 , -0.55324144],\n",
       "       [ 0.53109467, -0.55324144],\n",
       "       [ 2.24693901,  0.16525394],\n",
       "       [-1.83840464,  0.16525394],\n",
       "       [ 0.53109467, -0.55324144],\n",
       "       [ 0.77621529,  1.6022447 ],\n",
       "       [-1.18474966,  0.88374932],\n",
       "       [-0.36768093, -0.55324144],\n",
       "       [ 2.16523213, -0.55324144],\n",
       "       [-0.77621529,  0.16525394],\n",
       "       [-2.08352526,  0.16525394],\n",
       "       [-1.3481634 , -0.55324144],\n",
       "       [ 0.20426718,  0.88374932],\n",
       "       [-0.4493878 ,  0.16525394],\n",
       "       [ 0.69450842, -0.55324144],\n",
       "       [ 0.77621529,  0.88374932],\n",
       "       [-1.51157715, -2.70872758],\n",
       "       [-2.08352526,  0.16525394],\n",
       "       [-1.26645653,  0.88374932],\n",
       "       [-1.83840464,  1.6022447 ],\n",
       "       [-1.10304278,  0.16525394],\n",
       "       [-0.61280155, -1.27173682],\n",
       "       [ 2.41035275, -0.55324144],\n",
       "       [-0.69450842,  0.88374932],\n",
       "       [ 0.61280155,  0.16525394],\n",
       "       [-0.4493878 , -1.27173682],\n",
       "       [-0.93962904,  0.16525394],\n",
       "       [ 2.08352526,  0.16525394],\n",
       "       [-1.92011151, -0.55324144],\n",
       "       [ 0.12256031, -0.55324144],\n",
       "       [ 1.26645653,  0.16525394],\n",
       "       [-0.12256031,  0.16525394],\n",
       "       [ 0.04085344,  0.16525394],\n",
       "       [ 0.77621529,  0.88374932],\n",
       "       [ 0.36768093, -1.27173682],\n",
       "       [ 0.53109467,  0.16525394],\n",
       "       [ 0.20426718,  0.16525394],\n",
       "       [-1.02133591,  0.16525394],\n",
       "       [-0.36768093,  0.16525394],\n",
       "       [ 0.28597406,  0.88374932],\n",
       "       [-0.53109467, -1.27173682],\n",
       "       [ 0.04085344, -4.14571834],\n",
       "       [-0.77621529,  0.16525394],\n",
       "       [ 0.04085344,  0.16525394],\n",
       "       [ 0.77621529,  0.88374932],\n",
       "       [-0.12256031, -0.55324144],\n",
       "       [ 0.20426718,  0.88374932],\n",
       "       [-1.42987028,  0.16525394],\n",
       "       [-0.53109467,  0.16525394],\n",
       "       [-0.77621529,  1.6022447 ],\n",
       "       [-1.10304278,  0.16525394],\n",
       "       [ 0.85792217,  0.16525394],\n",
       "       [ 0.69450842, -0.55324144],\n",
       "       [ 0.36768093,  0.16525394],\n",
       "       [-1.51157715, -1.27173682],\n",
       "       [ 0.93962904, -1.27173682],\n",
       "       [-0.28597406,  0.16525394],\n",
       "       [ 1.42987028,  0.16525394],\n",
       "       [-1.18474966,  0.88374932],\n",
       "       [-0.85792217, -0.55324144],\n",
       "       [ 0.36768093,  0.16525394],\n",
       "       [-0.36768093, -0.55324144],\n",
       "       [-2.24693901, -0.55324144],\n",
       "       [ 0.61280155, -1.27173682],\n",
       "       [-0.12256031, -0.55324144],\n",
       "       [-0.69450842, -0.55324144],\n",
       "       [-0.12256031,  0.16525394],\n",
       "       [ 2.08352526,  0.88374932],\n",
       "       [ 0.12256031,  0.88374932],\n",
       "       [ 0.04085344,  0.16525394],\n",
       "       [-0.85792217, -0.55324144],\n",
       "       [-0.12256031,  0.88374932],\n",
       "       [ 1.18474966,  0.88374932],\n",
       "       [-0.85792217, -0.55324144],\n",
       "       [ 0.69450842,  0.88374932],\n",
       "       [ 1.42987028,  0.16525394],\n",
       "       [-0.61280155,  0.16525394],\n",
       "       [-1.02133591,  0.16525394],\n",
       "       [ 0.04085344,  0.88374932],\n",
       "       [-0.04085344, -0.55324144],\n",
       "       [-0.85792217,  0.88374932],\n",
       "       [ 0.36768093,  0.88374932],\n",
       "       [ 1.51157715,  1.6022447 ],\n",
       "       [ 1.59328402,  0.88374932],\n",
       "       [-0.69450842, -4.14571834],\n",
       "       [-0.4493878 ,  0.88374932],\n",
       "       [ 2.24693901,  1.6022447 ],\n",
       "       [ 0.28597406, -1.27173682],\n",
       "       [ 0.93962904,  0.88374932],\n",
       "       [-0.53109467, -0.55324144],\n",
       "       [ 0.69450842, -0.55324144],\n",
       "       [-0.53109467,  0.16525394],\n",
       "       [ 1.3481634 ,  0.16525394],\n",
       "       [-0.04085344,  0.16525394],\n",
       "       [-0.93962904, -0.55324144],\n",
       "       [ 0.4493878 , -0.55324144],\n",
       "       [ 0.4493878 ,  0.88374932],\n",
       "       [-0.53109467,  0.16525394],\n",
       "       [ 0.61280155,  1.6022447 ],\n",
       "       [-0.12256031,  0.16525394],\n",
       "       [-1.10304278, -0.55324144],\n",
       "       [ 0.53109467, -0.55324144],\n",
       "       [-1.3481634 ,  0.88374932],\n",
       "       [-0.61280155,  1.6022447 ]])"
      ]
     },
     "execution_count": 17,
     "metadata": {},
     "output_type": "execute_result"
    }
   ],
   "source": [
    "X_std = scaler.fit_transform(X)\n",
    "X_std"
   ]
  },
  {
   "cell_type": "code",
   "execution_count": 12,
   "metadata": {},
   "outputs": [
    {
     "data": {
      "text/html": [
       "<div>\n",
       "<style scoped>\n",
       "    .dataframe tbody tr th:only-of-type {\n",
       "        vertical-align: middle;\n",
       "    }\n",
       "\n",
       "    .dataframe tbody tr th {\n",
       "        vertical-align: top;\n",
       "    }\n",
       "\n",
       "    .dataframe thead th {\n",
       "        text-align: right;\n",
       "    }\n",
       "</style>\n",
       "<table border=\"1\" class=\"dataframe\">\n",
       "  <thead>\n",
       "    <tr style=\"text-align: right;\">\n",
       "      <th></th>\n",
       "      <th>exposure</th>\n",
       "      <th>rating</th>\n",
       "    </tr>\n",
       "  </thead>\n",
       "  <tbody>\n",
       "    <tr>\n",
       "      <th>0</th>\n",
       "      <td>1.266457</td>\n",
       "      <td>2.320740</td>\n",
       "    </tr>\n",
       "    <tr>\n",
       "      <th>1</th>\n",
       "      <td>0.040853</td>\n",
       "      <td>0.165254</td>\n",
       "    </tr>\n",
       "    <tr>\n",
       "      <th>2</th>\n",
       "      <td>0.612802</td>\n",
       "      <td>0.165254</td>\n",
       "    </tr>\n",
       "    <tr>\n",
       "      <th>3</th>\n",
       "      <td>0.449388</td>\n",
       "      <td>0.165254</td>\n",
       "    </tr>\n",
       "    <tr>\n",
       "      <th>4</th>\n",
       "      <td>1.348163</td>\n",
       "      <td>-1.271737</td>\n",
       "    </tr>\n",
       "    <tr>\n",
       "      <th>...</th>\n",
       "      <td>...</td>\n",
       "      <td>...</td>\n",
       "    </tr>\n",
       "    <tr>\n",
       "      <th>195</th>\n",
       "      <td>-0.122560</td>\n",
       "      <td>0.165254</td>\n",
       "    </tr>\n",
       "    <tr>\n",
       "      <th>196</th>\n",
       "      <td>-1.103043</td>\n",
       "      <td>-0.553241</td>\n",
       "    </tr>\n",
       "    <tr>\n",
       "      <th>197</th>\n",
       "      <td>0.531095</td>\n",
       "      <td>-0.553241</td>\n",
       "    </tr>\n",
       "    <tr>\n",
       "      <th>198</th>\n",
       "      <td>-1.348163</td>\n",
       "      <td>0.883749</td>\n",
       "    </tr>\n",
       "    <tr>\n",
       "      <th>199</th>\n",
       "      <td>-0.612802</td>\n",
       "      <td>1.602245</td>\n",
       "    </tr>\n",
       "  </tbody>\n",
       "</table>\n",
       "<p>200 rows × 2 columns</p>\n",
       "</div>"
      ],
      "text/plain": [
       "     exposure    rating\n",
       "0    1.266457  2.320740\n",
       "1    0.040853  0.165254\n",
       "2    0.612802  0.165254\n",
       "3    0.449388  0.165254\n",
       "4    1.348163 -1.271737\n",
       "..        ...       ...\n",
       "195 -0.122560  0.165254\n",
       "196 -1.103043 -0.553241\n",
       "197  0.531095 -0.553241\n",
       "198 -1.348163  0.883749\n",
       "199 -0.612802  1.602245\n",
       "\n",
       "[200 rows x 2 columns]"
      ]
     },
     "execution_count": 12,
     "metadata": {},
     "output_type": "execute_result"
    }
   ],
   "source": [
    "df_std = pd.DataFrame(X_std, columns = ['exposure','rating'])\n",
    "df_std"
   ]
  },
  {
   "attachments": {},
   "cell_type": "markdown",
   "metadata": {
    "deletable": false,
    "editable": false,
    "nbgrader": {
     "cell_type": "markdown",
     "checksum": "c25e577abc0d027965dd5a299945c0a3",
     "grade": false,
     "grade_id": "cell-72852d457cf819ea",
     "locked": true,
     "schema_version": 3,
     "solution": false,
     "task": false
    }
   },
   "source": [
    "### 2) Explorative Analyse"
   ]
  },
  {
   "attachments": {},
   "cell_type": "markdown",
   "metadata": {
    "deletable": false,
    "editable": false,
    "nbgrader": {
     "cell_type": "markdown",
     "checksum": "08c79d456b796f160417aa9459d72c06",
     "grade": false,
     "grade_id": "cell-2fa6ea48aeb3c005",
     "locked": true,
     "schema_version": 3,
     "solution": false,
     "task": false
    }
   },
   "source": [
    "- 3a) Erzeugen Sie eine Abbildung, in welcher Sie den Zusammenhang zwischen den beiden Variablen darstellen. Wählen Sie eine geeignete Darstellungsform."
   ]
  },
  {
   "cell_type": "code",
   "execution_count": 15,
   "metadata": {
    "deletable": false,
    "nbgrader": {
     "cell_type": "code",
     "checksum": "ff806b57798b129e9c952cd63e8ae471",
     "grade": false,
     "grade_id": "3a",
     "locked": false,
     "schema_version": 3,
     "solution": true,
     "task": false
    }
   },
   "outputs": [
    {
     "data": {
      "application/vnd.vegalite.v4+json": {
       "$schema": "https://vega.github.io/schema/vega-lite/v4.17.0.json",
       "config": {
        "view": {
         "continuousHeight": 300,
         "continuousWidth": 400
        }
       },
       "data": {
        "name": "data-ebc1ffb7e9c0e699848858e366234598"
       },
       "datasets": {
        "data-ebc1ffb7e9c0e699848858e366234598": [
         {
          "exposure": 1.2664565305085689,
          "rating": 2.320740074817397
         },
         {
          "exposure": 0.040853436468018346,
          "rating": 0.16525393721609974
         },
         {
          "exposure": 0.6128015470202752,
          "rating": 0.16525393721609974
         },
         {
          "exposure": 0.4493878011482018,
          "rating": 0.16525393721609974
         },
         {
          "exposure": 1.3481634034446055,
          "rating": -1.271736821184765
         },
         {
          "exposure": -0.694508419956312,
          "rating": -1.271736821184765
         },
         {
          "exposure": -0.6128015470202752,
          "rating": -4.145718337986494
         },
         {
          "exposure": -0.4493878011482018,
          "rating": 1.6022446956169645
         },
         {
          "exposure": -0.5310946740842385,
          "rating": 0.16525393721609974
         },
         {
          "exposure": 1.0213359117004588,
          "rating": 0.16525393721609974
         },
         {
          "exposure": 0.36768092821216514,
          "rating": 0.16525393721609974
         },
         {
          "exposure": -0.6128015470202752,
          "rating": -3.427222958786062
         },
         {
          "exposure": -0.28597405527612846,
          "rating": 0.8837493164165321
         },
         {
          "exposure": 0.8579221658283853,
          "rating": -0.5532414419843326
         },
         {
          "exposure": -0.28597405527612846,
          "rating": 0.16525393721609974
         },
         {
          "exposure": -0.20426718234009175,
          "rating": -1.271736821184765
         },
         {
          "exposure": 0.6128015470202752,
          "rating": -1.271736821184765
         },
         {
          "exposure": 0.694508419956312,
          "rating": 0.8837493164165321
         },
         {
          "exposure": -0.040853436468018346,
          "rating": 0.8837493164165321
         },
         {
          "exposure": 0.4493878011482018,
          "rating": 0.8837493164165321
         },
         {
          "exposure": 0.4493878011482018,
          "rating": 0.16525393721609974
         },
         {
          "exposure": 0.040853436468018346,
          "rating": -0.5532414419843326
         },
         {
          "exposure": 0.20426718234009175,
          "rating": 1.6022446956169645
         },
         {
          "exposure": 0.5310946740842385,
          "rating": 0.16525393721609974
         },
         {
          "exposure": 1.756697768124789,
          "rating": 0.16525393721609974
         },
         {
          "exposure": 1.0213359117004588,
          "rating": 0.8837493164165321
         },
         {
          "exposure": -0.6128015470202752,
          "rating": -1.9902322003851973
         },
         {
          "exposure": 1.184749657572532,
          "rating": 0.16525393721609974
         },
         {
          "exposure": 0.6128015470202752,
          "rating": 0.8837493164165321
         },
         {
          "exposure": -1.5932840222527156,
          "rating": -0.5532414419843326
         },
         {
          "exposure": 1.756697768124789,
          "rating": 0.16525393721609974
         },
         {
          "exposure": -0.694508419956312,
          "rating": 0.8837493164165321
         },
         {
          "exposure": 1.184749657572532,
          "rating": -0.5532414419843326
         },
         {
          "exposure": -1.756697768124789,
          "rating": 0.16525393721609974
         },
         {
          "exposure": 0.694508419956312,
          "rating": -0.5532414419843326
         },
         {
          "exposure": 0.36768092821216514,
          "rating": 0.16525393721609974
         },
         {
          "exposure": 0.040853436468018346,
          "rating": -0.5532414419843326
         },
         {
          "exposure": -0.20426718234009175,
          "rating": 0.8837493164165321
         },
         {
          "exposure": 0.5310946740842385,
          "rating": 0.8837493164165321
         },
         {
          "exposure": -0.5310946740842385,
          "rating": -0.5532414419843326
         },
         {
          "exposure": 0.5310946740842385,
          "rating": 0.16525393721609974
         },
         {
          "exposure": 2.9005939892293027,
          "rating": 0.16525393721609974
         },
         {
          "exposure": 0.28597405527612846,
          "rating": 0.16525393721609974
         },
         {
          "exposure": -0.20426718234009175,
          "rating": 0.16525393721609974
         },
         {
          "exposure": 1.184749657572532,
          "rating": 0.16525393721609974
         },
         {
          "exposure": 0.7762152928923486,
          "rating": 0.16525393721609974
         },
         {
          "exposure": -0.20426718234009175,
          "rating": 0.8837493164165321
         },
         {
          "exposure": -0.12256030940405505,
          "rating": 0.16525393721609974
         },
         {
          "exposure": 0.939629038764422,
          "rating": 0.16525393721609974
         },
         {
          "exposure": 1.511577149316679,
          "rating": 0.16525393721609974
         },
         {
          "exposure": 0.694508419956312,
          "rating": -0.5532414419843326
         },
         {
          "exposure": -1.2664565305085689,
          "rating": -1.9902322003851973
         },
         {
          "exposure": -2.083525259868936,
          "rating": 0.8837493164165321
         },
         {
          "exposure": 0.12256030940405505,
          "rating": 0.8837493164165321
         },
         {
          "exposure": 0.4493878011482018,
          "rating": 0.8837493164165321
         },
         {
          "exposure": 0.040853436468018346,
          "rating": 0.16525393721609974
         },
         {
          "exposure": -1.4298702763806421,
          "rating": -0.5532414419843326
         },
         {
          "exposure": 0.8579221658283853,
          "rating": 0.16525393721609974
         },
         {
          "exposure": -0.694508419956312,
          "rating": -1.9902322003851973
         },
         {
          "exposure": -1.184749657572532,
          "rating": -0.5532414419843326
         },
         {
          "exposure": 0.20426718234009175,
          "rating": 0.16525393721609974
         },
         {
          "exposure": 0.8579221658283853,
          "rating": 0.8837493164165321
         },
         {
          "exposure": -0.4493878011482018,
          "rating": 0.8837493164165321
         },
         {
          "exposure": -0.36768092821216514,
          "rating": -0.5532414419843326
         },
         {
          "exposure": -0.4493878011482018,
          "rating": 1.6022446956169645
         },
         {
          "exposure": -0.6128015470202752,
          "rating": 0.16525393721609974
         },
         {
          "exposure": -0.7762152928923486,
          "rating": -0.5532414419843326
         },
         {
          "exposure": 0.7762152928923486,
          "rating": 0.16525393721609974
         },
         {
          "exposure": -0.939629038764422,
          "rating": 0.8837493164165321
         },
         {
          "exposure": 0.36768092821216514,
          "rating": 0.8837493164165321
         },
         {
          "exposure": -0.12256030940405505,
          "rating": -1.271736821184765
         },
         {
          "exposure": 2.083525259868936,
          "rating": 1.6022446956169645
         },
         {
          "exposure": 0.040853436468018346,
          "rating": 0.16525393721609974
         },
         {
          "exposure": 0.36768092821216514,
          "rating": 0.16525393721609974
         },
         {
          "exposure": -0.28597405527612846,
          "rating": 0.16525393721609974
         },
         {
          "exposure": 0.7762152928923486,
          "rating": -0.5532414419843326
         },
         {
          "exposure": 0.20426718234009175,
          "rating": 0.8837493164165321
         },
         {
          "exposure": -0.694508419956312,
          "rating": 0.16525393721609974
         },
         {
          "exposure": 1.5932840222527156,
          "rating": -0.5532414419843326
         },
         {
          "exposure": -0.4493878011482018,
          "rating": -1.271736821184765
         },
         {
          "exposure": -1.4298702763806421,
          "rating": 0.8837493164165321
         },
         {
          "exposure": -2.1652321328049724,
          "rating": -1.9902322003851973
         },
         {
          "exposure": -2.1652321328049724,
          "rating": -0.5532414419843326
         },
         {
          "exposure": 0.939629038764422,
          "rating": -0.5532414419843326
         },
         {
          "exposure": -1.5932840222527156,
          "rating": -1.271736821184765
         },
         {
          "exposure": 0.8579221658283853,
          "rating": 0.16525393721609974
         },
         {
          "exposure": 0.6128015470202752,
          "rating": -1.271736821184765
         },
         {
          "exposure": 1.0213359117004588,
          "rating": -1.271736821184765
         },
         {
          "exposure": -0.4493878011482018,
          "rating": 0.16525393721609974
         },
         {
          "exposure": -0.040853436468018346,
          "rating": 0.8837493164165321
         },
         {
          "exposure": 0.28597405527612846,
          "rating": -0.5532414419843326
         },
         {
          "exposure": -0.694508419956312,
          "rating": 0.16525393721609974
         },
         {
          "exposure": -0.28597405527612846,
          "rating": 1.6022446956169645
         },
         {
          "exposure": -2.1652321328049724,
          "rating": 0.16525393721609974
         },
         {
          "exposure": 0.8579221658283853,
          "rating": 0.8837493164165321
         },
         {
          "exposure": -0.12256030940405505,
          "rating": -0.5532414419843326
         },
         {
          "exposure": -1.3481634034446055,
          "rating": -0.5532414419843326
         },
         {
          "exposure": 0.5310946740842385,
          "rating": -0.5532414419843326
         },
         {
          "exposure": 2.2469390057410092,
          "rating": 0.16525393721609974
         },
         {
          "exposure": -1.8384046410608257,
          "rating": 0.16525393721609974
         },
         {
          "exposure": 0.5310946740842385,
          "rating": -0.5532414419843326
         },
         {
          "exposure": 0.7762152928923486,
          "rating": 1.6022446956169645
         },
         {
          "exposure": -1.184749657572532,
          "rating": 0.8837493164165321
         },
         {
          "exposure": -0.36768092821216514,
          "rating": -0.5532414419843326
         },
         {
          "exposure": 2.1652321328049724,
          "rating": -0.5532414419843326
         },
         {
          "exposure": -0.7762152928923486,
          "rating": 0.16525393721609974
         },
         {
          "exposure": -2.083525259868936,
          "rating": 0.16525393721609974
         },
         {
          "exposure": -1.3481634034446055,
          "rating": -0.5532414419843326
         },
         {
          "exposure": 0.20426718234009175,
          "rating": 0.8837493164165321
         },
         {
          "exposure": -0.4493878011482018,
          "rating": 0.16525393721609974
         },
         {
          "exposure": 0.694508419956312,
          "rating": -0.5532414419843326
         },
         {
          "exposure": 0.7762152928923486,
          "rating": 0.8837493164165321
         },
         {
          "exposure": -1.511577149316679,
          "rating": -2.70872757958563
         },
         {
          "exposure": -2.083525259868936,
          "rating": 0.16525393721609974
         },
         {
          "exposure": -1.2664565305085689,
          "rating": 0.8837493164165321
         },
         {
          "exposure": -1.8384046410608257,
          "rating": 1.6022446956169645
         },
         {
          "exposure": -1.1030427846364954,
          "rating": 0.16525393721609974
         },
         {
          "exposure": -0.6128015470202752,
          "rating": -1.271736821184765
         },
         {
          "exposure": 2.4103527516130825,
          "rating": -0.5532414419843326
         },
         {
          "exposure": -0.694508419956312,
          "rating": 0.8837493164165321
         },
         {
          "exposure": 0.6128015470202752,
          "rating": 0.16525393721609974
         },
         {
          "exposure": -0.4493878011482018,
          "rating": -1.271736821184765
         },
         {
          "exposure": -0.939629038764422,
          "rating": 0.16525393721609974
         },
         {
          "exposure": 2.083525259868936,
          "rating": 0.16525393721609974
         },
         {
          "exposure": -1.9201115139968623,
          "rating": -0.5532414419843326
         },
         {
          "exposure": 0.12256030940405505,
          "rating": -0.5532414419843326
         },
         {
          "exposure": 1.2664565305085689,
          "rating": 0.16525393721609974
         },
         {
          "exposure": -0.12256030940405505,
          "rating": 0.16525393721609974
         },
         {
          "exposure": 0.040853436468018346,
          "rating": 0.16525393721609974
         },
         {
          "exposure": 0.7762152928923486,
          "rating": 0.8837493164165321
         },
         {
          "exposure": 0.36768092821216514,
          "rating": -1.271736821184765
         },
         {
          "exposure": 0.5310946740842385,
          "rating": 0.16525393721609974
         },
         {
          "exposure": 0.20426718234009175,
          "rating": 0.16525393721609974
         },
         {
          "exposure": -1.0213359117004588,
          "rating": 0.16525393721609974
         },
         {
          "exposure": -0.36768092821216514,
          "rating": 0.16525393721609974
         },
         {
          "exposure": 0.28597405527612846,
          "rating": 0.8837493164165321
         },
         {
          "exposure": -0.5310946740842385,
          "rating": -1.271736821184765
         },
         {
          "exposure": 0.040853436468018346,
          "rating": -4.145718337986494
         },
         {
          "exposure": -0.7762152928923486,
          "rating": 0.16525393721609974
         },
         {
          "exposure": 0.040853436468018346,
          "rating": 0.16525393721609974
         },
         {
          "exposure": 0.7762152928923486,
          "rating": 0.8837493164165321
         },
         {
          "exposure": -0.12256030940405505,
          "rating": -0.5532414419843326
         },
         {
          "exposure": 0.20426718234009175,
          "rating": 0.8837493164165321
         },
         {
          "exposure": -1.4298702763806421,
          "rating": 0.16525393721609974
         },
         {
          "exposure": -0.5310946740842385,
          "rating": 0.16525393721609974
         },
         {
          "exposure": -0.7762152928923486,
          "rating": 1.6022446956169645
         },
         {
          "exposure": -1.1030427846364954,
          "rating": 0.16525393721609974
         },
         {
          "exposure": 0.8579221658283853,
          "rating": 0.16525393721609974
         },
         {
          "exposure": 0.694508419956312,
          "rating": -0.5532414419843326
         },
         {
          "exposure": 0.36768092821216514,
          "rating": 0.16525393721609974
         },
         {
          "exposure": -1.511577149316679,
          "rating": -1.271736821184765
         },
         {
          "exposure": 0.939629038764422,
          "rating": -1.271736821184765
         },
         {
          "exposure": -0.28597405527612846,
          "rating": 0.16525393721609974
         },
         {
          "exposure": 1.4298702763806421,
          "rating": 0.16525393721609974
         },
         {
          "exposure": -1.184749657572532,
          "rating": 0.8837493164165321
         },
         {
          "exposure": -0.8579221658283853,
          "rating": -0.5532414419843326
         },
         {
          "exposure": 0.36768092821216514,
          "rating": 0.16525393721609974
         },
         {
          "exposure": -0.36768092821216514,
          "rating": -0.5532414419843326
         },
         {
          "exposure": -2.2469390057410092,
          "rating": -0.5532414419843326
         },
         {
          "exposure": 0.6128015470202752,
          "rating": -1.271736821184765
         },
         {
          "exposure": -0.12256030940405505,
          "rating": -0.5532414419843326
         },
         {
          "exposure": -0.694508419956312,
          "rating": -0.5532414419843326
         },
         {
          "exposure": -0.12256030940405505,
          "rating": 0.16525393721609974
         },
         {
          "exposure": 2.083525259868936,
          "rating": 0.8837493164165321
         },
         {
          "exposure": 0.12256030940405505,
          "rating": 0.8837493164165321
         },
         {
          "exposure": 0.040853436468018346,
          "rating": 0.16525393721609974
         },
         {
          "exposure": -0.8579221658283853,
          "rating": -0.5532414419843326
         },
         {
          "exposure": -0.12256030940405505,
          "rating": 0.8837493164165321
         },
         {
          "exposure": 1.184749657572532,
          "rating": 0.8837493164165321
         },
         {
          "exposure": -0.8579221658283853,
          "rating": -0.5532414419843326
         },
         {
          "exposure": 0.694508419956312,
          "rating": 0.8837493164165321
         },
         {
          "exposure": 1.4298702763806421,
          "rating": 0.16525393721609974
         },
         {
          "exposure": -0.6128015470202752,
          "rating": 0.16525393721609974
         },
         {
          "exposure": -1.0213359117004588,
          "rating": 0.16525393721609974
         },
         {
          "exposure": 0.040853436468018346,
          "rating": 0.8837493164165321
         },
         {
          "exposure": -0.040853436468018346,
          "rating": -0.5532414419843326
         },
         {
          "exposure": -0.8579221658283853,
          "rating": 0.8837493164165321
         },
         {
          "exposure": 0.36768092821216514,
          "rating": 0.8837493164165321
         },
         {
          "exposure": 1.511577149316679,
          "rating": 1.6022446956169645
         },
         {
          "exposure": 1.5932840222527156,
          "rating": 0.8837493164165321
         },
         {
          "exposure": -0.694508419956312,
          "rating": -4.145718337986494
         },
         {
          "exposure": -0.4493878011482018,
          "rating": 0.8837493164165321
         },
         {
          "exposure": 2.2469390057410092,
          "rating": 1.6022446956169645
         },
         {
          "exposure": 0.28597405527612846,
          "rating": -1.271736821184765
         },
         {
          "exposure": 0.939629038764422,
          "rating": 0.8837493164165321
         },
         {
          "exposure": -0.5310946740842385,
          "rating": -0.5532414419843326
         },
         {
          "exposure": 0.694508419956312,
          "rating": -0.5532414419843326
         },
         {
          "exposure": -0.5310946740842385,
          "rating": 0.16525393721609974
         },
         {
          "exposure": 1.3481634034446055,
          "rating": 0.16525393721609974
         },
         {
          "exposure": -0.040853436468018346,
          "rating": 0.16525393721609974
         },
         {
          "exposure": -0.939629038764422,
          "rating": -0.5532414419843326
         },
         {
          "exposure": 0.4493878011482018,
          "rating": -0.5532414419843326
         },
         {
          "exposure": 0.4493878011482018,
          "rating": 0.8837493164165321
         },
         {
          "exposure": -0.5310946740842385,
          "rating": 0.16525393721609974
         },
         {
          "exposure": 0.6128015470202752,
          "rating": 1.6022446956169645
         },
         {
          "exposure": -0.12256030940405505,
          "rating": 0.16525393721609974
         },
         {
          "exposure": -1.1030427846364954,
          "rating": -0.5532414419843326
         },
         {
          "exposure": 0.5310946740842385,
          "rating": -0.5532414419843326
         },
         {
          "exposure": -1.3481634034446055,
          "rating": 0.8837493164165321
         },
         {
          "exposure": -0.6128015470202752,
          "rating": 1.6022446956169645
         }
        ]
       },
       "encoding": {
        "x": {
         "field": "exposure",
         "type": "quantitative"
        },
        "y": {
         "field": "rating",
         "type": "quantitative"
        }
       },
       "mark": "point"
      },
      "text/plain": [
       "<VegaLite 4 object>\n",
       "\n",
       "If you see this message, it means the renderer has not been properly enabled\n",
       "for the frontend that you are using. For more information, see\n",
       "https://altair-viz.github.io/user_guide/troubleshooting.html\n"
      ]
     },
     "execution_count": 15,
     "metadata": {},
     "output_type": "execute_result"
    }
   ],
   "source": [
    "# YOUR CODE HERE\n",
    "alt.Chart(df_std).mark_point().encode(\n",
    "    x='exposure',\n",
    "    y='rating'\n",
    ")"
   ]
  },
  {
   "cell_type": "code",
   "execution_count": null,
   "metadata": {
    "deletable": false,
    "editable": false,
    "nbgrader": {
     "cell_type": "code",
     "checksum": "f740fa149db2143e1f2e4708d808e04c",
     "grade": true,
     "grade_id": "3a_c1",
     "locked": true,
     "points": 1,
     "schema_version": 3,
     "solution": false,
     "task": false
    }
   },
   "outputs": [],
   "source": [
    "# Nehmen Sie keine Änderungen an dieser Zelle vor\n"
   ]
  },
  {
   "cell_type": "code",
   "execution_count": null,
   "metadata": {
    "deletable": false,
    "editable": false,
    "nbgrader": {
     "cell_type": "code",
     "checksum": "28f2f26a687b062d45a0c713dca9b7aa",
     "grade": true,
     "grade_id": "3a_c2",
     "locked": true,
     "points": 1,
     "schema_version": 3,
     "solution": false,
     "task": false
    }
   },
   "outputs": [],
   "source": [
    "# Nehmen Sie keine Änderungen an dieser Zelle vor\n"
   ]
  },
  {
   "cell_type": "code",
   "execution_count": null,
   "metadata": {
    "deletable": false,
    "editable": false,
    "nbgrader": {
     "cell_type": "code",
     "checksum": "502d8d4ad1359e7072c10e2d6b41135c",
     "grade": true,
     "grade_id": "3a_c3",
     "locked": true,
     "points": 1,
     "schema_version": 3,
     "solution": false,
     "task": false
    }
   },
   "outputs": [],
   "source": [
    "# Nehmen Sie keine Änderungen an dieser Zelle vor\n"
   ]
  },
  {
   "cell_type": "code",
   "execution_count": null,
   "metadata": {
    "deletable": false,
    "editable": false,
    "nbgrader": {
     "cell_type": "code",
     "checksum": "34d2c5a592e212a2b754350512b24d78",
     "grade": true,
     "grade_id": "3a_c4",
     "locked": true,
     "points": 1,
     "schema_version": 3,
     "solution": false,
     "task": false
    }
   },
   "outputs": [],
   "source": [
    "# Nehmen Sie keine Änderungen an dieser Zelle vor\n"
   ]
  },
  {
   "attachments": {},
   "cell_type": "markdown",
   "metadata": {
    "deletable": false,
    "editable": false,
    "nbgrader": {
     "cell_type": "markdown",
     "checksum": "0419700eb145bf47da35a899c1ff34c0",
     "grade": false,
     "grade_id": "cell-c9a2d838bb713784",
     "locked": true,
     "schema_version": 3,
     "solution": false,
     "task": false
    },
    "slideshow": {
     "slide_type": "slide"
    }
   },
   "source": [
    "##  3) Clustering"
   ]
  },
  {
   "attachments": {},
   "cell_type": "markdown",
   "metadata": {
    "deletable": false,
    "editable": false,
    "nbgrader": {
     "cell_type": "markdown",
     "checksum": "22ef4d96063856543f84cfb422632ebd",
     "grade": false,
     "grade_id": "cell-7f5d931dd91ba677",
     "locked": true,
     "schema_version": 3,
     "solution": false,
     "task": false
    }
   },
   "source": [
    "Führen Sie die Cluster-Analyse durch:"
   ]
  },
  {
   "cell_type": "code",
   "execution_count": 18,
   "metadata": {
    "deletable": false,
    "nbgrader": {
     "cell_type": "code",
     "checksum": "a8a95ce4e5061541d34ad353dfc12d5b",
     "grade": false,
     "grade_id": "4a",
     "locked": false,
     "schema_version": 3,
     "solution": true,
     "task": false
    },
    "slideshow": {
     "slide_type": "fragment"
    }
   },
   "outputs": [],
   "source": [
    "kmeans = KMeans(n_clusters=4, n_init=10)"
   ]
  },
  {
   "cell_type": "code",
   "execution_count": 19,
   "metadata": {},
   "outputs": [
    {
     "data": {
      "text/html": [
       "<style>#sk-container-id-1 {color: black;background-color: white;}#sk-container-id-1 pre{padding: 0;}#sk-container-id-1 div.sk-toggleable {background-color: white;}#sk-container-id-1 label.sk-toggleable__label {cursor: pointer;display: block;width: 100%;margin-bottom: 0;padding: 0.3em;box-sizing: border-box;text-align: center;}#sk-container-id-1 label.sk-toggleable__label-arrow:before {content: \"▸\";float: left;margin-right: 0.25em;color: #696969;}#sk-container-id-1 label.sk-toggleable__label-arrow:hover:before {color: black;}#sk-container-id-1 div.sk-estimator:hover label.sk-toggleable__label-arrow:before {color: black;}#sk-container-id-1 div.sk-toggleable__content {max-height: 0;max-width: 0;overflow: hidden;text-align: left;background-color: #f0f8ff;}#sk-container-id-1 div.sk-toggleable__content pre {margin: 0.2em;color: black;border-radius: 0.25em;background-color: #f0f8ff;}#sk-container-id-1 input.sk-toggleable__control:checked~div.sk-toggleable__content {max-height: 200px;max-width: 100%;overflow: auto;}#sk-container-id-1 input.sk-toggleable__control:checked~label.sk-toggleable__label-arrow:before {content: \"▾\";}#sk-container-id-1 div.sk-estimator input.sk-toggleable__control:checked~label.sk-toggleable__label {background-color: #d4ebff;}#sk-container-id-1 div.sk-label input.sk-toggleable__control:checked~label.sk-toggleable__label {background-color: #d4ebff;}#sk-container-id-1 input.sk-hidden--visually {border: 0;clip: rect(1px 1px 1px 1px);clip: rect(1px, 1px, 1px, 1px);height: 1px;margin: -1px;overflow: hidden;padding: 0;position: absolute;width: 1px;}#sk-container-id-1 div.sk-estimator {font-family: monospace;background-color: #f0f8ff;border: 1px dotted black;border-radius: 0.25em;box-sizing: border-box;margin-bottom: 0.5em;}#sk-container-id-1 div.sk-estimator:hover {background-color: #d4ebff;}#sk-container-id-1 div.sk-parallel-item::after {content: \"\";width: 100%;border-bottom: 1px solid gray;flex-grow: 1;}#sk-container-id-1 div.sk-label:hover label.sk-toggleable__label {background-color: #d4ebff;}#sk-container-id-1 div.sk-serial::before {content: \"\";position: absolute;border-left: 1px solid gray;box-sizing: border-box;top: 0;bottom: 0;left: 50%;z-index: 0;}#sk-container-id-1 div.sk-serial {display: flex;flex-direction: column;align-items: center;background-color: white;padding-right: 0.2em;padding-left: 0.2em;position: relative;}#sk-container-id-1 div.sk-item {position: relative;z-index: 1;}#sk-container-id-1 div.sk-parallel {display: flex;align-items: stretch;justify-content: center;background-color: white;position: relative;}#sk-container-id-1 div.sk-item::before, #sk-container-id-1 div.sk-parallel-item::before {content: \"\";position: absolute;border-left: 1px solid gray;box-sizing: border-box;top: 0;bottom: 0;left: 50%;z-index: -1;}#sk-container-id-1 div.sk-parallel-item {display: flex;flex-direction: column;z-index: 1;position: relative;background-color: white;}#sk-container-id-1 div.sk-parallel-item:first-child::after {align-self: flex-end;width: 50%;}#sk-container-id-1 div.sk-parallel-item:last-child::after {align-self: flex-start;width: 50%;}#sk-container-id-1 div.sk-parallel-item:only-child::after {width: 0;}#sk-container-id-1 div.sk-dashed-wrapped {border: 1px dashed gray;margin: 0 0.4em 0.5em 0.4em;box-sizing: border-box;padding-bottom: 0.4em;background-color: white;}#sk-container-id-1 div.sk-label label {font-family: monospace;font-weight: bold;display: inline-block;line-height: 1.2em;}#sk-container-id-1 div.sk-label-container {text-align: center;}#sk-container-id-1 div.sk-container {/* jupyter's `normalize.less` sets `[hidden] { display: none; }` but bootstrap.min.css set `[hidden] { display: none !important; }` so we also need the `!important` here to be able to override the default hidden behavior on the sphinx rendered scikit-learn.org. See: https://github.com/scikit-learn/scikit-learn/issues/21755 */display: inline-block !important;position: relative;}#sk-container-id-1 div.sk-text-repr-fallback {display: none;}</style><div id=\"sk-container-id-1\" class=\"sk-top-container\"><div class=\"sk-text-repr-fallback\"><pre>KMeans(n_clusters=4, n_init=10)</pre><b>In a Jupyter environment, please rerun this cell to show the HTML representation or trust the notebook. <br />On GitHub, the HTML representation is unable to render, please try loading this page with nbviewer.org.</b></div><div class=\"sk-container\" hidden><div class=\"sk-item\"><div class=\"sk-estimator sk-toggleable\"><input class=\"sk-toggleable__control sk-hidden--visually\" id=\"sk-estimator-id-1\" type=\"checkbox\" checked><label for=\"sk-estimator-id-1\" class=\"sk-toggleable__label sk-toggleable__label-arrow\">KMeans</label><div class=\"sk-toggleable__content\"><pre>KMeans(n_clusters=4, n_init=10)</pre></div></div></div></div></div>"
      ],
      "text/plain": [
       "KMeans(n_clusters=4, n_init=10)"
      ]
     },
     "execution_count": 19,
     "metadata": {},
     "output_type": "execute_result"
    }
   ],
   "source": [
    "kmeans.fit(X_std)"
   ]
  },
  {
   "cell_type": "code",
   "execution_count": 22,
   "metadata": {},
   "outputs": [
    {
     "data": {
      "text/plain": [
       "array([1, 2, 1, 1, 0, 0, 3, 2, 2, 1, 1, 3, 2, 0, 2, 0, 0, 1, 2, 1, 1, 0,\n",
       "       1, 1, 1, 1, 3, 1, 1, 2, 1, 2, 0, 2, 0, 1, 0, 2, 1, 0, 1, 1, 1, 2,\n",
       "       1, 1, 2, 2, 1, 1, 0, 3, 2, 1, 1, 2, 2, 1, 3, 2, 1, 1, 2, 0, 2, 2,\n",
       "       2, 1, 2, 1, 0, 1, 2, 1, 2, 0, 1, 2, 1, 0, 2, 3, 2, 0, 2, 1, 0, 0,\n",
       "       2, 2, 0, 2, 2, 2, 1, 0, 2, 0, 1, 2, 0, 1, 2, 0, 1, 2, 2, 2, 1, 2,\n",
       "       0, 1, 3, 2, 2, 2, 2, 0, 1, 2, 1, 0, 2, 1, 2, 0, 1, 2, 2, 1, 0, 1,\n",
       "       1, 2, 2, 1, 0, 3, 2, 2, 1, 0, 1, 2, 2, 2, 2, 1, 0, 1, 2, 0, 2, 1,\n",
       "       2, 2, 1, 0, 2, 0, 0, 2, 2, 1, 1, 2, 2, 2, 1, 2, 1, 1, 2, 2, 1, 0,\n",
       "       2, 1, 1, 1, 3, 2, 1, 0, 1, 0, 0, 2, 1, 2, 2, 0, 1, 2, 1, 2, 2, 0,\n",
       "       2, 2], dtype=int32)"
      ]
     },
     "execution_count": 22,
     "metadata": {},
     "output_type": "execute_result"
    }
   ],
   "source": [
    "y_kmeans = kmeans.predict(X_std)\n",
    "y_kmeans"
   ]
  },
  {
   "cell_type": "code",
   "execution_count": 23,
   "metadata": {},
   "outputs": [
    {
     "data": {
      "text/html": [
       "<div>\n",
       "<style scoped>\n",
       "    .dataframe tbody tr th:only-of-type {\n",
       "        vertical-align: middle;\n",
       "    }\n",
       "\n",
       "    .dataframe tbody tr th {\n",
       "        vertical-align: top;\n",
       "    }\n",
       "\n",
       "    .dataframe thead th {\n",
       "        text-align: right;\n",
       "    }\n",
       "</style>\n",
       "<table border=\"1\" class=\"dataframe\">\n",
       "  <thead>\n",
       "    <tr style=\"text-align: right;\">\n",
       "      <th></th>\n",
       "      <th>campaign</th>\n",
       "      <th>spendings</th>\n",
       "      <th>test_drives</th>\n",
       "      <th>exposure</th>\n",
       "      <th>rating</th>\n",
       "      <th>cluster</th>\n",
       "    </tr>\n",
       "  </thead>\n",
       "  <tbody>\n",
       "    <tr>\n",
       "      <th>0</th>\n",
       "      <td>1</td>\n",
       "      <td>10.256</td>\n",
       "      <td>330</td>\n",
       "      <td>43</td>\n",
       "      <td>10</td>\n",
       "      <td>1</td>\n",
       "    </tr>\n",
       "    <tr>\n",
       "      <th>1</th>\n",
       "      <td>2</td>\n",
       "      <td>985.685</td>\n",
       "      <td>120</td>\n",
       "      <td>28</td>\n",
       "      <td>7</td>\n",
       "      <td>2</td>\n",
       "    </tr>\n",
       "    <tr>\n",
       "      <th>2</th>\n",
       "      <td>3</td>\n",
       "      <td>1445.563</td>\n",
       "      <td>360</td>\n",
       "      <td>35</td>\n",
       "      <td>7</td>\n",
       "      <td>1</td>\n",
       "    </tr>\n",
       "    <tr>\n",
       "      <th>3</th>\n",
       "      <td>4</td>\n",
       "      <td>1188.193</td>\n",
       "      <td>270</td>\n",
       "      <td>33</td>\n",
       "      <td>7</td>\n",
       "      <td>1</td>\n",
       "    </tr>\n",
       "    <tr>\n",
       "      <th>4</th>\n",
       "      <td>5</td>\n",
       "      <td>574.513</td>\n",
       "      <td>220</td>\n",
       "      <td>44</td>\n",
       "      <td>5</td>\n",
       "      <td>0</td>\n",
       "    </tr>\n",
       "    <tr>\n",
       "      <th>...</th>\n",
       "      <td>...</td>\n",
       "      <td>...</td>\n",
       "      <td>...</td>\n",
       "      <td>...</td>\n",
       "      <td>...</td>\n",
       "      <td>...</td>\n",
       "    </tr>\n",
       "    <tr>\n",
       "      <th>195</th>\n",
       "      <td>196</td>\n",
       "      <td>910.851</td>\n",
       "      <td>190</td>\n",
       "      <td>26</td>\n",
       "      <td>7</td>\n",
       "      <td>2</td>\n",
       "    </tr>\n",
       "    <tr>\n",
       "      <th>196</th>\n",
       "      <td>197</td>\n",
       "      <td>888.569</td>\n",
       "      <td>240</td>\n",
       "      <td>14</td>\n",
       "      <td>6</td>\n",
       "      <td>2</td>\n",
       "    </tr>\n",
       "    <tr>\n",
       "      <th>197</th>\n",
       "      <td>198</td>\n",
       "      <td>800.615</td>\n",
       "      <td>250</td>\n",
       "      <td>34</td>\n",
       "      <td>6</td>\n",
       "      <td>0</td>\n",
       "    </tr>\n",
       "    <tr>\n",
       "      <th>198</th>\n",
       "      <td>199</td>\n",
       "      <td>1500.000</td>\n",
       "      <td>230</td>\n",
       "      <td>11</td>\n",
       "      <td>8</td>\n",
       "      <td>2</td>\n",
       "    </tr>\n",
       "    <tr>\n",
       "      <th>199</th>\n",
       "      <td>200</td>\n",
       "      <td>785.694</td>\n",
       "      <td>110</td>\n",
       "      <td>20</td>\n",
       "      <td>9</td>\n",
       "      <td>2</td>\n",
       "    </tr>\n",
       "  </tbody>\n",
       "</table>\n",
       "<p>200 rows × 6 columns</p>\n",
       "</div>"
      ],
      "text/plain": [
       "     campaign  spendings  test_drives  exposure  rating  cluster\n",
       "0           1     10.256          330        43      10        1\n",
       "1           2    985.685          120        28       7        2\n",
       "2           3   1445.563          360        35       7        1\n",
       "3           4   1188.193          270        33       7        1\n",
       "4           5    574.513          220        44       5        0\n",
       "..        ...        ...          ...       ...     ...      ...\n",
       "195       196    910.851          190        26       7        2\n",
       "196       197    888.569          240        14       6        2\n",
       "197       198    800.615          250        34       6        0\n",
       "198       199   1500.000          230        11       8        2\n",
       "199       200    785.694          110        20       9        2\n",
       "\n",
       "[200 rows x 6 columns]"
      ]
     },
     "execution_count": 23,
     "metadata": {},
     "output_type": "execute_result"
    }
   ],
   "source": [
    "df['cluster'] = y_kmeans\n",
    "df"
   ]
  },
  {
   "cell_type": "code",
   "execution_count": null,
   "metadata": {
    "deletable": false,
    "editable": false,
    "nbgrader": {
     "cell_type": "code",
     "checksum": "06e5c3fd0fe293634158521659f3a3aa",
     "grade": true,
     "grade_id": "4a_c",
     "locked": true,
     "points": 1,
     "schema_version": 3,
     "solution": false,
     "task": false
    }
   },
   "outputs": [],
   "source": [
    "# Nehmen Sie keine Änderungen an dieser Zelle vor\n"
   ]
  },
  {
   "attachments": {},
   "cell_type": "markdown",
   "metadata": {
    "deletable": false,
    "editable": false,
    "nbgrader": {
     "cell_type": "markdown",
     "checksum": "5af7d697c71813cd3da743f7a9b0f2ec",
     "grade": false,
     "grade_id": "cell-b2a80438f23087e6",
     "locked": true,
     "schema_version": 3,
     "solution": false,
     "task": false
    }
   },
   "source": [
    "Glückwunsch! Dies war die letzte Aufgabe in dem Notebook. "
   ]
  }
 ],
 "metadata": {
  "kernelspec": {
   "display_name": "mr",
   "language": "python",
   "name": "python3"
  },
  "language_info": {
   "codemirror_mode": {
    "name": "ipython",
    "version": 3
   },
   "file_extension": ".py",
   "mimetype": "text/x-python",
   "name": "python",
   "nbconvert_exporter": "python",
   "pygments_lexer": "ipython3",
   "version": "3.9.16"
  },
  "vscode": {
   "interpreter": {
    "hash": "f67a6e0a9398ad1027ae219b06127e0fb4d07effe0ce32feaf43ec972fa20a12"
   }
  }
 },
 "nbformat": 4,
 "nbformat_minor": 2
}
