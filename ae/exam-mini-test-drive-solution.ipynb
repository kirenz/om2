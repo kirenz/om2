{
 "cells": [
  {
   "attachments": {},
   "cell_type": "markdown",
   "metadata": {},
   "source": [
    "**Wichtige Hinweise**\n",
    "\n",
    "- Aktivieren Sie die Conda-Umgebung bevor Sie beginnen.\n",
    "\n",
    "- Geben Sie als `NAME` ihr HdM-Kürzel an.\n",
    "\n",
    "- Ändern Sie **nicht** den Namen der Datei und löschen Sie keine Zellen.\n",
    "\n",
    "- Bearbeiten Sie alle Zellen mit dem Hinweis <font color='green'> \\# YOUR CODE HERE </font> \n",
    "\n",
    "- Die Funktion **NotImplementedError()** soll die Abgabe von leeren Zellen verhindern. Löschen Sie die Funktion, sobald Sie in einer dieser Zellen arbeiten. \n",
    "\n",
    "- Stellen Sie sicher, dass alles wie erwartet läuft, bevor Sie die Prüfung abgeben: Starten Sie den Kernel neu und führen Sie alle Zellen aus: wählen Sie \"Restart\" und dann \"Run All\" \n",
    "\n",
    "\n",
    "Ich wünsche Ihnen viel Erfolg!"
   ]
  },
  {
   "cell_type": "code",
   "execution_count": 1,
   "metadata": {},
   "outputs": [],
   "source": [
    "NAME = \"jk123\""
   ]
  },
  {
   "cell_type": "code",
   "execution_count": 2,
   "metadata": {},
   "outputs": [],
   "source": [
    "import IPython\n",
    "assert IPython.version_info[0] >= 3, \"Your version of IPython is too old, please update it.\""
   ]
  },
  {
   "attachments": {},
   "cell_type": "markdown",
   "metadata": {},
   "source": [
    "---"
   ]
  },
  {
   "attachments": {},
   "cell_type": "markdown",
   "metadata": {
    "deletable": false,
    "editable": false,
    "nbgrader": {
     "cell_type": "markdown",
     "checksum": "fbab0da87cf91911f2608bed4d1073f3",
     "grade": false,
     "grade_id": "cell-9b2465372a022f8f",
     "locked": true,
     "schema_version": 3,
     "solution": false,
     "task": false
    },
    "slideshow": {
     "slide_type": "slide"
    }
   },
   "source": [
    "# E-Exam Notebook\n"
   ]
  },
  {
   "attachments": {},
   "cell_type": "markdown",
   "metadata": {
    "deletable": false,
    "editable": false,
    "nbgrader": {
     "cell_type": "markdown",
     "checksum": "3771708020acc0c7b4cd99afc42582c4",
     "grade": false,
     "grade_id": "cell-066cada65e959f44",
     "locked": true,
     "schema_version": 3,
     "solution": false,
     "task": false
    },
    "slideshow": {
     "slide_type": "fragment"
    }
   },
   "source": [
    "## Setup\n",
    "\n",
    "Importieren Sie die Bibliotheken (Sie werden nicht alle benötigen):"
   ]
  },
  {
   "cell_type": "code",
   "execution_count": 24,
   "metadata": {
    "deletable": false,
    "editable": false,
    "nbgrader": {
     "cell_type": "code",
     "checksum": "cec6ead69c4e658a0f83cc62ecb01c90",
     "grade": false,
     "grade_id": "setup",
     "locked": true,
     "schema_version": 3,
     "solution": false,
     "task": false
    },
    "slideshow": {
     "slide_type": "fragment"
    }
   },
   "outputs": [],
   "source": [
    "# Nehmen Sie keine Änderungen an dieser Zelle vor\n",
    "\n",
    "import pandas as pd\n",
    "import altair as alt\n",
    "alt.renderers.enable('mimetype')\n",
    "\n",
    "# Scikit-learn Bibliotheken\n",
    "\n",
    "from sklearn.tree import DecisionTreeClassifier\n",
    "from sklearn.tree import DecisionTreeRegressor\n",
    "\n",
    "from sklearn.ensemble import RandomForestClassifier\n",
    "from sklearn.ensemble import RandomForestRegressor\n",
    "\n",
    "from sklearn.ensemble import GradientBoostingClassifier\n",
    "from sklearn.ensemble import GradientBoostingRegressor\n",
    "\n",
    "from sklearn.model_selection import train_test_split\n",
    "from sklearn.metrics import accuracy_score, confusion_matrix\n",
    "from sklearn.metrics import ConfusionMatrixDisplay\n",
    "from sklearn.metrics import classification_report\n",
    "from sklearn.metrics import RocCurveDisplay\n",
    "from sklearn.metrics import mean_squared_error\n",
    "from sklearn.metrics import mean_absolute_error\n",
    "from sklearn.metrics import r2_score\n",
    "\n",
    "# Weitere Hilfsbibliotheken\n",
    "import io\n",
    "import warnings\n",
    "warnings.simplefilter(action='ignore', category=FutureWarning)"
   ]
  },
  {
   "attachments": {},
   "cell_type": "markdown",
   "metadata": {
    "deletable": false,
    "editable": false,
    "nbgrader": {
     "cell_type": "markdown",
     "checksum": "dbb0a94bd6d6e1a16c341f571a47b6f4",
     "grade": false,
     "grade_id": "cell-d60c55ea62648a7a",
     "locked": true,
     "schema_version": 3,
     "solution": false,
     "task": false
    }
   },
   "source": [
    "## 1) Daten"
   ]
  },
  {
   "attachments": {},
   "cell_type": "markdown",
   "metadata": {
    "deletable": false,
    "editable": false,
    "nbgrader": {
     "cell_type": "markdown",
     "checksum": "d786fd96e20256f91fac40cb1e9e6fda",
     "grade": false,
     "grade_id": "cell-196f313fa1485b69",
     "locked": true,
     "schema_version": 3,
     "solution": false,
     "task": false
    }
   },
   "source": [
    "### Daten importieren"
   ]
  },
  {
   "attachments": {},
   "cell_type": "markdown",
   "metadata": {
    "deletable": false,
    "editable": false,
    "nbgrader": {
     "cell_type": "markdown",
     "checksum": "6a99c7204f565a393e75d8a011bfbe14",
     "grade": false,
     "grade_id": "cell-9a5d6dc92beaa2c1",
     "locked": true,
     "schema_version": 3,
     "solution": false,
     "task": false
    }
   },
   "source": [
    "- Importieren Sie die Daten:"
   ]
  },
  {
   "cell_type": "code",
   "execution_count": 5,
   "metadata": {},
   "outputs": [],
   "source": [
    "LINK = \"https://raw.githubusercontent.com/kirenz/datasets/master/mini_test_drives.csv\"\n",
    "\n",
    "df = pd.read_csv(LINK)"
   ]
  },
  {
   "attachments": {},
   "cell_type": "markdown",
   "metadata": {
    "deletable": false,
    "editable": false,
    "nbgrader": {
     "cell_type": "markdown",
     "checksum": "65ea5b0bcd7e176c813656f669663b96",
     "grade": false,
     "grade_id": "cell-26d88dcc3d6db559",
     "locked": true,
     "schema_version": 3,
     "solution": false,
     "task": false
    },
    "slideshow": {
     "slide_type": "subslide"
    }
   },
   "source": [
    "Verschaffen Sie sich eine Übersicht über die Daten: "
   ]
  },
  {
   "cell_type": "code",
   "execution_count": 6,
   "metadata": {
    "deletable": false,
    "editable": false,
    "nbgrader": {
     "cell_type": "code",
     "checksum": "c757ea374bdc9ff82d51c0bd30c14752",
     "grade": false,
     "grade_id": "cell-0e5c9e3346799411",
     "locked": true,
     "schema_version": 3,
     "solution": false,
     "task": false
    },
    "slideshow": {
     "slide_type": "subslide"
    }
   },
   "outputs": [
    {
     "data": {
      "text/html": [
       "<div>\n",
       "<style scoped>\n",
       "    .dataframe tbody tr th:only-of-type {\n",
       "        vertical-align: middle;\n",
       "    }\n",
       "\n",
       "    .dataframe tbody tr th {\n",
       "        vertical-align: top;\n",
       "    }\n",
       "\n",
       "    .dataframe thead th {\n",
       "        text-align: right;\n",
       "    }\n",
       "</style>\n",
       "<table border=\"1\" class=\"dataframe\">\n",
       "  <thead>\n",
       "    <tr style=\"text-align: right;\">\n",
       "      <th></th>\n",
       "      <th>campaign</th>\n",
       "      <th>spendings</th>\n",
       "      <th>test_drives</th>\n",
       "      <th>exposure</th>\n",
       "      <th>rating</th>\n",
       "    </tr>\n",
       "  </thead>\n",
       "  <tbody>\n",
       "    <tr>\n",
       "      <th>0</th>\n",
       "      <td>1</td>\n",
       "      <td>10.256</td>\n",
       "      <td>330</td>\n",
       "      <td>43</td>\n",
       "      <td>10</td>\n",
       "    </tr>\n",
       "    <tr>\n",
       "      <th>1</th>\n",
       "      <td>2</td>\n",
       "      <td>985.685</td>\n",
       "      <td>120</td>\n",
       "      <td>28</td>\n",
       "      <td>7</td>\n",
       "    </tr>\n",
       "    <tr>\n",
       "      <th>2</th>\n",
       "      <td>3</td>\n",
       "      <td>1445.563</td>\n",
       "      <td>360</td>\n",
       "      <td>35</td>\n",
       "      <td>7</td>\n",
       "    </tr>\n",
       "    <tr>\n",
       "      <th>3</th>\n",
       "      <td>4</td>\n",
       "      <td>1188.193</td>\n",
       "      <td>270</td>\n",
       "      <td>33</td>\n",
       "      <td>7</td>\n",
       "    </tr>\n",
       "    <tr>\n",
       "      <th>4</th>\n",
       "      <td>5</td>\n",
       "      <td>574.513</td>\n",
       "      <td>220</td>\n",
       "      <td>44</td>\n",
       "      <td>5</td>\n",
       "    </tr>\n",
       "  </tbody>\n",
       "</table>\n",
       "</div>"
      ],
      "text/plain": [
       "   campaign  spendings  test_drives  exposure  rating\n",
       "0         1     10.256          330        43      10\n",
       "1         2    985.685          120        28       7\n",
       "2         3   1445.563          360        35       7\n",
       "3         4   1188.193          270        33       7\n",
       "4         5    574.513          220        44       5"
      ]
     },
     "execution_count": 6,
     "metadata": {},
     "output_type": "execute_result"
    }
   ],
   "source": [
    "df.head()"
   ]
  },
  {
   "cell_type": "code",
   "execution_count": 7,
   "metadata": {
    "deletable": false,
    "editable": false,
    "nbgrader": {
     "cell_type": "code",
     "checksum": "1b07c19b2ba8192a4be0dfe3c5f145a1",
     "grade": false,
     "grade_id": "cell-19d1a463a1d8044c",
     "locked": true,
     "schema_version": 3,
     "solution": false,
     "task": false
    }
   },
   "outputs": [
    {
     "name": "stdout",
     "output_type": "stream",
     "text": [
      "<class 'pandas.core.frame.DataFrame'>\n",
      "RangeIndex: 200 entries, 0 to 199\n",
      "Data columns (total 5 columns):\n",
      " #   Column       Non-Null Count  Dtype  \n",
      "---  ------       --------------  -----  \n",
      " 0   campaign     200 non-null    int64  \n",
      " 1   spendings    200 non-null    float64\n",
      " 2   test_drives  200 non-null    int64  \n",
      " 3   exposure     200 non-null    int64  \n",
      " 4   rating       200 non-null    int64  \n",
      "dtypes: float64(1), int64(4)\n",
      "memory usage: 7.9 KB\n"
     ]
    }
   ],
   "source": [
    "df.info()"
   ]
  },
  {
   "attachments": {},
   "cell_type": "markdown",
   "metadata": {
    "deletable": false,
    "editable": false,
    "nbgrader": {
     "cell_type": "markdown",
     "checksum": "286ba1b3971dfc3ce4fa75515ddcff8a",
     "grade": false,
     "grade_id": "cell-1f92cf9060ab1dff",
     "locked": true,
     "schema_version": 3,
     "solution": false,
     "task": false
    }
   },
   "source": [
    "### Daten transformieren"
   ]
  },
  {
   "attachments": {},
   "cell_type": "markdown",
   "metadata": {
    "deletable": false,
    "editable": false,
    "nbgrader": {
     "cell_type": "markdown",
     "checksum": "b85c39d2c612201d63f2b1f3ef7a36ea",
     "grade": false,
     "grade_id": "cell-d1b831606928a32d",
     "locked": true,
     "schema_version": 3,
     "solution": false,
     "task": false
    }
   },
   "source": [
    "- 1a) kategoriale Variablen:\n",
    "  - Erstellen Sie eine Liste, in der alle kategorialen Variablen aufgeführt werden \n",
    "  - Nennen Sie die Liste `list_cat`"
   ]
  },
  {
   "cell_type": "code",
   "execution_count": 8,
   "metadata": {
    "deletable": false,
    "nbgrader": {
     "cell_type": "code",
     "checksum": "2058dbc61296d005826083c5972632e2",
     "grade": false,
     "grade_id": "1a",
     "locked": false,
     "schema_version": 3,
     "solution": true,
     "task": false
    }
   },
   "outputs": [],
   "source": [
    "list_cat = ['campaign']"
   ]
  },
  {
   "attachments": {},
   "cell_type": "markdown",
   "metadata": {
    "deletable": false,
    "editable": false,
    "nbgrader": {
     "cell_type": "markdown",
     "checksum": "e860db56acc64d9dc5623162733614fb",
     "grade": false,
     "grade_id": "cell-c44d18f0a8e0af48",
     "locked": true,
     "schema_version": 3,
     "solution": false,
     "task": false
    }
   },
   "source": [
    "- 1b) Führen Sie mit Hilfe von Pandas die Datentransformation für die kategoriale Variablen durch (Umwandeln in \"category\")"
   ]
  },
  {
   "cell_type": "code",
   "execution_count": 9,
   "metadata": {
    "deletable": false,
    "nbgrader": {
     "cell_type": "code",
     "checksum": "14b9deef20a33a2c2f2fbdfc51baefc5",
     "grade": false,
     "grade_id": "1b",
     "locked": false,
     "schema_version": 3,
     "solution": true,
     "task": false
    }
   },
   "outputs": [],
   "source": [
    "df['campaign'] = df['campaign'].astype('category')"
   ]
  },
  {
   "cell_type": "code",
   "execution_count": 10,
   "metadata": {},
   "outputs": [
    {
     "name": "stdout",
     "output_type": "stream",
     "text": [
      "<class 'pandas.core.frame.DataFrame'>\n",
      "RangeIndex: 200 entries, 0 to 199\n",
      "Data columns (total 5 columns):\n",
      " #   Column       Non-Null Count  Dtype   \n",
      "---  ------       --------------  -----   \n",
      " 0   campaign     200 non-null    category\n",
      " 1   spendings    200 non-null    float64 \n",
      " 2   test_drives  200 non-null    int64   \n",
      " 3   exposure     200 non-null    int64   \n",
      " 4   rating       200 non-null    int64   \n",
      "dtypes: category(1), float64(1), int64(3)\n",
      "memory usage: 16.4 KB\n"
     ]
    }
   ],
   "source": [
    "df.info()"
   ]
  },
  {
   "cell_type": "code",
   "execution_count": null,
   "metadata": {
    "deletable": false,
    "editable": false,
    "nbgrader": {
     "cell_type": "code",
     "checksum": "d9c07b7bedefe75a7d70338fd8c72067",
     "grade": true,
     "grade_id": "1a_c1",
     "locked": true,
     "points": 1,
     "schema_version": 3,
     "solution": false,
     "task": false
    }
   },
   "outputs": [],
   "source": [
    "# Nehmen Sie keine Änderungen an dieser Zelle vor"
   ]
  },
  {
   "cell_type": "code",
   "execution_count": null,
   "metadata": {
    "deletable": false,
    "editable": false,
    "nbgrader": {
     "cell_type": "code",
     "checksum": "32b9d5621b2a8097880647d735fff7a7",
     "grade": true,
     "grade_id": "1a_c2",
     "locked": true,
     "points": 1,
     "schema_version": 3,
     "solution": false,
     "task": false
    }
   },
   "outputs": [],
   "source": [
    "# Nehmen Sie keine Änderungen an dieser Zelle vor"
   ]
  },
  {
   "cell_type": "code",
   "execution_count": null,
   "metadata": {
    "deletable": false,
    "editable": false,
    "nbgrader": {
     "cell_type": "code",
     "checksum": "45fcf5e9f19383f7d50237e6e4928c88",
     "grade": true,
     "grade_id": "1a_c3",
     "locked": true,
     "points": 1,
     "schema_version": 3,
     "solution": false,
     "task": false
    }
   },
   "outputs": [],
   "source": [
    "# Nehmen Sie keine Änderungen an dieser Zelle vor"
   ]
  },
  {
   "cell_type": "code",
   "execution_count": null,
   "metadata": {
    "deletable": false,
    "editable": false,
    "nbgrader": {
     "cell_type": "code",
     "checksum": "a52b673a1d97d293008deb037d8586fc",
     "grade": true,
     "grade_id": "1b_c",
     "locked": true,
     "points": 2,
     "schema_version": 3,
     "solution": false,
     "task": false
    }
   },
   "outputs": [],
   "source": [
    "# Nehmen Sie keine Änderungen an dieser Zelle vor"
   ]
  },
  {
   "attachments": {},
   "cell_type": "markdown",
   "metadata": {
    "deletable": false,
    "editable": false,
    "nbgrader": {
     "cell_type": "markdown",
     "checksum": "aa560894185b890be7716c663f8aef5c",
     "grade": false,
     "grade_id": "cell-c5f3f3d7183de825",
     "locked": true,
     "schema_version": 3,
     "solution": false,
     "task": false
    }
   },
   "source": [
    "### Variablen für Modellierung vorbereiten"
   ]
  },
  {
   "attachments": {},
   "cell_type": "markdown",
   "metadata": {
    "deletable": false,
    "editable": false,
    "nbgrader": {
     "cell_type": "markdown",
     "checksum": "2c72cb1d342277ba189bbcabc6faf39c",
     "grade": false,
     "grade_id": "cell-59a994445e751c75",
     "locked": true,
     "schema_version": 3,
     "solution": false,
     "task": false
    },
    "slideshow": {
     "slide_type": "slide"
    }
   },
   "source": [
    "Sie sollen ein Modell erstellen, mit dessen Hilfe vorhergesagt wird, wie viele Testfahrten gebucht werden (Variable `test_drives`).\n"
   ]
  },
  {
   "cell_type": "code",
   "execution_count": 12,
   "metadata": {
    "deletable": false,
    "editable": false,
    "nbgrader": {
     "cell_type": "code",
     "checksum": "386965745daa6903b79e633f6c92274f",
     "grade": false,
     "grade_id": "var",
     "locked": true,
     "schema_version": 3,
     "solution": false,
     "task": false
    },
    "slideshow": {
     "slide_type": "fragment"
    }
   },
   "outputs": [],
   "source": [
    "# Wir erzeugen das y_label\n",
    "y_label = \"test_drives\"\n",
    "\n",
    "# Wir nutzen nur geeignete unabhängige Variablen in dem Modell\n",
    "X = df[['spendings', 'exposure', 'rating']]\n",
    "\n",
    "# Wir erzeugen die abhängige Variable\n",
    "y = df[y_label]"
   ]
  },
  {
   "attachments": {},
   "cell_type": "markdown",
   "metadata": {
    "deletable": false,
    "editable": false,
    "nbgrader": {
     "cell_type": "markdown",
     "checksum": "b55b51ecd52edb93003c9725b0689425",
     "grade": false,
     "grade_id": "cell-7f0af80386af3a7a",
     "locked": true,
     "schema_version": 3,
     "solution": false,
     "task": false
    }
   },
   "source": [
    "## 2) Analyse"
   ]
  },
  {
   "attachments": {},
   "cell_type": "markdown",
   "metadata": {
    "deletable": false,
    "editable": false,
    "nbgrader": {
     "cell_type": "markdown",
     "checksum": "8987ceb1d5d56f6f7358bf94d55504ca",
     "grade": false,
     "grade_id": "cell-3b9a65c46f50a50c",
     "locked": true,
     "schema_version": 3,
     "solution": false,
     "task": false
    }
   },
   "source": [
    "### Deskriptive Analyse"
   ]
  },
  {
   "attachments": {},
   "cell_type": "markdown",
   "metadata": {
    "deletable": false,
    "editable": false,
    "nbgrader": {
     "cell_type": "markdown",
     "checksum": "c8347157b66dbe3b2d486acaf6b97c40",
     "grade": false,
     "grade_id": "cell-1e2d5f78961d1643",
     "locked": true,
     "schema_version": 3,
     "solution": false,
     "task": false
    }
   },
   "source": [
    "- 2a) Statistische Kennzahlen\n",
    "  - Erstellen Sie mit Pandas eine Tabelle mit statistischen Kennzahlen für die numerischen Variablen  \n",
    "  - Speichern Sie das Ergebnis als `df_stats`"
   ]
  },
  {
   "cell_type": "code",
   "execution_count": 14,
   "metadata": {
    "deletable": false,
    "nbgrader": {
     "cell_type": "code",
     "checksum": "993d36cc155397bbe43169ba1abd34be",
     "grade": false,
     "grade_id": "2a",
     "locked": false,
     "schema_version": 3,
     "solution": true,
     "task": false
    }
   },
   "outputs": [],
   "source": [
    "df_stats = df.describe()"
   ]
  },
  {
   "attachments": {},
   "cell_type": "markdown",
   "metadata": {
    "deletable": false,
    "editable": false,
    "nbgrader": {
     "cell_type": "markdown",
     "checksum": "c97aa5a8a686bdf03a91a6782b579093",
     "grade": false,
     "grade_id": "cell-1fbedb0b32a460b8",
     "locked": true,
     "schema_version": 3,
     "solution": false,
     "task": false
    }
   },
   "source": [
    "Lassen Sie die Tabelle anzeigen:"
   ]
  },
  {
   "cell_type": "code",
   "execution_count": 15,
   "metadata": {
    "deletable": false,
    "editable": false,
    "nbgrader": {
     "cell_type": "code",
     "checksum": "9d98327c4707f00005b48f7eecfd5210",
     "grade": false,
     "grade_id": "cell-a2529183da9832ab",
     "locked": true,
     "schema_version": 3,
     "solution": false,
     "task": false
    }
   },
   "outputs": [
    {
     "data": {
      "text/html": [
       "<div>\n",
       "<style scoped>\n",
       "    .dataframe tbody tr th:only-of-type {\n",
       "        vertical-align: middle;\n",
       "    }\n",
       "\n",
       "    .dataframe tbody tr th {\n",
       "        vertical-align: top;\n",
       "    }\n",
       "\n",
       "    .dataframe thead th {\n",
       "        text-align: right;\n",
       "    }\n",
       "</style>\n",
       "<table border=\"1\" class=\"dataframe\">\n",
       "  <thead>\n",
       "    <tr style=\"text-align: right;\">\n",
       "      <th></th>\n",
       "      <th>spendings</th>\n",
       "      <th>test_drives</th>\n",
       "      <th>exposure</th>\n",
       "      <th>rating</th>\n",
       "    </tr>\n",
       "  </thead>\n",
       "  <tbody>\n",
       "    <tr>\n",
       "      <th>count</th>\n",
       "      <td>200.000000</td>\n",
       "      <td>200.000000</td>\n",
       "      <td>200.000000</td>\n",
       "      <td>200.00000</td>\n",
       "    </tr>\n",
       "    <tr>\n",
       "      <th>mean</th>\n",
       "      <td>614.412255</td>\n",
       "      <td>193.200000</td>\n",
       "      <td>27.500000</td>\n",
       "      <td>6.77000</td>\n",
       "    </tr>\n",
       "    <tr>\n",
       "      <th>std</th>\n",
       "      <td>485.655208</td>\n",
       "      <td>80.698957</td>\n",
       "      <td>12.269585</td>\n",
       "      <td>1.39529</td>\n",
       "    </tr>\n",
       "    <tr>\n",
       "      <th>min</th>\n",
       "      <td>9.104000</td>\n",
       "      <td>10.000000</td>\n",
       "      <td>0.000000</td>\n",
       "      <td>1.00000</td>\n",
       "    </tr>\n",
       "    <tr>\n",
       "      <th>25%</th>\n",
       "      <td>215.917750</td>\n",
       "      <td>137.500000</td>\n",
       "      <td>19.750000</td>\n",
       "      <td>6.00000</td>\n",
       "    </tr>\n",
       "    <tr>\n",
       "      <th>50%</th>\n",
       "      <td>531.916000</td>\n",
       "      <td>200.000000</td>\n",
       "      <td>28.000000</td>\n",
       "      <td>7.00000</td>\n",
       "    </tr>\n",
       "    <tr>\n",
       "      <th>75%</th>\n",
       "      <td>911.225500</td>\n",
       "      <td>250.000000</td>\n",
       "      <td>36.000000</td>\n",
       "      <td>8.00000</td>\n",
       "    </tr>\n",
       "    <tr>\n",
       "      <th>max</th>\n",
       "      <td>2271.860000</td>\n",
       "      <td>360.000000</td>\n",
       "      <td>63.000000</td>\n",
       "      <td>10.00000</td>\n",
       "    </tr>\n",
       "  </tbody>\n",
       "</table>\n",
       "</div>"
      ],
      "text/plain": [
       "         spendings  test_drives    exposure     rating\n",
       "count   200.000000   200.000000  200.000000  200.00000\n",
       "mean    614.412255   193.200000   27.500000    6.77000\n",
       "std     485.655208    80.698957   12.269585    1.39529\n",
       "min       9.104000    10.000000    0.000000    1.00000\n",
       "25%     215.917750   137.500000   19.750000    6.00000\n",
       "50%     531.916000   200.000000   28.000000    7.00000\n",
       "75%     911.225500   250.000000   36.000000    8.00000\n",
       "max    2271.860000   360.000000   63.000000   10.00000"
      ]
     },
     "execution_count": 15,
     "metadata": {},
     "output_type": "execute_result"
    }
   ],
   "source": [
    "# Nehmen Sie keine Änderungen an dieser Zelle vor\n",
    "\n",
    "df_stats"
   ]
  },
  {
   "cell_type": "code",
   "execution_count": null,
   "metadata": {
    "deletable": false,
    "editable": false,
    "nbgrader": {
     "cell_type": "code",
     "checksum": "8fbcbf5f581592d0c3dd4c876a4603c1",
     "grade": true,
     "grade_id": "2a_c",
     "locked": true,
     "points": 1,
     "schema_version": 3,
     "solution": false,
     "task": false
    }
   },
   "outputs": [],
   "source": [
    "# Nehmen Sie keine Änderungen an dieser Zelle vor\n"
   ]
  },
  {
   "attachments": {},
   "cell_type": "markdown",
   "metadata": {
    "deletable": false,
    "editable": false,
    "nbgrader": {
     "cell_type": "markdown",
     "checksum": "c25e577abc0d027965dd5a299945c0a3",
     "grade": false,
     "grade_id": "cell-72852d457cf819ea",
     "locked": true,
     "schema_version": 3,
     "solution": false,
     "task": false
    }
   },
   "source": [
    "### 3) Explorative Analyse"
   ]
  },
  {
   "attachments": {},
   "cell_type": "markdown",
   "metadata": {
    "deletable": false,
    "editable": false,
    "nbgrader": {
     "cell_type": "markdown",
     "checksum": "08c79d456b796f160417aa9459d72c06",
     "grade": false,
     "grade_id": "cell-2fa6ea48aeb3c005",
     "locked": true,
     "schema_version": 3,
     "solution": false,
     "task": false
    }
   },
   "source": [
    "- 3a) Erzeugen Sie eine Abbildung, in welcher Sie den Zusammenhang zwischen einer beliebigen unabhängigen und der abhängigen Variable untersuchen. Wählen Sie eine geeignete Darstellungsform, zeigen Sie das Plot und interpretieren Sie das Ergebnis. "
   ]
  },
  {
   "cell_type": "code",
   "execution_count": 18,
   "metadata": {
    "deletable": false,
    "nbgrader": {
     "cell_type": "code",
     "checksum": "ff806b57798b129e9c952cd63e8ae471",
     "grade": false,
     "grade_id": "3a",
     "locked": false,
     "schema_version": 3,
     "solution": true,
     "task": false
    }
   },
   "outputs": [
    {
     "data": {
      "application/vnd.vegalite.v4+json": {
       "$schema": "https://vega.github.io/schema/vega-lite/v4.17.0.json",
       "config": {
        "view": {
         "continuousHeight": 300,
         "continuousWidth": 400
        }
       },
       "data": {
        "name": "data-8d8f181d813c5818f9549f3c4cefa749"
       },
       "datasets": {
        "data-8d8f181d813c5818f9549f3c4cefa749": [
         {
          "campaign": 1,
          "exposure": 43,
          "rating": 10,
          "spendings": 10.256,
          "test_drives": 330
         },
         {
          "campaign": 2,
          "exposure": 28,
          "rating": 7,
          "spendings": 985.685,
          "test_drives": 120
         },
         {
          "campaign": 3,
          "exposure": 35,
          "rating": 7,
          "spendings": 1445.563,
          "test_drives": 360
         },
         {
          "campaign": 4,
          "exposure": 33,
          "rating": 7,
          "spendings": 1188.193,
          "test_drives": 270
         },
         {
          "campaign": 5,
          "exposure": 44,
          "rating": 5,
          "spendings": 574.513,
          "test_drives": 220
         },
         {
          "campaign": 6,
          "exposure": 19,
          "rating": 5,
          "spendings": 568.954,
          "test_drives": 170
         },
         {
          "campaign": 7,
          "exposure": 20,
          "rating": 1,
          "spendings": 471.814,
          "test_drives": 70
         },
         {
          "campaign": 8,
          "exposure": 22,
          "rating": 9,
          "spendings": 537.352,
          "test_drives": 210
         },
         {
          "campaign": 9,
          "exposure": 21,
          "rating": 7,
          "spendings": 514.068,
          "test_drives": 200
         },
         {
          "campaign": 10,
          "exposure": 40,
          "rating": 7,
          "spendings": 174.093,
          "test_drives": 300
         },
         {
          "campaign": 11,
          "exposure": 32,
          "rating": 7,
          "spendings": 1720.806,
          "test_drives": 290
         },
         {
          "campaign": 12,
          "exposure": 20,
          "rating": 2,
          "spendings": 611.479,
          "test_drives": 70
         },
         {
          "campaign": 13,
          "exposure": 24,
          "rating": 8,
          "spendings": 251.192,
          "test_drives": 150
         },
         {
          "campaign": 14,
          "exposure": 38,
          "rating": 6,
          "spendings": 97.972,
          "test_drives": 190
         },
         {
          "campaign": 15,
          "exposure": 24,
          "rating": 7,
          "spendings": 406.814,
          "test_drives": 240
         },
         {
          "campaign": 16,
          "exposure": 25,
          "rating": 5,
          "spendings": 265.398,
          "test_drives": 100
         },
         {
          "campaign": 17,
          "exposure": 35,
          "rating": 5,
          "spendings": 1323.287,
          "test_drives": 250
         },
         {
          "campaign": 18,
          "exposure": 36,
          "rating": 8,
          "spendings": 196.65,
          "test_drives": 210
         },
         {
          "campaign": 19,
          "exposure": 27,
          "rating": 8,
          "spendings": 1326.598,
          "test_drives": 280
         },
         {
          "campaign": 20,
          "exposure": 33,
          "rating": 8,
          "spendings": 1380.689,
          "test_drives": 230
         },
         {
          "campaign": 21,
          "exposure": 33,
          "rating": 7,
          "spendings": 792.345,
          "test_drives": 210
         },
         {
          "campaign": 22,
          "exposure": 28,
          "rating": 6,
          "spendings": 957.167,
          "test_drives": 230
         },
         {
          "campaign": 23,
          "exposure": 30,
          "rating": 9,
          "spendings": 1789.659,
          "test_drives": 320
         },
         {
          "campaign": 24,
          "exposure": 34,
          "rating": 7,
          "spendings": 656.137,
          "test_drives": 210
         },
         {
          "campaign": 25,
          "exposure": 49,
          "rating": 7,
          "spendings": 613.697,
          "test_drives": 230
         },
         {
          "campaign": 26,
          "exposure": 40,
          "rating": 8,
          "spendings": 313.362,
          "test_drives": 250
         },
         {
          "campaign": 27,
          "exposure": 20,
          "rating": 4,
          "spendings": 336.51,
          "test_drives": 60
         },
         {
          "campaign": 28,
          "exposure": 42,
          "rating": 7,
          "spendings": 1544.899,
          "test_drives": 330
         },
         {
          "campaign": 29,
          "exposure": 35,
          "rating": 8,
          "spendings": 68.954,
          "test_drives": 150
         },
         {
          "campaign": 30,
          "exposure": 8,
          "rating": 6,
          "spendings": 785.692,
          "test_drives": 150
         },
         {
          "campaign": 31,
          "exposure": 49,
          "rating": 7,
          "spendings": 125.628,
          "test_drives": 180
         },
         {
          "campaign": 32,
          "exposure": 19,
          "rating": 8,
          "spendings": 377.925,
          "test_drives": 80
         },
         {
          "campaign": 33,
          "exposure": 42,
          "rating": 6,
          "spendings": 217.994,
          "test_drives": 180
         },
         {
          "campaign": 34,
          "exposure": 6,
          "rating": 7,
          "spendings": 759.862,
          "test_drives": 130
         },
         {
          "campaign": 35,
          "exposure": 36,
          "rating": 6,
          "spendings": 1163.444,
          "test_drives": 320
         },
         {
          "campaign": 36,
          "exposure": 32,
          "rating": 7,
          "spendings": 842.957,
          "test_drives": 280
         },
         {
          "campaign": 37,
          "exposure": 28,
          "rating": 6,
          "spendings": 125.179,
          "test_drives": 200
         },
         {
          "campaign": 38,
          "exposure": 25,
          "rating": 8,
          "spendings": 236.598,
          "test_drives": 130
         },
         {
          "campaign": 39,
          "exposure": 34,
          "rating": 8,
          "spendings": 669.811,
          "test_drives": 190
         },
         {
          "campaign": 40,
          "exposure": 21,
          "rating": 6,
          "spendings": 612.234,
          "test_drives": 150
         },
         {
          "campaign": 41,
          "exposure": 34,
          "rating": 7,
          "spendings": 922.019,
          "test_drives": 230
         },
         {
          "campaign": 42,
          "exposure": 63,
          "rating": 7,
          "spendings": 50,
          "test_drives": 310
         },
         {
          "campaign": 43,
          "exposure": 31,
          "rating": 7,
          "spendings": 2000,
          "test_drives": 340
         },
         {
          "campaign": 44,
          "exposure": 25,
          "rating": 7,
          "spendings": 1054.027,
          "test_drives": 240
         },
         {
          "campaign": 45,
          "exposure": 42,
          "rating": 7,
          "spendings": 385.045,
          "test_drives": 180
         },
         {
          "campaign": 46,
          "exposure": 37,
          "rating": 7,
          "spendings": 1507.972,
          "test_drives": 220
         },
         {
          "campaign": 47,
          "exposure": 25,
          "rating": 8,
          "spendings": 102.568,
          "test_drives": 40
         },
         {
          "campaign": 48,
          "exposure": 26,
          "rating": 7,
          "spendings": 204.568,
          "test_drives": 190
         },
         {
          "campaign": 49,
          "exposure": 39,
          "rating": 7,
          "spendings": 1170.918,
          "test_drives": 290
         },
         {
          "campaign": 50,
          "exposure": 46,
          "rating": 7,
          "spendings": 689.547,
          "test_drives": 340
         },
         {
          "campaign": 51,
          "exposure": 36,
          "rating": 6,
          "spendings": 784.22,
          "test_drives": 250
         },
         {
          "campaign": 52,
          "exposure": 12,
          "rating": 4,
          "spendings": 405.913,
          "test_drives": 190
         },
         {
          "campaign": 53,
          "exposure": 2,
          "rating": 8,
          "spendings": 179.778,
          "test_drives": 120
         },
         {
          "campaign": 54,
          "exposure": 29,
          "rating": 8,
          "spendings": 607.258,
          "test_drives": 230
         },
         {
          "campaign": 55,
          "exposure": 33,
          "rating": 8,
          "spendings": 1542.329,
          "test_drives": 190
         },
         {
          "campaign": 56,
          "exposure": 28,
          "rating": 7,
          "spendings": 1112.47,
          "test_drives": 210
         },
         {
          "campaign": 57,
          "exposure": 10,
          "rating": 6,
          "spendings": 856.985,
          "test_drives": 170
         },
         {
          "campaign": 58,
          "exposure": 38,
          "rating": 7,
          "spendings": 836.331,
          "test_drives": 310
         },
         {
          "campaign": 59,
          "exposure": 19,
          "rating": 4,
          "spendings": 236.908,
          "test_drives": 90
         },
         {
          "campaign": 60,
          "exposure": 13,
          "rating": 6,
          "spendings": 1077.855,
          "test_drives": 140
         },
         {
          "campaign": 61,
          "exposure": 30,
          "rating": 7,
          "spendings": 579.321,
          "test_drives": 300
         },
         {
          "campaign": 62,
          "exposure": 38,
          "rating": 8,
          "spendings": 1500,
          "test_drives": 340
         },
         {
          "campaign": 63,
          "exposure": 22,
          "rating": 8,
          "spendings": 731.364,
          "test_drives": 170
         },
         {
          "campaign": 64,
          "exposure": 23,
          "rating": 6,
          "spendings": 25.689,
          "test_drives": 100
         },
         {
          "campaign": 65,
          "exposure": 22,
          "rating": 9,
          "spendings": 391.749,
          "test_drives": 200
         },
         {
          "campaign": 66,
          "exposure": 20,
          "rating": 7,
          "spendings": 233.999,
          "test_drives": 80
         },
         {
          "campaign": 67,
          "exposure": 18,
          "rating": 6,
          "spendings": 275.7,
          "test_drives": 100
         },
         {
          "campaign": 68,
          "exposure": 37,
          "rating": 7,
          "spendings": 56.895,
          "test_drives": 70
         },
         {
          "campaign": 69,
          "exposure": 16,
          "rating": 8,
          "spendings": 255.117,
          "test_drives": 50
         },
         {
          "campaign": 70,
          "exposure": 32,
          "rating": 8,
          "spendings": 566.501,
          "test_drives": 240
         },
         {
          "campaign": 71,
          "exposure": 26,
          "rating": 5,
          "spendings": 102.568,
          "test_drives": 160
         },
         {
          "campaign": 72,
          "exposure": 53,
          "rating": 9,
          "spendings": 250.568,
          "test_drives": 290
         },
         {
          "campaign": 73,
          "exposure": 28,
          "rating": 7,
          "spendings": 68.594,
          "test_drives": 140
         },
         {
          "campaign": 74,
          "exposure": 32,
          "rating": 7,
          "spendings": 642.786,
          "test_drives": 210
         },
         {
          "campaign": 75,
          "exposure": 24,
          "rating": 7,
          "spendings": 1500,
          "test_drives": 300
         },
         {
          "campaign": 76,
          "exposure": 37,
          "rating": 6,
          "spendings": 102.563,
          "test_drives": 230
         },
         {
          "campaign": 77,
          "exposure": 30,
          "rating": 8,
          "spendings": 756.984,
          "test_drives": 280
         },
         {
          "campaign": 78,
          "exposure": 19,
          "rating": 7,
          "spendings": 51.229,
          "test_drives": 160
         },
         {
          "campaign": 79,
          "exposure": 47,
          "rating": 6,
          "spendings": 644.151,
          "test_drives": 200
         },
         {
          "campaign": 80,
          "exposure": 22,
          "rating": 5,
          "spendings": 15.313,
          "test_drives": 110
         },
         {
          "campaign": 81,
          "exposure": 10,
          "rating": 8,
          "spendings": 243.237,
          "test_drives": 110
         },
         {
          "campaign": 82,
          "exposure": 1,
          "rating": 4,
          "spendings": 256.894,
          "test_drives": 70
         },
         {
          "campaign": 83,
          "exposure": 1,
          "rating": 6,
          "spendings": 22.464,
          "test_drives": 100
         },
         {
          "campaign": 84,
          "exposure": 39,
          "rating": 6,
          "spendings": 45.689,
          "test_drives": 190
         },
         {
          "campaign": 85,
          "exposure": 8,
          "rating": 5,
          "spendings": 724.938,
          "test_drives": 70
         },
         {
          "campaign": 86,
          "exposure": 38,
          "rating": 7,
          "spendings": 1126.461,
          "test_drives": 360
         },
         {
          "campaign": 87,
          "exposure": 35,
          "rating": 5,
          "spendings": 1985.119,
          "test_drives": 360
         },
         {
          "campaign": 88,
          "exposure": 40,
          "rating": 5,
          "spendings": 1837.516,
          "test_drives": 300
         },
         {
          "campaign": 89,
          "exposure": 22,
          "rating": 7,
          "spendings": 135.986,
          "test_drives": 120
         },
         {
          "campaign": 90,
          "exposure": 27,
          "rating": 8,
          "spendings": 237.703,
          "test_drives": 150
         },
         {
          "campaign": 91,
          "exposure": 31,
          "rating": 6,
          "spendings": 976.641,
          "test_drives": 220
         },
         {
          "campaign": 92,
          "exposure": 19,
          "rating": 7,
          "spendings": 1452.689,
          "test_drives": 280
         },
         {
          "campaign": 93,
          "exposure": 24,
          "rating": 9,
          "spendings": 1600,
          "test_drives": 300
         },
         {
          "campaign": 94,
          "exposure": 1,
          "rating": 7,
          "spendings": 268.598,
          "test_drives": 140
         },
         {
          "campaign": 95,
          "exposure": 38,
          "rating": 8,
          "spendings": 900.889,
          "test_drives": 290
         },
         {
          "campaign": 96,
          "exposure": 26,
          "rating": 6,
          "spendings": 982.063,
          "test_drives": 180
         },
         {
          "campaign": 97,
          "exposure": 11,
          "rating": 6,
          "spendings": 201.356,
          "test_drives": 140
         },
         {
          "campaign": 98,
          "exposure": 34,
          "rating": 6,
          "spendings": 746.024,
          "test_drives": 210
         },
         {
          "campaign": 99,
          "exposure": 55,
          "rating": 7,
          "spendings": 1132.877,
          "test_drives": 250
         },
         {
          "campaign": 100,
          "exposure": 5,
          "rating": 7,
          "spendings": 1000,
          "test_drives": 250
         },
         {
          "campaign": 101,
          "exposure": 34,
          "rating": 6,
          "spendings": 75.896,
          "test_drives": 120
         },
         {
          "campaign": 102,
          "exposure": 37,
          "rating": 9,
          "spendings": 1351.254,
          "test_drives": 290
         },
         {
          "campaign": 103,
          "exposure": 13,
          "rating": 8,
          "spendings": 202.705,
          "test_drives": 60
         },
         {
          "campaign": 104,
          "exposure": 23,
          "rating": 6,
          "spendings": 365.985,
          "test_drives": 140
         },
         {
          "campaign": 105,
          "exposure": 54,
          "rating": 6,
          "spendings": 305.268,
          "test_drives": 290
         },
         {
          "campaign": 106,
          "exposure": 18,
          "rating": 7,
          "spendings": 263.268,
          "test_drives": 160
         },
         {
          "campaign": 107,
          "exposure": 2,
          "rating": 7,
          "spendings": 513.694,
          "test_drives": 100
         },
         {
          "campaign": 108,
          "exposure": 11,
          "rating": 6,
          "spendings": 152.609,
          "test_drives": 160
         },
         {
          "campaign": 109,
          "exposure": 30,
          "rating": 8,
          "spendings": 35.987,
          "test_drives": 150
         },
         {
          "campaign": 110,
          "exposure": 22,
          "rating": 7,
          "spendings": 102.568,
          "test_drives": 140
         },
         {
          "campaign": 111,
          "exposure": 36,
          "rating": 6,
          "spendings": 215.368,
          "test_drives": 230
         },
         {
          "campaign": 112,
          "exposure": 37,
          "rating": 8,
          "spendings": 426.784,
          "test_drives": 230
         },
         {
          "campaign": 113,
          "exposure": 9,
          "rating": 3,
          "spendings": 507.772,
          "test_drives": 30
         },
         {
          "campaign": 114,
          "exposure": 2,
          "rating": 7,
          "spendings": 233.291,
          "test_drives": 80
         },
         {
          "campaign": 115,
          "exposure": 12,
          "rating": 8,
          "spendings": 1035.433,
          "test_drives": 190
         },
         {
          "campaign": 116,
          "exposure": 5,
          "rating": 9,
          "spendings": 102.642,
          "test_drives": 90
         },
         {
          "campaign": 117,
          "exposure": 14,
          "rating": 7,
          "spendings": 526.142,
          "test_drives": 120
         },
         {
          "campaign": 118,
          "exposure": 20,
          "rating": 5,
          "spendings": 624.538,
          "test_drives": 150
         },
         {
          "campaign": 119,
          "exposure": 57,
          "rating": 6,
          "spendings": 912.349,
          "test_drives": 230
         },
         {
          "campaign": 120,
          "exposure": 19,
          "rating": 8,
          "spendings": 215.994,
          "test_drives": 150
         },
         {
          "campaign": 121,
          "exposure": 35,
          "rating": 7,
          "spendings": 561.963,
          "test_drives": 210
         },
         {
          "campaign": 122,
          "exposure": 22,
          "rating": 5,
          "spendings": 474.76,
          "test_drives": 180
         },
         {
          "campaign": 123,
          "exposure": 16,
          "rating": 7,
          "spendings": 231.523,
          "test_drives": 140
         },
         {
          "campaign": 124,
          "exposure": 53,
          "rating": 7,
          "spendings": 678.596,
          "test_drives": 360
         },
         {
          "campaign": 125,
          "exposure": 4,
          "rating": 6,
          "spendings": 70.922,
          "test_drives": 10
         },
         {
          "campaign": 126,
          "exposure": 29,
          "rating": 6,
          "spendings": 1567.548,
          "test_drives": 240
         },
         {
          "campaign": 127,
          "exposure": 43,
          "rating": 7,
          "spendings": 263.598,
          "test_drives": 270
         },
         {
          "campaign": 128,
          "exposure": 26,
          "rating": 7,
          "spendings": 1423.568,
          "test_drives": 290
         },
         {
          "campaign": 129,
          "exposure": 28,
          "rating": 7,
          "spendings": 715.678,
          "test_drives": 220
         },
         {
          "campaign": 130,
          "exposure": 37,
          "rating": 8,
          "spendings": 777.237,
          "test_drives": 230
         },
         {
          "campaign": 131,
          "exposure": 32,
          "rating": 5,
          "spendings": 509.43,
          "test_drives": 220
         },
         {
          "campaign": 132,
          "exposure": 34,
          "rating": 7,
          "spendings": 964.11,
          "test_drives": 240
         },
         {
          "campaign": 133,
          "exposure": 30,
          "rating": 7,
          "spendings": 583.627,
          "test_drives": 260
         },
         {
          "campaign": 134,
          "exposure": 15,
          "rating": 7,
          "spendings": 923.373,
          "test_drives": 170
         },
         {
          "campaign": 135,
          "exposure": 23,
          "rating": 7,
          "spendings": 344.392,
          "test_drives": 130
         },
         {
          "campaign": 136,
          "exposure": 31,
          "rating": 8,
          "spendings": 1095.578,
          "test_drives": 270
         },
         {
          "campaign": 137,
          "exposure": 21,
          "rating": 5,
          "spendings": 100.025,
          "test_drives": 140
         },
         {
          "campaign": 138,
          "exposure": 28,
          "rating": 1,
          "spendings": 30.425,
          "test_drives": 60
         },
         {
          "campaign": 139,
          "exposure": 18,
          "rating": 7,
          "spendings": 1080.342,
          "test_drives": 210
         },
         {
          "campaign": 140,
          "exposure": 28,
          "rating": 7,
          "spendings": 799.899,
          "test_drives": 210
         },
         {
          "campaign": 141,
          "exposure": 37,
          "rating": 8,
          "spendings": 1071.752,
          "test_drives": 240
         },
         {
          "campaign": 142,
          "exposure": 26,
          "rating": 6,
          "spendings": 893.355,
          "test_drives": 210
         },
         {
          "campaign": 143,
          "exposure": 30,
          "rating": 8,
          "spendings": 283.161,
          "test_drives": 200
         },
         {
          "campaign": 144,
          "exposure": 10,
          "rating": 7,
          "spendings": 917.017,
          "test_drives": 140
         },
         {
          "campaign": 145,
          "exposure": 21,
          "rating": 7,
          "spendings": 234.568,
          "test_drives": 90
         },
         {
          "campaign": 146,
          "exposure": 18,
          "rating": 9,
          "spendings": 456.897,
          "test_drives": 120
         },
         {
          "campaign": 147,
          "exposure": 14,
          "rating": 7,
          "spendings": 206.973,
          "test_drives": 100
         },
         {
          "campaign": 148,
          "exposure": 38,
          "rating": 7,
          "spendings": 1294.099,
          "test_drives": 360
         },
         {
          "campaign": 149,
          "exposure": 36,
          "rating": 6,
          "spendings": 826.859,
          "test_drives": 180
         },
         {
          "campaign": 150,
          "exposure": 32,
          "rating": 7,
          "spendings": 564.158,
          "test_drives": 150
         },
         {
          "campaign": 151,
          "exposure": 9,
          "rating": 5,
          "spendings": 192.607,
          "test_drives": 110
         },
         {
          "campaign": 152,
          "exposure": 39,
          "rating": 5,
          "spendings": 10.652,
          "test_drives": 90
         },
         {
          "campaign": 153,
          "exposure": 24,
          "rating": 7,
          "spendings": 45.689,
          "test_drives": 160
         },
         {
          "campaign": 154,
          "exposure": 45,
          "rating": 7,
          "spendings": 42.568,
          "test_drives": 230
         },
         {
          "campaign": 155,
          "exposure": 13,
          "rating": 8,
          "spendings": 20.456,
          "test_drives": 40
         },
         {
          "campaign": 156,
          "exposure": 17,
          "rating": 6,
          "spendings": 635.192,
          "test_drives": 60
         },
         {
          "campaign": 157,
          "exposure": 32,
          "rating": 7,
          "spendings": 1002.273,
          "test_drives": 230
         },
         {
          "campaign": 158,
          "exposure": 23,
          "rating": 6,
          "spendings": 1177.047,
          "test_drives": 230
         },
         {
          "campaign": 159,
          "exposure": 0,
          "rating": 6,
          "spendings": 507.638,
          "test_drives": 120
         },
         {
          "campaign": 160,
          "exposure": 35,
          "rating": 5,
          "spendings": 215.689,
          "test_drives": 150
         },
         {
          "campaign": 161,
          "exposure": 26,
          "rating": 6,
          "spendings": 526.48,
          "test_drives": 120
         },
         {
          "campaign": 162,
          "exposure": 19,
          "rating": 6,
          "spendings": 26.895,
          "test_drives": 60
         },
         {
          "campaign": 163,
          "exposure": 26,
          "rating": 7,
          "spendings": 883.877,
          "test_drives": 280
         },
         {
          "campaign": 164,
          "exposure": 53,
          "rating": 8,
          "spendings": 9.104,
          "test_drives": 120
         },
         {
          "campaign": 165,
          "exposure": 29,
          "rating": 8,
          "spendings": 103.568,
          "test_drives": 230
         },
         {
          "campaign": 166,
          "exposure": 28,
          "rating": 7,
          "spendings": 169.583,
          "test_drives": 230
         },
         {
          "campaign": 167,
          "exposure": 17,
          "rating": 6,
          "spendings": 429.504,
          "test_drives": 40
         },
         {
          "campaign": 168,
          "exposure": 26,
          "rating": 8,
          "spendings": 223.639,
          "test_drives": 140
         },
         {
          "campaign": 169,
          "exposure": 42,
          "rating": 8,
          "spendings": 145.585,
          "test_drives": 360
         },
         {
          "campaign": 170,
          "exposure": 17,
          "rating": 6,
          "spendings": 985.968,
          "test_drives": 210
         },
         {
          "campaign": 171,
          "exposure": 36,
          "rating": 8,
          "spendings": 500.922,
          "test_drives": 260
         },
         {
          "campaign": 172,
          "exposure": 45,
          "rating": 7,
          "spendings": 226.652,
          "test_drives": 250
         },
         {
          "campaign": 173,
          "exposure": 20,
          "rating": 7,
          "spendings": 1051.168,
          "test_drives": 200
         },
         {
          "campaign": 174,
          "exposure": 15,
          "rating": 7,
          "spendings": 68.093,
          "test_drives": 150
         },
         {
          "campaign": 175,
          "exposure": 28,
          "rating": 8,
          "spendings": 1547.159,
          "test_drives": 250
         },
         {
          "campaign": 176,
          "exposure": 27,
          "rating": 6,
          "spendings": 393.774,
          "test_drives": 100
         },
         {
          "campaign": 177,
          "exposure": 17,
          "rating": 8,
          "spendings": 804.282,
          "test_drives": 260
         },
         {
          "campaign": 178,
          "exposure": 32,
          "rating": 8,
          "spendings": 801.577,
          "test_drives": 210
         },
         {
          "campaign": 179,
          "exposure": 46,
          "rating": 9,
          "spendings": 450.562,
          "test_drives": 290
         },
         {
          "campaign": 180,
          "exposure": 47,
          "rating": 8,
          "spendings": 26.598,
          "test_drives": 220
         },
         {
          "campaign": 181,
          "exposure": 19,
          "rating": 1,
          "spendings": 179.061,
          "test_drives": 70
         },
         {
          "campaign": 182,
          "exposure": 22,
          "rating": 8,
          "spendings": 345.687,
          "test_drives": 110
         },
         {
          "campaign": 183,
          "exposure": 55,
          "rating": 9,
          "spendings": 295.84,
          "test_drives": 250
         },
         {
          "campaign": 184,
          "exposure": 31,
          "rating": 5,
          "spendings": 2271.86,
          "test_drives": 320
         },
         {
          "campaign": 185,
          "exposure": 39,
          "rating": 8,
          "spendings": 1134.575,
          "test_drives": 300
         },
         {
          "campaign": 186,
          "exposure": 21,
          "rating": 6,
          "spendings": 601.434,
          "test_drives": 180
         },
         {
          "campaign": 187,
          "exposure": 36,
          "rating": 6,
          "spendings": 45.298,
          "test_drives": 180
         },
         {
          "campaign": 188,
          "exposure": 21,
          "rating": 7,
          "spendings": 759.518,
          "test_drives": 200
         },
         {
          "campaign": 189,
          "exposure": 44,
          "rating": 7,
          "spendings": 832.869,
          "test_drives": 320
         },
         {
          "campaign": 190,
          "exposure": 27,
          "rating": 7,
          "spendings": 56.894,
          "test_drives": 140
         },
         {
          "campaign": 191,
          "exposure": 16,
          "rating": 6,
          "spendings": 709.399,
          "test_drives": 100
         },
         {
          "campaign": 192,
          "exposure": 33,
          "rating": 6,
          "spendings": 56.895,
          "test_drives": 120
         },
         {
          "campaign": 193,
          "exposure": 33,
          "rating": 8,
          "spendings": 767.134,
          "test_drives": 230
         },
         {
          "campaign": 194,
          "exposure": 21,
          "rating": 7,
          "spendings": 503.172,
          "test_drives": 150
         },
         {
          "campaign": 195,
          "exposure": 35,
          "rating": 9,
          "spendings": 700.929,
          "test_drives": 250
         },
         {
          "campaign": 196,
          "exposure": 26,
          "rating": 7,
          "spendings": 910.851,
          "test_drives": 190
         },
         {
          "campaign": 197,
          "exposure": 14,
          "rating": 6,
          "spendings": 888.569,
          "test_drives": 240
         },
         {
          "campaign": 198,
          "exposure": 34,
          "rating": 6,
          "spendings": 800.615,
          "test_drives": 250
         },
         {
          "campaign": 199,
          "exposure": 11,
          "rating": 8,
          "spendings": 1500,
          "test_drives": 230
         },
         {
          "campaign": 200,
          "exposure": 20,
          "rating": 9,
          "spendings": 785.694,
          "test_drives": 110
         }
        ]
       },
       "encoding": {
        "x": {
         "field": "rating",
         "type": "quantitative"
        },
        "y": {
         "field": "test_drives",
         "type": "quantitative"
        }
       },
       "mark": "circle"
      },
      "text/plain": [
       "<VegaLite 4 object>\n",
       "\n",
       "If you see this message, it means the renderer has not been properly enabled\n",
       "for the frontend that you are using. For more information, see\n",
       "https://altair-viz.github.io/user_guide/troubleshooting.html\n"
      ]
     },
     "execution_count": 18,
     "metadata": {},
     "output_type": "execute_result"
    }
   ],
   "source": [
    "alt.Chart(df).mark_circle().encode(\n",
    "    x='rating',\n",
    "    y='test_drives'\n",
    ")"
   ]
  },
  {
   "cell_type": "code",
   "execution_count": null,
   "metadata": {
    "deletable": false,
    "editable": false,
    "nbgrader": {
     "cell_type": "code",
     "checksum": "f740fa149db2143e1f2e4708d808e04c",
     "grade": true,
     "grade_id": "3a_c1",
     "locked": true,
     "points": 1,
     "schema_version": 3,
     "solution": false,
     "task": false
    }
   },
   "outputs": [],
   "source": [
    "# Nehmen Sie keine Änderungen an dieser Zelle vor\n"
   ]
  },
  {
   "cell_type": "code",
   "execution_count": null,
   "metadata": {
    "deletable": false,
    "editable": false,
    "nbgrader": {
     "cell_type": "code",
     "checksum": "28f2f26a687b062d45a0c713dca9b7aa",
     "grade": true,
     "grade_id": "3a_c2",
     "locked": true,
     "points": 1,
     "schema_version": 3,
     "solution": false,
     "task": false
    }
   },
   "outputs": [],
   "source": [
    "# Nehmen Sie keine Änderungen an dieser Zelle vor\n"
   ]
  },
  {
   "cell_type": "code",
   "execution_count": null,
   "metadata": {
    "deletable": false,
    "editable": false,
    "nbgrader": {
     "cell_type": "code",
     "checksum": "502d8d4ad1359e7072c10e2d6b41135c",
     "grade": true,
     "grade_id": "3a_c3",
     "locked": true,
     "points": 1,
     "schema_version": 3,
     "solution": false,
     "task": false
    }
   },
   "outputs": [],
   "source": [
    "# Nehmen Sie keine Änderungen an dieser Zelle vor\n"
   ]
  },
  {
   "cell_type": "code",
   "execution_count": null,
   "metadata": {
    "deletable": false,
    "editable": false,
    "nbgrader": {
     "cell_type": "code",
     "checksum": "34d2c5a592e212a2b754350512b24d78",
     "grade": true,
     "grade_id": "3a_c4",
     "locked": true,
     "points": 1,
     "schema_version": 3,
     "solution": false,
     "task": false
    }
   },
   "outputs": [],
   "source": [
    "# Nehmen Sie keine Änderungen an dieser Zelle vor\n"
   ]
  },
  {
   "attachments": {},
   "cell_type": "markdown",
   "metadata": {
    "deletable": false,
    "editable": false,
    "nbgrader": {
     "cell_type": "markdown",
     "checksum": "d3e0c84e90e79d645083c7e1d19a451e",
     "grade": false,
     "grade_id": "cell-10567812df4604e7",
     "locked": true,
     "schema_version": 3,
     "solution": false,
     "task": false
    }
   },
   "source": [
    "### Daten splitten"
   ]
  },
  {
   "attachments": {},
   "cell_type": "markdown",
   "metadata": {
    "deletable": false,
    "editable": false,
    "nbgrader": {
     "cell_type": "markdown",
     "checksum": "1b43b4ec5b11c870e38d6d822c4df23f",
     "grade": false,
     "grade_id": "cell-38893407fa1547da",
     "locked": true,
     "schema_version": 3,
     "solution": false,
     "task": false
    }
   },
   "source": [
    "Wir führen den Datensplit für die spätere Modellierung durch (keine Änderungen an dem Code vornehmem).\n"
   ]
  },
  {
   "cell_type": "code",
   "execution_count": 19,
   "metadata": {
    "deletable": false,
    "editable": false,
    "nbgrader": {
     "cell_type": "code",
     "checksum": "3c5ce2eb8804b665a75e7afd236933c1",
     "grade": false,
     "grade_id": "cell-375750721236d55f",
     "locked": true,
     "schema_version": 3,
     "solution": false,
     "task": false
    }
   },
   "outputs": [],
   "source": [
    "# Nehmen Sie keine Änderungen an dieser Zelle vor\n",
    "\n",
    "X_train, X_test, y_train, y_test = train_test_split(X, y, test_size=0.3, random_state = 1)"
   ]
  },
  {
   "attachments": {},
   "cell_type": "markdown",
   "metadata": {
    "deletable": false,
    "editable": false,
    "nbgrader": {
     "cell_type": "markdown",
     "checksum": "0419700eb145bf47da35a899c1ff34c0",
     "grade": false,
     "grade_id": "cell-c9a2d838bb713784",
     "locked": true,
     "schema_version": 3,
     "solution": false,
     "task": false
    },
    "slideshow": {
     "slide_type": "slide"
    }
   },
   "source": [
    "## 4) Model"
   ]
  },
  {
   "attachments": {},
   "cell_type": "markdown",
   "metadata": {
    "deletable": false,
    "editable": false,
    "nbgrader": {
     "cell_type": "markdown",
     "checksum": "94a16f34954ea6638a49297b022b1b97",
     "grade": false,
     "grade_id": "cell-623180475652349c",
     "locked": true,
     "schema_version": 3,
     "solution": false,
     "task": false
    },
    "slideshow": {
     "slide_type": "fragment"
    }
   },
   "source": [
    "### Modell auswählen"
   ]
  },
  {
   "attachments": {},
   "cell_type": "markdown",
   "metadata": {
    "deletable": false,
    "editable": false,
    "nbgrader": {
     "cell_type": "markdown",
     "checksum": "22ef4d96063856543f84cfb422632ebd",
     "grade": false,
     "grade_id": "cell-7f5d931dd91ba677",
     "locked": true,
     "schema_version": 3,
     "solution": false,
     "task": false
    }
   },
   "source": [
    "- 4a) Modell auswählen\n",
    "  - Wählen Sie ein für Ihre Problemstellung geeignetes Modell aus (Sie wurden angewiesen, einen Gradient Boosted Tree zu verwenden) \n",
    "  - Speichern Sie das Modell unter der Bezeichnung `model`"
   ]
  },
  {
   "cell_type": "code",
   "execution_count": 20,
   "metadata": {
    "deletable": false,
    "nbgrader": {
     "cell_type": "code",
     "checksum": "a8a95ce4e5061541d34ad353dfc12d5b",
     "grade": false,
     "grade_id": "4a",
     "locked": false,
     "schema_version": 3,
     "solution": true,
     "task": false
    },
    "slideshow": {
     "slide_type": "fragment"
    }
   },
   "outputs": [],
   "source": [
    "model = GradientBoostingRegressor()"
   ]
  },
  {
   "cell_type": "code",
   "execution_count": null,
   "metadata": {
    "deletable": false,
    "editable": false,
    "nbgrader": {
     "cell_type": "code",
     "checksum": "06e5c3fd0fe293634158521659f3a3aa",
     "grade": true,
     "grade_id": "4a_c",
     "locked": true,
     "points": 1,
     "schema_version": 3,
     "solution": false,
     "task": false
    }
   },
   "outputs": [],
   "source": [
    "# Nehmen Sie keine Änderungen an dieser Zelle vor\n"
   ]
  },
  {
   "attachments": {},
   "cell_type": "markdown",
   "metadata": {
    "deletable": false,
    "editable": false,
    "nbgrader": {
     "cell_type": "markdown",
     "checksum": "3e23431a87af9f28b05c83acc546b244",
     "grade": false,
     "grade_id": "cell-c6440e5c91ad281b",
     "locked": true,
     "schema_version": 3,
     "solution": false,
     "task": false
    },
    "slideshow": {
     "slide_type": "fragment"
    }
   },
   "source": [
    "### Training"
   ]
  },
  {
   "attachments": {},
   "cell_type": "markdown",
   "metadata": {
    "deletable": false,
    "editable": false,
    "nbgrader": {
     "cell_type": "markdown",
     "checksum": "aa49c581b3f3bf76d1669c7d7584a9ee",
     "grade": false,
     "grade_id": "cell-b7e2014c7a5e9ab8",
     "locked": true,
     "schema_version": 3,
     "solution": false,
     "task": false
    }
   },
   "source": [
    "- 4b) Führen Sie das Modell-Training durch"
   ]
  },
  {
   "cell_type": "code",
   "execution_count": 21,
   "metadata": {
    "deletable": false,
    "nbgrader": {
     "cell_type": "code",
     "checksum": "025ae8fae0d44acfabb8bc8b8fdabd1b",
     "grade": false,
     "grade_id": "4b",
     "locked": false,
     "schema_version": 3,
     "solution": true,
     "task": false
    }
   },
   "outputs": [
    {
     "data": {
      "text/html": [
       "<style>#sk-container-id-1 {color: black;background-color: white;}#sk-container-id-1 pre{padding: 0;}#sk-container-id-1 div.sk-toggleable {background-color: white;}#sk-container-id-1 label.sk-toggleable__label {cursor: pointer;display: block;width: 100%;margin-bottom: 0;padding: 0.3em;box-sizing: border-box;text-align: center;}#sk-container-id-1 label.sk-toggleable__label-arrow:before {content: \"▸\";float: left;margin-right: 0.25em;color: #696969;}#sk-container-id-1 label.sk-toggleable__label-arrow:hover:before {color: black;}#sk-container-id-1 div.sk-estimator:hover label.sk-toggleable__label-arrow:before {color: black;}#sk-container-id-1 div.sk-toggleable__content {max-height: 0;max-width: 0;overflow: hidden;text-align: left;background-color: #f0f8ff;}#sk-container-id-1 div.sk-toggleable__content pre {margin: 0.2em;color: black;border-radius: 0.25em;background-color: #f0f8ff;}#sk-container-id-1 input.sk-toggleable__control:checked~div.sk-toggleable__content {max-height: 200px;max-width: 100%;overflow: auto;}#sk-container-id-1 input.sk-toggleable__control:checked~label.sk-toggleable__label-arrow:before {content: \"▾\";}#sk-container-id-1 div.sk-estimator input.sk-toggleable__control:checked~label.sk-toggleable__label {background-color: #d4ebff;}#sk-container-id-1 div.sk-label input.sk-toggleable__control:checked~label.sk-toggleable__label {background-color: #d4ebff;}#sk-container-id-1 input.sk-hidden--visually {border: 0;clip: rect(1px 1px 1px 1px);clip: rect(1px, 1px, 1px, 1px);height: 1px;margin: -1px;overflow: hidden;padding: 0;position: absolute;width: 1px;}#sk-container-id-1 div.sk-estimator {font-family: monospace;background-color: #f0f8ff;border: 1px dotted black;border-radius: 0.25em;box-sizing: border-box;margin-bottom: 0.5em;}#sk-container-id-1 div.sk-estimator:hover {background-color: #d4ebff;}#sk-container-id-1 div.sk-parallel-item::after {content: \"\";width: 100%;border-bottom: 1px solid gray;flex-grow: 1;}#sk-container-id-1 div.sk-label:hover label.sk-toggleable__label {background-color: #d4ebff;}#sk-container-id-1 div.sk-serial::before {content: \"\";position: absolute;border-left: 1px solid gray;box-sizing: border-box;top: 0;bottom: 0;left: 50%;z-index: 0;}#sk-container-id-1 div.sk-serial {display: flex;flex-direction: column;align-items: center;background-color: white;padding-right: 0.2em;padding-left: 0.2em;position: relative;}#sk-container-id-1 div.sk-item {position: relative;z-index: 1;}#sk-container-id-1 div.sk-parallel {display: flex;align-items: stretch;justify-content: center;background-color: white;position: relative;}#sk-container-id-1 div.sk-item::before, #sk-container-id-1 div.sk-parallel-item::before {content: \"\";position: absolute;border-left: 1px solid gray;box-sizing: border-box;top: 0;bottom: 0;left: 50%;z-index: -1;}#sk-container-id-1 div.sk-parallel-item {display: flex;flex-direction: column;z-index: 1;position: relative;background-color: white;}#sk-container-id-1 div.sk-parallel-item:first-child::after {align-self: flex-end;width: 50%;}#sk-container-id-1 div.sk-parallel-item:last-child::after {align-self: flex-start;width: 50%;}#sk-container-id-1 div.sk-parallel-item:only-child::after {width: 0;}#sk-container-id-1 div.sk-dashed-wrapped {border: 1px dashed gray;margin: 0 0.4em 0.5em 0.4em;box-sizing: border-box;padding-bottom: 0.4em;background-color: white;}#sk-container-id-1 div.sk-label label {font-family: monospace;font-weight: bold;display: inline-block;line-height: 1.2em;}#sk-container-id-1 div.sk-label-container {text-align: center;}#sk-container-id-1 div.sk-container {/* jupyter's `normalize.less` sets `[hidden] { display: none; }` but bootstrap.min.css set `[hidden] { display: none !important; }` so we also need the `!important` here to be able to override the default hidden behavior on the sphinx rendered scikit-learn.org. See: https://github.com/scikit-learn/scikit-learn/issues/21755 */display: inline-block !important;position: relative;}#sk-container-id-1 div.sk-text-repr-fallback {display: none;}</style><div id=\"sk-container-id-1\" class=\"sk-top-container\"><div class=\"sk-text-repr-fallback\"><pre>GradientBoostingRegressor()</pre><b>In a Jupyter environment, please rerun this cell to show the HTML representation or trust the notebook. <br />On GitHub, the HTML representation is unable to render, please try loading this page with nbviewer.org.</b></div><div class=\"sk-container\" hidden><div class=\"sk-item\"><div class=\"sk-estimator sk-toggleable\"><input class=\"sk-toggleable__control sk-hidden--visually\" id=\"sk-estimator-id-1\" type=\"checkbox\" checked><label for=\"sk-estimator-id-1\" class=\"sk-toggleable__label sk-toggleable__label-arrow\">GradientBoostingRegressor</label><div class=\"sk-toggleable__content\"><pre>GradientBoostingRegressor()</pre></div></div></div></div></div>"
      ],
      "text/plain": [
       "GradientBoostingRegressor()"
      ]
     },
     "execution_count": 21,
     "metadata": {},
     "output_type": "execute_result"
    }
   ],
   "source": [
    "model.fit(X_train, y_train)"
   ]
  },
  {
   "cell_type": "code",
   "execution_count": null,
   "metadata": {
    "deletable": false,
    "editable": false,
    "nbgrader": {
     "cell_type": "code",
     "checksum": "ec3bd25d92f360ecd060b25b9fe5a9c9",
     "grade": true,
     "grade_id": "4b_c",
     "locked": true,
     "points": 1,
     "schema_version": 3,
     "solution": false,
     "task": false
    }
   },
   "outputs": [],
   "source": [
    "# Nehmen Sie keine Änderungen an dieser Zelle vor\n"
   ]
  },
  {
   "attachments": {},
   "cell_type": "markdown",
   "metadata": {
    "deletable": false,
    "editable": false,
    "nbgrader": {
     "cell_type": "markdown",
     "checksum": "add66378e54096e6567a8a014eed8cc1",
     "grade": false,
     "grade_id": "cell-284d0e177274dc65",
     "locked": true,
     "schema_version": 3,
     "solution": false,
     "task": false
    },
    "slideshow": {
     "slide_type": "slide"
    }
   },
   "source": [
    "### Evaluation des Modells"
   ]
  },
  {
   "attachments": {},
   "cell_type": "markdown",
   "metadata": {
    "deletable": false,
    "editable": false,
    "nbgrader": {
     "cell_type": "markdown",
     "checksum": "32948b95527fb7c2d8c0ae7e94d48882",
     "grade": false,
     "grade_id": "cell-d9722d563461edc8",
     "locked": true,
     "schema_version": 3,
     "solution": false,
     "task": false
    }
   },
   "source": [
    "- 4e) Führen Sie die Modellvorhersage durch und speichern Sie das Ergebnis mit der Bezeichnung `y_pred`"
   ]
  },
  {
   "cell_type": "code",
   "execution_count": 22,
   "metadata": {
    "deletable": false,
    "nbgrader": {
     "cell_type": "code",
     "checksum": "04f4fcc3473c2a6fcd0de57a5f8f6d0a",
     "grade": false,
     "grade_id": "4e",
     "locked": false,
     "schema_version": 3,
     "solution": true,
     "task": false
    },
    "slideshow": {
     "slide_type": "fragment"
    }
   },
   "outputs": [],
   "source": [
    "y_pred = model.predict(X_test)"
   ]
  },
  {
   "attachments": {},
   "cell_type": "markdown",
   "metadata": {
    "deletable": false,
    "editable": false,
    "nbgrader": {
     "cell_type": "markdown",
     "checksum": "16af239d076ac5871489749b3ebca747",
     "grade": false,
     "grade_id": "cell-04b19b150d45f974",
     "locked": true,
     "schema_version": 3,
     "solution": false,
     "task": false
    }
   },
   "source": [
    "Ausgabe von `y_pred`"
   ]
  },
  {
   "cell_type": "code",
   "execution_count": 23,
   "metadata": {
    "deletable": false,
    "editable": false,
    "nbgrader": {
     "cell_type": "code",
     "checksum": "54a570024ac3ce8d205498b1deab6d40",
     "grade": false,
     "grade_id": "cell-006ab667dd90d3fd",
     "locked": true,
     "schema_version": 3,
     "solution": false,
     "task": false
    }
   },
   "outputs": [
    {
     "data": {
      "text/plain": [
       "array([ 68.1189161 , 232.72749202, 285.31309758, 113.04546727,\n",
       "       322.08289086, 280.65071979, 171.48284196, 261.69934391,\n",
       "       134.38217729, 228.40016235, 249.42755132, 288.44459159,\n",
       "        84.48014073, 128.2445909 , 192.53089072, 301.22082243,\n",
       "       190.52249613, 241.82819886, 135.79803371, 217.99998858,\n",
       "        62.68470377, 301.1176793 , 252.1138626 , 307.4083424 ,\n",
       "       115.12874937, 209.53221158, 222.93452444, 138.23883214,\n",
       "       162.94067369, 252.00321787, 127.81534598, 150.68520254,\n",
       "       253.40235262, 228.76793842, 144.62297337, 230.44487618,\n",
       "       222.65119237, 220.01990626, 194.18758476, 229.91544461,\n",
       "       123.54337902, 126.28279069, 103.8913961 , 132.79685748,\n",
       "       184.59056653, 282.76443562, 218.14911939, 157.84091666,\n",
       "       162.06875167, 110.98512793, 318.16150223, 275.36461371,\n",
       "       107.31737386, 234.15476422, 167.1620306 , 168.65323571,\n",
       "       137.10095428, 123.09422593, 179.20386835, 220.14439148])"
      ]
     },
     "execution_count": 23,
     "metadata": {},
     "output_type": "execute_result"
    }
   ],
   "source": [
    "# Nehmen Sie keine Änderungen an dieser Zelle vor\n",
    "\n",
    "y_pred"
   ]
  },
  {
   "cell_type": "code",
   "execution_count": null,
   "metadata": {
    "deletable": false,
    "editable": false,
    "nbgrader": {
     "cell_type": "code",
     "checksum": "35a24948f8c7d83df95beedde1d969ba",
     "grade": true,
     "grade_id": "4e_c1",
     "locked": true,
     "points": 1,
     "schema_version": 3,
     "solution": false,
     "task": false
    }
   },
   "outputs": [],
   "source": [
    "# Nehmen Sie keine Änderungen an dieser Zelle vor\n"
   ]
  },
  {
   "cell_type": "code",
   "execution_count": null,
   "metadata": {
    "deletable": false,
    "editable": false,
    "nbgrader": {
     "cell_type": "code",
     "checksum": "7ed3fe5db844b50cbad40554fe707060",
     "grade": true,
     "grade_id": "4e_c2",
     "locked": true,
     "points": 1,
     "schema_version": 3,
     "solution": false,
     "task": false
    }
   },
   "outputs": [],
   "source": [
    "# Nehmen Sie keine Änderungen an dieser Zelle vor\n"
   ]
  },
  {
   "attachments": {},
   "cell_type": "markdown",
   "metadata": {
    "deletable": false,
    "editable": false,
    "nbgrader": {
     "cell_type": "markdown",
     "checksum": "a3c31ac5fbe505208187123d1d6888e6",
     "grade": false,
     "grade_id": "cell-42b05391b7882753",
     "locked": true,
     "schema_version": 3,
     "solution": false,
     "task": false
    }
   },
   "source": [
    "- 4f) Führen Sie eine ausführliche Evaluierung des Modells durch und interpretieren Sie die Ergebnisse"
   ]
  },
  {
   "cell_type": "code",
   "execution_count": 25,
   "metadata": {
    "deletable": false,
    "nbgrader": {
     "cell_type": "code",
     "checksum": "6f3db91f13f285474a80b16398949441",
     "grade": false,
     "grade_id": "4f",
     "locked": false,
     "schema_version": 3,
     "solution": true,
     "task": false
    }
   },
   "outputs": [
    {
     "data": {
      "text/plain": [
       "2704.731899531797"
      ]
     },
     "execution_count": 25,
     "metadata": {},
     "output_type": "execute_result"
    }
   ],
   "source": [
    "mean_squared_error(y_test, y_pred)"
   ]
  },
  {
   "cell_type": "code",
   "execution_count": 26,
   "metadata": {},
   "outputs": [
    {
     "data": {
      "text/plain": [
       "52.00703701934765"
      ]
     },
     "execution_count": 26,
     "metadata": {},
     "output_type": "execute_result"
    }
   ],
   "source": [
    "mean_squared_error(y_test, y_pred, squared=False)"
   ]
  },
  {
   "cell_type": "code",
   "execution_count": 27,
   "metadata": {},
   "outputs": [
    {
     "data": {
      "text/plain": [
       "0.4790215657486413"
      ]
     },
     "execution_count": 27,
     "metadata": {},
     "output_type": "execute_result"
    }
   ],
   "source": [
    "r2_score(y_test, y_pred)"
   ]
  },
  {
   "cell_type": "code",
   "execution_count": null,
   "metadata": {
    "deletable": false,
    "editable": false,
    "nbgrader": {
     "cell_type": "code",
     "checksum": "22e7c4ae4eeabe15ed81acbe2e9305ff",
     "grade": true,
     "grade_id": "4f_c",
     "locked": true,
     "points": 1,
     "schema_version": 3,
     "solution": false,
     "task": false
    }
   },
   "outputs": [],
   "source": [
    "# Nehmen Sie keine Änderungen an dieser Zelle vor\n"
   ]
  },
  {
   "attachments": {},
   "cell_type": "markdown",
   "metadata": {
    "deletable": false,
    "editable": false,
    "nbgrader": {
     "cell_type": "markdown",
     "checksum": "5af7d697c71813cd3da743f7a9b0f2ec",
     "grade": false,
     "grade_id": "cell-b2a80438f23087e6",
     "locked": true,
     "schema_version": 3,
     "solution": false,
     "task": false
    }
   },
   "source": [
    "Glückwunsch! Dies war die letzte Aufgabe in dem Notebook. "
   ]
  }
 ],
 "metadata": {
  "kernelspec": {
   "display_name": "mr",
   "language": "python",
   "name": "python3"
  },
  "language_info": {
   "codemirror_mode": {
    "name": "ipython",
    "version": 3
   },
   "file_extension": ".py",
   "mimetype": "text/x-python",
   "name": "python",
   "nbconvert_exporter": "python",
   "pygments_lexer": "ipython3",
   "version": "3.9.16"
  },
  "vscode": {
   "interpreter": {
    "hash": "f67a6e0a9398ad1027ae219b06127e0fb4d07effe0ce32feaf43ec972fa20a12"
   }
  }
 },
 "nbformat": 4,
 "nbformat_minor": 2
}
